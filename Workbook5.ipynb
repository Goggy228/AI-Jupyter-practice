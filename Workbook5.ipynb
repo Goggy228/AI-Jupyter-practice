{
 "cells": [
  {
   "cell_type": "markdown",
   "id": "198f7238",
   "metadata": {},
   "source": [
    "# Теоретический материал – Деревья принятия решений\n",
    "\n",
    "Деревья решений являются одним из наиболее эффективных инструментов интеллектуального анализа данных и предсказательной аналитики, которые позволяют решать задачи классификации и регрессии.\n",
    "\n",
    "Перед тем как непосредственно перейти к решению задач с использование данного инструмента рассмотрим общее понятие \"дерево\" в информатике и способы задания деревьев в языке Python.\n",
    "\n",
    "Деревья принадлежат к числу основных структур данных, используемых в программировании. Древовидная структура является одним из способов представления иерархической структуры в графическом виде. Такое название она получила потому, что граф выглядит как перевернутое дерево. Корень дерева (корневой узел) находится на самом верху, а листья (потомки) — внизу.\n",
    "\n",
    "Деревья широко применяются в компьютерных технологиях. Примером является файловая система, представляющая собой иерархическую структуру из файлов и каталогов.\n",
    "\n",
    "Схематично дерево и его основные элементы приведены на рисунке ниже.\n",
    "\n",
    "![wb5_ph1](photos/wb5_ph1.png)\n",
    "\n",
    "На рисунке изображены родительские отношения (ребра, ветви дерева) между узлами (вершинами) дерева. На верхнем уровне каждый «родитель» указывает на своих «потомков». То есть в этой иерархической структуре вершина всегда «знает» своих потомков.\n",
    "\n",
    "Для того чтобы более точно оперировать структурой Дерево, нужно дать определение некоторым ключевым понятиям: \n",
    "- корневой узел — самый верхний узел дерева, он не имеет предков;\n",
    "- лист, листовой или терминальный узел — конечный узел, то есть не имеющий потомков;\n",
    "- внутренний узел — любой узел дерева, имеющий потомков, то есть не лист.\n",
    "\n",
    "С корневого узла начинается выполнение большинства операций над деревом. Чтобы получить доступ к любому элементу структуры,\n",
    "необходимо, переходя по ветвям, перебирать элементы, начиная с головы — корневого узла. Корневой узел — это своеобразный вход в дерево. Большинство алгоритмов работы с деревом строятся на том, что каждый узел дерева рассматриваются как корневой узел поддерева, «растущего» из этого узла. Такой подход дает возможность зацикливать выполнение операций при прохождении по элементам дерева. Но в связи с тем, что при прохождении по дереву (в отличие от массива) неизвестно сколько шагов будет в этом цикле, используется другой инструмент — рекурсивный вызов.\n",
    "\n",
    "Двоичное (бинарное) дерево — это древовидная структура данных, где каждый узел имеет не более двух детей. Этих детей называют левым (Л) и правым (П) потомком или «сыном». На рисунке выше дерево является двоичным."
   ]
  },
  {
   "cell_type": "markdown",
   "id": "df164218",
   "metadata": {},
   "source": [
    "# 1.1. Теоретический материал – Основы объектноориентированного программирования в Python\n",
    "\n",
    "В предыдущих разделах мы рассматривали в основном традиционное программирование на Python, когда вся программа разбивается (или не разбивается) на отдельные модули, содержащие функции. Такое программирование соответствует парадигме структурного программирования. Само структурное программирование оказалось колоссальным шагом в построении программ. Однако еще большим шагом является парадигма объектно-ориентированного программирования. В этом подходе программа состоит из отдельных классов, которые объединяют в себе как переменные, называемые полями класса, так и функции, называемые методами класса.\n",
    "\n",
    "На самом деле мы уже сталкивались с классами, когда создавали объекты для решения задач классификации и регрессии в Scikit-learn. В данном разделе подробнее познакомимся с основами объектноориентированного программирования (ООП).\n",
    "\n",
    "Объектно-ориентированное программирование состоит из трех китов:\n",
    "- инкапсуляция;\n",
    "- наследование;\n",
    "- полиморфизм.\n",
    "\n",
    "Рассмотрим на примерах эти понятия. Первое - инкапсуляция - это объединение в одном объекте данных и программного кода таким образом, что для внешней работы внутренняя часть объекта может быть скрыта от пользователя. Инкапсуляция может быть реализована не только с помощью классов, но и с помощью модулей, но классы позволяют сделать инкапсуляцию естественным путем. Создадим класс в Python. Для этого необходимо определить класс (новый тип данных) и создать объект, называемый экземпляром класса. Мы рекомендуем имена классов начинать с заглавной буквы \"T\", подчеркивая тем самым, что речь идет о типе данных. \n",
    "\n",
    "Делается это так:\n",
    "```py\n",
    "class TAnimal:\n",
    "    name = \"\"\n",
    "    def __init__(self, name):\n",
    "        self.name = name\n",
    "    def say(self):\n",
    "        print(self.name)\n",
    "```\n",
    "\n",
    "Теперь создадим экземпляр этого класса. Экземпляр класса представляет собой переменную, с которой можно работать обычным образом.\n",
    "```py\n",
    "Animal = TAnimal(\"Обезьяна\")\n",
    "Animal.say()\n",
    "```\n",
    "Рассмотрим синтаксис Python при создании классов. Все начинается с ключевого слова class. Далее в блоке из отступов мы определяем переменные, которые будем называть полями и функции, которые называются методами. Методы определяются, как обычные функции и могут возвращать значения. Единственное отличие состоит в том, что у всех методов есть обязательный первый параметр, который по традиции всегда называем self в котором передается ссылка на экземпляр класса. Поэтому когда внутри класса метод хочет обратиться к своему полю, то необходимо использовать конструкцию self.name. Заметим, что при вызове методов мы первый параметр не задаем.\n",
    "\n",
    "Далее, у каждого класса есть метод, с именем __init__, который называется конструктором класса. Этот метод вызывается в момент создания экземпляра Animal = TAnimal(\"Обезьяна\"). Конструктор может иметь любое количество параметров. Предположим, что теперь нам нужно сделать класс для описания конкретного животного - кошки. Для это мы используем наследование классов, когда можно определять новые классы, как наследники существующих. При этом новый класс будет иметь все поля и методы наследуемого класса. Вот как это делается:\n",
    "```py\n",
    "class TAnimal:\n",
    "    name = \"\"\n",
    "    def __init__(self, name):\n",
    "        self.name = name\n",
    "    def say(self):\n",
    "        print(self.name)\n",
    "  \n",
    "class TCat(TAnimal):\n",
    "    def may(self):\n",
    "        print(\"Мяу!\")\n",
    "  \n",
    "Cat = TCat(\"Кошка\")\n",
    "Cat.say()\n",
    "Cat.may()\n",
    "```\n",
    "Мы видим, что у наследованного класса сохранился конструктор и метод say. В последнем примере мы выдели, что наследный класс, также как и исходный имеет конструктор, который принимает в качестве параметра - название животного тогда, что в данном случае излишне. Для решения этой проблемы мы воспользуемся объектно-ориентированным механизмом - полиморфизмом. Полиморфизм - это возможность замены методов при наследовании. Сделаем так, чтобы не нужно было передавать в конструкторе название \"Кошка\".\n",
    "```py\n",
    "class TCat(TAnimal):\n",
    "    def __init__(self):\n",
    "        super().__init__(\"Кошка\")\n",
    "    def may(self):\n",
    "        print(\"Мяу!\")\n",
    "  \n",
    "Cat = TCat()\n",
    "Cat.say()\n",
    "Cat.may()\n",
    "```\n",
    "Результат выполнения этой программы будет аналогичный, но теперь при использовании этого класса нам не нужно передавать в конструкторе никаких параметров. Полиморфное перекрытие методов делается простым объявлением метода (в данном случае конструктора). При этом нельзя можно менять входные параметры. Если в результате написания кода метода возникает необходимость вызвать перекрытый метод, то для этого необходимо использовать функцию super(), которая по сути просто возвращает ссылку на родительский класс. Самое удивительное в полиморфизме, что изменяя метод, он меняется даже когда на него есть ссылки родительского класса. Рассмотрим еще один пример. Пусть у нас есть класс:\n",
    "```py\n",
    "class TDo:\n",
    "    def Operation(self, x, y):\n",
    "        return x + y\n",
    "    def Run(self):\n",
    "        x = int(input(\"Enter x > \"))\n",
    "        y = int(input(\"Enter y > \"))\n",
    "        z = self.Operation(x, y)\n",
    "        print(\"Result = \" + z.__str__())\n",
    "        \n",
    "Do = TDo()\n",
    "Do.Run()\n",
    "```\n",
    "С помощью полиморфизма заменим функцию Operation на другую в наследном классе:\n",
    "```py\n",
    "class TDo2(TDo):\n",
    "    def Operation(self, x, y):\n",
    "        return x * y \n",
    "```\n",
    "\n",
    "## 1.2.1 Пример\n",
    "### Задача:\n",
    "#### Необходимо разработать виртуальную модель процесса обучения. В программе должны быть объекты-ученики, учитель, кладезь знаний.\n",
    "Потребуется три класса – \"учитель\", \"ученик\", \"данные\". Учитель и ученик во многом похожи, оба – люди. Значит, их классы могут принадлежать одному надклассу \"человек\". Однако в контексте данной задачи у учителя и ученика вряд ли найдутся общие атрибуты. Определим, что должны уметь объекты для решения задачи \"увеличить знания\":\n",
    "- Ученик должен уметь брать информацию и превращать ее в свои знания.\n",
    "- Учитель должен уметь учить группу учеников.\n",
    "- Данные могут представлять собой список знаний. Элементы будут извлекаться по индексу\n",
    "### Решение / Ответ:"
   ]
  },
  {
   "cell_type": "code",
   "execution_count": 1,
   "id": "f55f9b27",
   "metadata": {
    "scrolled": true
   },
   "outputs": [
    {
     "name": "stdout",
     "output_type": "stream",
     "text": [
      "['inheritance']\n",
      "['inheritance', 'class']\n"
     ]
    }
   ],
   "source": [
    "class Data:\n",
    "    def __init__(self, *info):\n",
    "        self.info = list(info)\n",
    "    def __getitem__(self, i):\n",
    "        return self.info[i]\n",
    "class Teacher:\n",
    "    def teach(self, info, *pupil):\n",
    "        for i in pupil:\n",
    "            i.take(info)\n",
    "class Pupil:\n",
    "    def __init__(self):\n",
    "        self.knowledge =[]\n",
    "    def take(self, info):\n",
    "        self.knowledge.append(info)\n",
    "\n",
    "lesson = Data('class', 'object', 'inheritance', 'polymorphism', 'encapsulation')\n",
    "marIvanna = Teacher()\n",
    "vasy = Pupil()\n",
    "pety = Pupil()\n",
    "marIvanna.teach(lesson[2], vasy, pety)\n",
    "marIvanna.teach(lesson[0], pety)\n",
    "print(vasy.knowledge)\n",
    "print(pety.knowledge)"
   ]
  },
  {
   "cell_type": "markdown",
   "id": "30134160",
   "metadata": {},
   "source": [
    "## 1.2.2 Пример\n",
    "### Задача:\n",
    "#### Напишите программу по следующему описанию. Есть класс \"Воин\". От него создаются два экземпляра-юнита. Каждому устанавливается здоровье в 100 очков. В случайном порядке они бьют друг друга. Тот, кто бьет, здоровья не теряет. У того, кого бьют, оно уменьшается на 20 очков от одного удара. После каждого удара надо выводить сообщение, какой юнит атаковал, и сколько у противника осталось здоровья. Как только у кого-то заканчивается ресурс здоровья, программа завершается сообщением о том, кто одержал победу.\n",
    "### Решение / Ответ:"
   ]
  },
  {
   "cell_type": "code",
   "execution_count": 2,
   "id": "ce3b3c31",
   "metadata": {},
   "outputs": [
    {
     "name": "stdout",
     "output_type": "stream",
     "text": [
      "Warrior1  has attacked\n",
      "80  left\n",
      "Warrior2  has attacked\n",
      "80  left\n",
      "Warrior1  has attacked\n",
      "60  left\n",
      "Warrior2  has attacked\n",
      "60  left\n",
      "Warrior2  has attacked\n",
      "40  left\n",
      "Warrior1  has attacked\n",
      "40  left\n",
      "Warrior2  has attacked\n",
      "20  left\n",
      "Warrior1  has attacked\n",
      "20  left\n",
      "Warrior1  has attacked\n",
      "0  left\n",
      "Warrior1  has won\n"
     ]
    }
   ],
   "source": [
    "import random\n",
    "class Warrior:\n",
    "    def __init__(self, health):\n",
    "        self.health = health\n",
    "    def hit(self, target, target1):\n",
    "        if target.health > 0:\n",
    "            target.health -= 20\n",
    "        if target1 == warrior1:\n",
    "            target1 = \"Warrior1\" \n",
    "        if target1 == warrior2:\n",
    "            target1 = \"Warrior2\"\n",
    "        print(target1, \" has attacked\") \n",
    "        print(target.health, \" left\") \n",
    "        if target.health == 0:\n",
    "            print(target1, \" has won\")\n",
    "            \n",
    "warrior1 = Warrior(100)\n",
    "warrior2 = Warrior(100)\n",
    "\n",
    "while warrior1.health > 0 and warrior2.health > 0:\n",
    "    j = random.randint(1,3)\n",
    "    if j % 2 == 0:\n",
    "        warrior1.hit(warrior2, warrior1)\n",
    "    else:\n",
    "        warrior2.hit(warrior1, warrior2)"
   ]
  },
  {
   "cell_type": "markdown",
   "id": "06aeae02",
   "metadata": {},
   "source": [
    "## 1.2.3 Пример\n",
    "### Задача:\n",
    "#### Создайте класс по работе с дробями. В классе должна быть реализована следующая функциональность:\n",
    "- сложение дробей;\n",
    "- вычитание дробей;\n",
    "- умножение дробей;\n",
    "- деление дробей.\n",
    "### Решение / Ответ:"
   ]
  },
  {
   "cell_type": "code",
   "execution_count": 3,
   "id": "5d51039a",
   "metadata": {},
   "outputs": [
    {
     "name": "stdout",
     "output_type": "stream",
     "text": [
      "5/6\n",
      "1/6\n",
      "1/6\n",
      "1/6\n",
      "3/2\n",
      "13/2\n"
     ]
    }
   ],
   "source": [
    "class Rational:\n",
    "    \n",
    "    @staticmethod\n",
    "    def gcd(a,b): \n",
    "        while (b != 0):\n",
    "            (a,b) = (b,a%b)\n",
    "        return a\n",
    "    \n",
    "    @staticmethod\n",
    "    def sgn(x):\n",
    "        if x>0:\n",
    "            return 1\n",
    "        elif x<0:\n",
    "            return -1\n",
    "        else:\n",
    "            return 0\n",
    "        \n",
    "    def __init__(self, n, d):\n",
    "        if n==0:\n",
    "            self.num=0 \n",
    "            self.den=1\n",
    "        else:\n",
    "            z=self.sgn(n)*self.sgn(d) \n",
    "            n=abs(n) \n",
    "            d=abs(d)\n",
    "            k=self.gcd(n, d)\n",
    "            self.num=z*n//k\n",
    "            self.den=d//k\n",
    "            \n",
    "    def __str__(self):\n",
    "        if self.num==0: \n",
    "            return \"0\"\n",
    "        else:\n",
    "            return str(self.num)+\"/\"+str(self.den)\n",
    "        \n",
    "    def __add__(self,o):\n",
    "        n1=self.num \n",
    "        d1=self.den\n",
    "        if type(o)==int:\n",
    "            n2=o \n",
    "            d2=1\n",
    "        else:\n",
    "            n2=o.num \n",
    "            d2=o.den\n",
    "        n=n1*d2+n2*d1\n",
    "        d=d1*d2 \n",
    "        return Rational(n,d)\n",
    "\n",
    "    def __radd__(self, o): \n",
    "        n1=self.num \n",
    "        d1=self.den\n",
    "        if type(o)==int: \n",
    "            n2=o\n",
    "            d2=1\n",
    "        else:\n",
    "            n2=o.num \n",
    "            d2=o.den \n",
    "        n=n1*d2+n2*d1 \n",
    "        d=d1*d2 \n",
    "        return Rational(n, d)\n",
    "    \n",
    "    def __sub__(self,o): \n",
    "        n1=self.num \n",
    "        d1=self.den \n",
    "        n2=o.num \n",
    "        d2=o.den \n",
    "        n=n1*d2-n2*d1 \n",
    "        d=d1*d2\n",
    "        return Rational(n,d)\n",
    "    \n",
    "    def __mul__(self,o):\n",
    "        n1=self.num \n",
    "        d1=self.den \n",
    "        n2=o.num \n",
    "        d2=o.den \n",
    "        n=n1*n2 \n",
    "        d=d1*d2\n",
    "        return Rational(n,d)\n",
    "    \n",
    "    def __floordiv__(self,o): \n",
    "        n1=self.num\n",
    "        d1=self.den \n",
    "        n2=o.num \n",
    "        d2=o.den \n",
    "        n=n1*d2 \n",
    "        d=d1*n2\n",
    "        return Rational(n,d)\n",
    "    \n",
    "d1=Rational(1,2) \n",
    "d2=Rational(1,3)\n",
    "d3=d1+d2 \n",
    "print(d3) \n",
    "d4=d1-d2 \n",
    "print(d4) \n",
    "d5=d1*d2 \n",
    "print(d5) \n",
    "d6=d1*d2 \n",
    "print(d6) \n",
    "d7=d1//d2 \n",
    "print(d7) \n",
    "d8=6+d1 \n",
    "print(d8)"
   ]
  },
  {
   "cell_type": "markdown",
   "id": "03a56526",
   "metadata": {},
   "source": [
    "## 1.3.1 Задание\n",
    "### Задача:\n",
    "#### Создайте класс по работе с тригонометрическими функциями. В классе должны быть реализованы функции вычисления:\n",
    "- косинуса;\n",
    "- синуса;\n",
    "- тангенса;\n",
    "- арксинуса;\n",
    "- арккосинуса;\n",
    "- арктангенса;\n",
    "- перевода из градусов в радианы\n",
    "### Решение / Ответ:"
   ]
  },
  {
   "cell_type": "code",
   "execution_count": 4,
   "id": "8de963c6",
   "metadata": {},
   "outputs": [
    {
     "name": "stdout",
     "output_type": "stream",
     "text": [
      "cos = 0.9800665778412416\n",
      " sin = 0.19866933079506122\n",
      " tg = 0.2027100355086725\n",
      " arcsin = 0.2013579207903308\n",
      " arccos = 1.369438406004566\n",
      " arctg = 0.19739555984988078\n",
      " radians = 0.003490658503988659\n"
     ]
    },
    {
     "data": {
      "text/plain": [
       "<__main__.Math at 0x1e14c26df10>"
      ]
     },
     "execution_count": 4,
     "metadata": {},
     "output_type": "execute_result"
    }
   ],
   "source": [
    "import numpy as np\n",
    "class Math:\n",
    "    def __init__(self, x):\n",
    "        print(\"cos = {}\\n\".format(self.cos(x)),\n",
    "               \"sin = {}\\n\".format(self.sin(x)),\n",
    "               \"tg = {}\\n\".format(self.tg(x)),\n",
    "               \"arcsin = {}\\n\".format(self.arcsin(x)),\n",
    "               \"arccos = {}\\n\".format(self.arccos(x)),\n",
    "               \"arctg = {}\\n\".format(self.arctg(x)),\n",
    "               \"radians = {}\".format(self.radians(x)))\n",
    "    def cos(self, x):\n",
    "        return np.cos(x)\n",
    "    def sin(self, x):\n",
    "        return np.sin(x)\n",
    "    def tg(self, x):\n",
    "        return np.tan(x)\n",
    "    def arcsin(self, x):\n",
    "        return np.arcsin(x)\n",
    "    def arccos(self, x):\n",
    "        return np.arccos(x)\n",
    "    def arctg(self, x):\n",
    "        return np.arctan(x)\n",
    "    def radians(self, x):\n",
    "        return np.radians(x)\n",
    "    \n",
    "Math(0.2)"
   ]
  },
  {
   "cell_type": "markdown",
   "id": "8fe2ea52",
   "metadata": {},
   "source": [
    "---\n",
    "\n",
    "# 1.2. Теоретический материал – Реализация деревьев в Python\n",
    "\n",
    "Любое представление графов, естественно, можно использовать для представления деревьев, потому что деревья — это особый вид графов. Однако, деревья играют свою большую роль в алгоритмах, и для них разработано много соответствующих структур и методов. Большинство алгоритмов на деревьях (например, поиск по деревьям) можно рассматривать в терминах теории графов, но специальные структуры данных делают их проще в реализации.\n",
    "\n",
    "Проще всего описать представление дерева с корнем, в котором ребра спускаются вниз от корня. Такие деревья часто отображают иерархическое ветвление данных, где корень отображает все объекты (которые, возможно, хранятся в листьях), а каждый внутренний узел показывает объекты, содержащиеся в дереве, корень которого — этот узел. Это описание можно использовать, представив каждое поддерево списком, содержащим все его поддеревья-потомки. Рассмотрим простое дерево, показанное на рисунке ниже.\n",
    "![wb5_ph2](photos/wb5_ph2.png)\n",
    "\n",
    "Мы можем представить это дерево как список списков:\n",
    "```py\n",
    "T = [[\"a\", \"b\"], [\"c\"], [\"d\", [\"e\", \"f\"]]]\n",
    "print(T[0][1])\n",
    "print(T[2][1][0])\n",
    "```\n",
    "Каждый список в сущности является списком потомков каждого из внутренних узлов. Во втором примере мы обращаемся к третьему потомку корня, затем ко второму его потомку и в конце концов — к первому потомку предыдущего узла (этот путь отмечен на рисунке). В ряде случаев возможно заранее определить максимальное число потомков каждого узла. (Например, каждый узел бинарного дерева может иметь до двух потомков). Поэтому можно использовать другие представления, скажем, объекты с отдельным атрибутом для каждого из потомков как в листинге ниже.\n",
    "\n",
    "## 2.2.1 Пример\n",
    "### Задача:\n",
    "#### Определите класс бинарного дерева и задайте его объекты с отдельным атрибутом для каждого из потомков.\n",
    "### Решение / Ответ:"
   ]
  },
  {
   "cell_type": "code",
   "execution_count": 5,
   "id": "622d15df",
   "metadata": {},
   "outputs": [
    {
     "data": {
      "text/plain": [
       "'c'"
      ]
     },
     "execution_count": 5,
     "metadata": {},
     "output_type": "execute_result"
    }
   ],
   "source": [
    "class Tree:\n",
    "    def __init__(self, left, right):\n",
    "        self.left = left\n",
    "        self.right = right\n",
    "        \n",
    "t = Tree(Tree('a','b'), Tree('c','d'))\n",
    "t.right.left"
   ]
  },
  {
   "cell_type": "markdown",
   "id": "8b65e26c",
   "metadata": {},
   "source": [
    "## 2.2.2 Пример\n",
    "### Задача:\n",
    "#### Для обозначения отсутствующих потомков можно использовать None (в случае если у узла только один потомок). Само собой, можно комбинировать разные методы (например, использовать списки или множества потомков для каждого узла).\n",
    "\n",
    "#### Распространенный способ реализации деревьев, особенно на языках, не имеющих встроенной поддержки списков, это так называемое представление «первый потомок, следующий брат». В нем каждый узел имеет два «указателя» или атрибута, указывающих на другие узлы, как в бинарном дереве. Однако, первый из этих атрибутов ссылается на первого потомка узла, а второй — на его следующего брата (т.е. узел, имеющий того же родителя, но находящийся правее, — прим. перев). Иными словами, каждый узел дерева имеет указатель на связанный список его потомков, а каждый из этих потомков ссылается на свой собственный аналогичный список. Таким образом, небольшая модификация бинарного дерева даст нам многопутевое дерево, показанное в листинге ниже.\n",
    "### Решение / Ответ:"
   ]
  },
  {
   "cell_type": "code",
   "execution_count": 6,
   "id": "f0225463",
   "metadata": {},
   "outputs": [
    {
     "data": {
      "text/plain": [
       "'c'"
      ]
     },
     "execution_count": 6,
     "metadata": {},
     "output_type": "execute_result"
    }
   ],
   "source": [
    "class Tree:\n",
    "    def __init__(self, kids, next=None):\n",
    "        self.kids = self.val = kids\n",
    "        self.next = next\n",
    "t = Tree(Tree('a', Tree('b', Tree('c', Tree('d')))))\n",
    "t.kids.next.next.val"
   ]
  },
  {
   "cell_type": "markdown",
   "id": "171dfe4f",
   "metadata": {},
   "source": [
    "## 2.3.1 Задание\n",
    "### Задача:\n",
    "#### Представьте дерево показанное на рисунке с использованием списка из списков. Выведите на печать корень дерева, а также его левое и правое поддеревья.\n",
    "![wb5_ph3](photos/wb5_ph3.png)\n",
    "### Решение / Ответ:"
   ]
  },
  {
   "cell_type": "code",
   "execution_count": 7,
   "id": "4b10081a",
   "metadata": {
    "scrolled": true
   },
   "outputs": [
    {
     "name": "stdout",
     "output_type": "stream",
     "text": [
      "Корень = a\n",
      "Левое поддерево = ['b', ['d', 'e']]\n",
      "Правое поддерево = ['c', ['f']]\n"
     ]
    }
   ],
   "source": [
    "tree = ['a', ['b', ['d', 'e']], ['c', ['f']] ]\n",
    "print('Корень = {}'.format(tree[0]))\n",
    "print('Левое поддерево = {}'.format(tree[1]))\n",
    "print('Правое поддерево = {}'.format(tree[2]))"
   ]
  },
  {
   "cell_type": "markdown",
   "id": "21df1ad1",
   "metadata": {},
   "source": [
    "## 2.3.2 Задание\n",
    "### Задача:\n",
    "#### Дан класс, описывающий бинарное дерево.\n",
    "```py\n",
    "class Tree:\n",
    "    def __init__(self, data):\n",
    "        self.left = None\n",
    "        self.right = None\n",
    "        self.data = data\n",
    "    def PrintTree(self):\n",
    "        print(self.data)\n",
    "```\n",
    "\n",
    "Реализуйте в классе функцию для вставки нового элемента в дерево по следующим правилам:\n",
    "- Левое поддерево узла содержит только узлы со значениями меньше, чем значение в узле.\n",
    "- Правое поддерево узла содержит только узлы со значениями меньше, чем значение в узле.\n",
    "- Каждое из левого и правого поддеревьев также должно быть бинарным деревом поиска.\n",
    "- Не должно быть повторяющихся узлов.\n",
    "\n",
    "Метод вставки сравнивает значение узла с родительским узлом и решает куда добавить элемент (в левое или правое поддерево). Перепишите, метод PrintTree для печати полной версии дерева.\n",
    "### Решение / Ответ:"
   ]
  },
  {
   "cell_type": "code",
   "execution_count": 37,
   "id": "7afd5684",
   "metadata": {
    "scrolled": false
   },
   "outputs": [
    {
     "data": {
      "image/png": "[encoded data removed]",
      "text/plain": [
       "<Figure size 432x288 with 1 Axes>"
      ]
     },
     "metadata": {},
     "output_type": "display_data"
    }
   ],
   "source": [
    "import networkx as nx\n",
    "import matplotlib.pyplot as plt\n",
    "\n",
    "class Tree:\n",
    "    def __init__(self, data):\n",
    "        self.left = None\n",
    "        self.right = None\n",
    "        self.root = None\n",
    "        self.data = data\n",
    "    \n",
    "    def search(self, root, node):\n",
    "        if root is None or root.data == node.data:\n",
    "            return root\n",
    "        \n",
    "        if root.data < node.data:\n",
    "            return self.search(root.right, node)\n",
    "        \n",
    "        return self.search(root.left, node)\n",
    "    \n",
    "    def binary_insert(self, root, node):\n",
    "        if self.root is None:\n",
    "            self.root = node\n",
    "        else:\n",
    "            if self.search(root, node) is None:\n",
    "                if root.data > node.data:\n",
    "                    if root.left is None:\n",
    "                        root.left = node\n",
    "                    else:\n",
    "                        self.binary_insert(root.left, node)\n",
    "                else:\n",
    "                    if root.right is None:\n",
    "                        root.right = node\n",
    "                    else:\n",
    "                        self.binary_insert(root.right, node)\n",
    "    \n",
    "    def PrintTree(self):\n",
    "        G = nx.DiGraph()\n",
    "        elist = self.edge_list(self.root)\n",
    "        G.add_edges_from(elist)\n",
    "        nx.draw_circular(G, with_labels=True)\n",
    "        plt.show()\n",
    "        \n",
    "    def edge_list(self, root):\n",
    "        elist = []\n",
    "        \n",
    "        if not root:\n",
    "            return\n",
    "        \n",
    "        e = self.edge_list(root.left)\n",
    "        \n",
    "        if e is not None:\n",
    "            for item in e:\n",
    "                if len(item) > 0:\n",
    "                    elist.append(item)\n",
    "        edge = []\n",
    "        \n",
    "        if root.left is not None:\n",
    "            edge = (root.data, root.left.data)\n",
    "        \n",
    "        elist.append(edge)\n",
    "        \n",
    "        if root.right is not None:\n",
    "            edge = (root.data, root.right.data)\n",
    "        \n",
    "        elist.append(edge)\n",
    "        e = self.edge_list(root.right)\n",
    "        \n",
    "        if e is not None:\n",
    "            for item in e:\n",
    "                if len(item) > 0:\n",
    "                    elist.append(item)\n",
    "        return elist       \n",
    "        \n",
    "tree = Tree('init')\n",
    "tree.binary_insert(tree.root, Tree(3))\n",
    "tree.binary_insert(tree.root, Tree(7))\n",
    "tree.binary_insert(tree.root, Tree(1))\n",
    "tree.binary_insert(tree.root, Tree(5))\n",
    "tree.binary_insert(tree.root, Tree(9))\n",
    "\n",
    "tree.binary_insert(tree.root, Tree(3))\n",
    "tree.binary_insert(tree.root, Tree(10))\n",
    "tree.binary_insert(tree.root, Tree(5))\n",
    "tree.binary_insert(tree.root, Tree(-20))\n",
    "\n",
    "tree.PrintTree()"
   ]
  },
  {
   "cell_type": "markdown",
   "id": "81c3ae0d",
   "metadata": {},
   "source": [
    "---\n",
    "\n",
    "# 1.3. Теоретический материал – Деревья решений\n",
    "\n",
    "Дерево решений – это один из наиболее часто и широко используемых алгоритмов контролируемого машинного обучения, который может выполнять как регрессионные, так и классификационные задачи.\n",
    "\n",
    "Использование деревьев решений для прогнозного анализа имеет ряд преимуществ:\n",
    "1. Деревья решений могут быть использованы для прогнозирования как непрерывных, так и дискретных значений, т. е. они хорошо работают как для задач регрессии, так и для задач классификации.\n",
    "2. Они требуют относительно меньших усилий для обучения алгоритма.\n",
    "3. Они могут быть использованы для классификации нелинейно разделимых данных.\n",
    "4. Они очень быстры и эффективны по сравнению с KNN и другими алгоритмами классификации.\n",
    "\n",
    "Решим модельные примеры классификации и регрессии, разобранные в предыдущих раочих тетрадях, но с использованием деревьев принятия решений.\n",
    "\n",
    "## 3.2.1 Пример\n",
    "### Задача:\n",
    "#### Построим дерево решений для задачи классификации, для этого, построим границу решения для каждого класса. В качестве данных будем использовать уже знакомый нам и встроенный в библиотеку sklearn набор данных ирисов Фишера. Импортируем библиотеки, набор данных и посмотрим его характеристики.\n",
    "### Решение / Ответ:"
   ]
  },
  {
   "cell_type": "code",
   "execution_count": 9,
   "id": "ef80e7ab",
   "metadata": {},
   "outputs": [
    {
     "data": {
      "text/html": [
       "<div>\n",
       "<style scoped>\n",
       "    .dataframe tbody tr th:only-of-type {\n",
       "        vertical-align: middle;\n",
       "    }\n",
       "\n",
       "    .dataframe tbody tr th {\n",
       "        vertical-align: top;\n",
       "    }\n",
       "\n",
       "    .dataframe thead th {\n",
       "        text-align: right;\n",
       "    }\n",
       "</style>\n",
       "<table border=\"1\" class=\"dataframe\">\n",
       "  <thead>\n",
       "    <tr style=\"text-align: right;\">\n",
       "      <th></th>\n",
       "      <th>sepal_length</th>\n",
       "      <th>sepal_width</th>\n",
       "      <th>petal_length</th>\n",
       "      <th>petal_width</th>\n",
       "      <th>species</th>\n",
       "    </tr>\n",
       "  </thead>\n",
       "  <tbody>\n",
       "    <tr>\n",
       "      <th>0</th>\n",
       "      <td>5.1</td>\n",
       "      <td>3.5</td>\n",
       "      <td>1.4</td>\n",
       "      <td>0.2</td>\n",
       "      <td>setosa</td>\n",
       "    </tr>\n",
       "    <tr>\n",
       "      <th>1</th>\n",
       "      <td>4.9</td>\n",
       "      <td>3.0</td>\n",
       "      <td>1.4</td>\n",
       "      <td>0.2</td>\n",
       "      <td>setosa</td>\n",
       "    </tr>\n",
       "    <tr>\n",
       "      <th>2</th>\n",
       "      <td>4.7</td>\n",
       "      <td>3.2</td>\n",
       "      <td>1.3</td>\n",
       "      <td>0.2</td>\n",
       "      <td>setosa</td>\n",
       "    </tr>\n",
       "    <tr>\n",
       "      <th>3</th>\n",
       "      <td>4.6</td>\n",
       "      <td>3.1</td>\n",
       "      <td>1.5</td>\n",
       "      <td>0.2</td>\n",
       "      <td>setosa</td>\n",
       "    </tr>\n",
       "    <tr>\n",
       "      <th>4</th>\n",
       "      <td>5.0</td>\n",
       "      <td>3.6</td>\n",
       "      <td>1.4</td>\n",
       "      <td>0.2</td>\n",
       "      <td>setosa</td>\n",
       "    </tr>\n",
       "    <tr>\n",
       "      <th>...</th>\n",
       "      <td>...</td>\n",
       "      <td>...</td>\n",
       "      <td>...</td>\n",
       "      <td>...</td>\n",
       "      <td>...</td>\n",
       "    </tr>\n",
       "    <tr>\n",
       "      <th>145</th>\n",
       "      <td>6.7</td>\n",
       "      <td>3.0</td>\n",
       "      <td>5.2</td>\n",
       "      <td>2.3</td>\n",
       "      <td>virginica</td>\n",
       "    </tr>\n",
       "    <tr>\n",
       "      <th>146</th>\n",
       "      <td>6.3</td>\n",
       "      <td>2.5</td>\n",
       "      <td>5.0</td>\n",
       "      <td>1.9</td>\n",
       "      <td>virginica</td>\n",
       "    </tr>\n",
       "    <tr>\n",
       "      <th>147</th>\n",
       "      <td>6.5</td>\n",
       "      <td>3.0</td>\n",
       "      <td>5.2</td>\n",
       "      <td>2.0</td>\n",
       "      <td>virginica</td>\n",
       "    </tr>\n",
       "    <tr>\n",
       "      <th>148</th>\n",
       "      <td>6.2</td>\n",
       "      <td>3.4</td>\n",
       "      <td>5.4</td>\n",
       "      <td>2.3</td>\n",
       "      <td>virginica</td>\n",
       "    </tr>\n",
       "    <tr>\n",
       "      <th>149</th>\n",
       "      <td>5.9</td>\n",
       "      <td>3.0</td>\n",
       "      <td>5.1</td>\n",
       "      <td>1.8</td>\n",
       "      <td>virginica</td>\n",
       "    </tr>\n",
       "  </tbody>\n",
       "</table>\n",
       "<p>150 rows × 5 columns</p>\n",
       "</div>"
      ],
      "text/plain": [
       "     sepal_length  sepal_width  petal_length  petal_width    species\n",
       "0             5.1          3.5           1.4          0.2     setosa\n",
       "1             4.9          3.0           1.4          0.2     setosa\n",
       "2             4.7          3.2           1.3          0.2     setosa\n",
       "3             4.6          3.1           1.5          0.2     setosa\n",
       "4             5.0          3.6           1.4          0.2     setosa\n",
       "..            ...          ...           ...          ...        ...\n",
       "145           6.7          3.0           5.2          2.3  virginica\n",
       "146           6.3          2.5           5.0          1.9  virginica\n",
       "147           6.5          3.0           5.2          2.0  virginica\n",
       "148           6.2          3.4           5.4          2.3  virginica\n",
       "149           5.9          3.0           5.1          1.8  virginica\n",
       "\n",
       "[150 rows x 5 columns]"
      ]
     },
     "execution_count": 9,
     "metadata": {},
     "output_type": "execute_result"
    }
   ],
   "source": [
    "import pandas as pd \n",
    "import numpy as np \n",
    "import seaborn as sns \n",
    "import matplotlib.pyplot as plt\n",
    "\n",
    "dataset = sns.load_dataset('iris') \n",
    "dataset"
   ]
  },
  {
   "cell_type": "code",
   "execution_count": 10,
   "id": "73232328",
   "metadata": {},
   "outputs": [
    {
     "data": {
      "text/plain": [
       "(150, 5)"
      ]
     },
     "execution_count": 10,
     "metadata": {},
     "output_type": "execute_result"
    }
   ],
   "source": [
    "dataset.shape"
   ]
  },
  {
   "cell_type": "code",
   "execution_count": 11,
   "id": "b03e6c78",
   "metadata": {},
   "outputs": [
    {
     "data": {
      "text/html": [
       "<div>\n",
       "<style scoped>\n",
       "    .dataframe tbody tr th:only-of-type {\n",
       "        vertical-align: middle;\n",
       "    }\n",
       "\n",
       "    .dataframe tbody tr th {\n",
       "        vertical-align: top;\n",
       "    }\n",
       "\n",
       "    .dataframe thead th {\n",
       "        text-align: right;\n",
       "    }\n",
       "</style>\n",
       "<table border=\"1\" class=\"dataframe\">\n",
       "  <thead>\n",
       "    <tr style=\"text-align: right;\">\n",
       "      <th></th>\n",
       "      <th>sepal_length</th>\n",
       "      <th>sepal_width</th>\n",
       "      <th>petal_length</th>\n",
       "      <th>petal_width</th>\n",
       "      <th>species</th>\n",
       "    </tr>\n",
       "  </thead>\n",
       "  <tbody>\n",
       "    <tr>\n",
       "      <th>0</th>\n",
       "      <td>5.1</td>\n",
       "      <td>3.5</td>\n",
       "      <td>1.4</td>\n",
       "      <td>0.2</td>\n",
       "      <td>setosa</td>\n",
       "    </tr>\n",
       "    <tr>\n",
       "      <th>1</th>\n",
       "      <td>4.9</td>\n",
       "      <td>3.0</td>\n",
       "      <td>1.4</td>\n",
       "      <td>0.2</td>\n",
       "      <td>setosa</td>\n",
       "    </tr>\n",
       "    <tr>\n",
       "      <th>2</th>\n",
       "      <td>4.7</td>\n",
       "      <td>3.2</td>\n",
       "      <td>1.3</td>\n",
       "      <td>0.2</td>\n",
       "      <td>setosa</td>\n",
       "    </tr>\n",
       "    <tr>\n",
       "      <th>3</th>\n",
       "      <td>4.6</td>\n",
       "      <td>3.1</td>\n",
       "      <td>1.5</td>\n",
       "      <td>0.2</td>\n",
       "      <td>setosa</td>\n",
       "    </tr>\n",
       "    <tr>\n",
       "      <th>4</th>\n",
       "      <td>5.0</td>\n",
       "      <td>3.6</td>\n",
       "      <td>1.4</td>\n",
       "      <td>0.2</td>\n",
       "      <td>setosa</td>\n",
       "    </tr>\n",
       "  </tbody>\n",
       "</table>\n",
       "</div>"
      ],
      "text/plain": [
       "   sepal_length  sepal_width  petal_length  petal_width species\n",
       "0           5.1          3.5           1.4          0.2  setosa\n",
       "1           4.9          3.0           1.4          0.2  setosa\n",
       "2           4.7          3.2           1.3          0.2  setosa\n",
       "3           4.6          3.1           1.5          0.2  setosa\n",
       "4           5.0          3.6           1.4          0.2  setosa"
      ]
     },
     "execution_count": 11,
     "metadata": {},
     "output_type": "execute_result"
    }
   ],
   "source": [
    "dataset.head()"
   ]
  },
  {
   "cell_type": "markdown",
   "id": "aba61830",
   "metadata": {},
   "source": [
    "Далее, разделим наши данные на атрибуты и метки, а затем выделим в общей совокупности полученных данных обучающие и тестовые наборы. Таким образом, мы можем обучить наш алгоритм на одном наборе данных, а затем протестировать его на совершенно на другом наборе, который алгоритм еще не видел. Это дает вам более точное представление о том, как на самом деле будет работать ваш обученный алгоритм."
   ]
  },
  {
   "cell_type": "code",
   "execution_count": 12,
   "id": "da474659",
   "metadata": {},
   "outputs": [
    {
     "data": {
      "text/plain": [
       "((120, 4), (30, 4), (120,), (30,))"
      ]
     },
     "execution_count": 12,
     "metadata": {},
     "output_type": "execute_result"
    }
   ],
   "source": [
    "from sklearn.model_selection import train_test_split\n",
    "X_train, X_test, y_train, y_test = train_test_split( \n",
    "    # поскольку iris это pandas-таблица, для нее нужно указывать iloc \n",
    "    dataset.iloc[:, :-1], # берем все колонки кроме последней в признаки \n",
    "    dataset.iloc[:, -1], # последнюю в целевую переменную (класс) \n",
    "    test_size = 0.20 # размер тестовой выборки 20%\n",
    ")\n",
    "X_train.shape, X_test.shape, y_train.shape, y_test.shape"
   ]
  },
  {
   "cell_type": "code",
   "execution_count": 13,
   "id": "939a4a7d",
   "metadata": {},
   "outputs": [
    {
     "data": {
      "text/html": [
       "<div>\n",
       "<style scoped>\n",
       "    .dataframe tbody tr th:only-of-type {\n",
       "        vertical-align: middle;\n",
       "    }\n",
       "\n",
       "    .dataframe tbody tr th {\n",
       "        vertical-align: top;\n",
       "    }\n",
       "\n",
       "    .dataframe thead th {\n",
       "        text-align: right;\n",
       "    }\n",
       "</style>\n",
       "<table border=\"1\" class=\"dataframe\">\n",
       "  <thead>\n",
       "    <tr style=\"text-align: right;\">\n",
       "      <th></th>\n",
       "      <th>sepal_length</th>\n",
       "      <th>sepal_width</th>\n",
       "      <th>petal_length</th>\n",
       "      <th>petal_width</th>\n",
       "    </tr>\n",
       "  </thead>\n",
       "  <tbody>\n",
       "    <tr>\n",
       "      <th>133</th>\n",
       "      <td>6.3</td>\n",
       "      <td>2.8</td>\n",
       "      <td>5.1</td>\n",
       "      <td>1.5</td>\n",
       "    </tr>\n",
       "    <tr>\n",
       "      <th>57</th>\n",
       "      <td>4.9</td>\n",
       "      <td>2.4</td>\n",
       "      <td>3.3</td>\n",
       "      <td>1.0</td>\n",
       "    </tr>\n",
       "    <tr>\n",
       "      <th>69</th>\n",
       "      <td>5.6</td>\n",
       "      <td>2.5</td>\n",
       "      <td>3.9</td>\n",
       "      <td>1.1</td>\n",
       "    </tr>\n",
       "    <tr>\n",
       "      <th>126</th>\n",
       "      <td>6.2</td>\n",
       "      <td>2.8</td>\n",
       "      <td>4.8</td>\n",
       "      <td>1.8</td>\n",
       "    </tr>\n",
       "    <tr>\n",
       "      <th>81</th>\n",
       "      <td>5.5</td>\n",
       "      <td>2.4</td>\n",
       "      <td>3.7</td>\n",
       "      <td>1.0</td>\n",
       "    </tr>\n",
       "  </tbody>\n",
       "</table>\n",
       "</div>"
      ],
      "text/plain": [
       "     sepal_length  sepal_width  petal_length  petal_width\n",
       "133           6.3          2.8           5.1          1.5\n",
       "57            4.9          2.4           3.3          1.0\n",
       "69            5.6          2.5           3.9          1.1\n",
       "126           6.2          2.8           4.8          1.8\n",
       "81            5.5          2.4           3.7          1.0"
      ]
     },
     "execution_count": 13,
     "metadata": {},
     "output_type": "execute_result"
    }
   ],
   "source": [
    "X_train.head()"
   ]
  },
  {
   "cell_type": "code",
   "execution_count": 14,
   "id": "7609ae57",
   "metadata": {},
   "outputs": [
    {
     "data": {
      "text/plain": [
       "133     virginica\n",
       "57     versicolor\n",
       "69     versicolor\n",
       "126     virginica\n",
       "81     versicolor\n",
       "Name: species, dtype: object"
      ]
     },
     "execution_count": 14,
     "metadata": {},
     "output_type": "execute_result"
    }
   ],
   "source": [
    "y_train.head()"
   ]
  },
  {
   "cell_type": "markdown",
   "id": "9746f4b8",
   "metadata": {},
   "source": [
    "После того, как данные были разделены на обучающие и тестовые наборы, последний шаг состоит в том, чтобы обучить алгоритм дерева решений на этих данных и сделать прогнозы. Scikit-Learn содержит библиотеку tree , которая содержит встроенные классы/методы для различных алгоритмов дерева решений. Поскольку мы собираемся выполнить здесь задачу классификации, мы будем использовать класс DecisionTreeClassifier для этого примера. Метод fit этого класса вызывается для обучения алгоритма на обучающих данных, которые передаются в качестве параметра методу fit . Выполним следующий сценарий для обучения алгоритма."
   ]
  },
  {
   "cell_type": "code",
   "execution_count": 15,
   "id": "4bfc6793",
   "metadata": {},
   "outputs": [
    {
     "data": {
      "text/plain": [
       "DecisionTreeClassifier()"
      ]
     },
     "execution_count": 15,
     "metadata": {},
     "output_type": "execute_result"
    }
   ],
   "source": [
    "from sklearn.tree import DecisionTreeClassifier \n",
    "classifier = DecisionTreeClassifier() \n",
    "classifier.fit(X_train, y_train)"
   ]
  },
  {
   "cell_type": "code",
   "execution_count": 16,
   "id": "111aed66",
   "metadata": {},
   "outputs": [
    {
     "data": {
      "text/plain": [
       "[Text(0.3, 0.9285714285714286, 'X[2] <= 2.45\\ngini = 0.667\\nsamples = 120\\nvalue = [41, 40, 39]'),\n",
       " Text(0.2, 0.7857142857142857, 'gini = 0.0\\nsamples = 41\\nvalue = [41, 0, 0]'),\n",
       " Text(0.4, 0.7857142857142857, 'X[2] <= 4.75\\ngini = 0.5\\nsamples = 79\\nvalue = [0, 40, 39]'),\n",
       " Text(0.3, 0.6428571428571429, 'gini = 0.0\\nsamples = 35\\nvalue = [0, 35, 0]'),\n",
       " Text(0.5, 0.6428571428571429, 'X[3] <= 1.75\\ngini = 0.201\\nsamples = 44\\nvalue = [0, 5, 39]'),\n",
       " Text(0.2, 0.5, 'X[2] <= 4.95\\ngini = 0.5\\nsamples = 8\\nvalue = [0, 4, 4]'),\n",
       " Text(0.1, 0.35714285714285715, 'gini = 0.0\\nsamples = 2\\nvalue = [0, 2, 0]'),\n",
       " Text(0.3, 0.35714285714285715, 'X[3] <= 1.55\\ngini = 0.444\\nsamples = 6\\nvalue = [0, 2, 4]'),\n",
       " Text(0.2, 0.21428571428571427, 'gini = 0.0\\nsamples = 3\\nvalue = [0, 0, 3]'),\n",
       " Text(0.4, 0.21428571428571427, 'X[0] <= 6.95\\ngini = 0.444\\nsamples = 3\\nvalue = [0, 2, 1]'),\n",
       " Text(0.3, 0.07142857142857142, 'gini = 0.0\\nsamples = 2\\nvalue = [0, 2, 0]'),\n",
       " Text(0.5, 0.07142857142857142, 'gini = 0.0\\nsamples = 1\\nvalue = [0, 0, 1]'),\n",
       " Text(0.8, 0.5, 'X[2] <= 4.85\\ngini = 0.054\\nsamples = 36\\nvalue = [0, 1, 35]'),\n",
       " Text(0.7, 0.35714285714285715, 'X[0] <= 5.95\\ngini = 0.444\\nsamples = 3\\nvalue = [0, 1, 2]'),\n",
       " Text(0.6, 0.21428571428571427, 'gini = 0.0\\nsamples = 1\\nvalue = [0, 1, 0]'),\n",
       " Text(0.8, 0.21428571428571427, 'gini = 0.0\\nsamples = 2\\nvalue = [0, 0, 2]'),\n",
       " Text(0.9, 0.35714285714285715, 'gini = 0.0\\nsamples = 33\\nvalue = [0, 0, 33]')]"
      ]
     },
     "execution_count": 16,
     "metadata": {},
     "output_type": "execute_result"
    },
    {
     "data": {
      "image/png": "[encoded data removed]",
      "text/plain": [
       "<Figure size 432x288 with 1 Axes>"
      ]
     },
     "metadata": {
      "needs_background": "light"
     },
     "output_type": "display_data"
    }
   ],
   "source": [
    "#построим дерево решений \n",
    "from sklearn import tree \n",
    "tree.plot_tree(classifier)"
   ]
  },
  {
   "cell_type": "markdown",
   "id": "ff0edf22",
   "metadata": {},
   "source": [
    "Теперь, когда наш классификатор обучен, давайте сделаем прогнозы по тестовым данным. Для составления прогнозов используется метод predict класса Decision Tree Classifier. Взгляните на следующий код для использования."
   ]
  },
  {
   "cell_type": "code",
   "execution_count": 17,
   "id": "3c108fc6",
   "metadata": {},
   "outputs": [
    {
     "data": {
      "text/plain": [
       "array(['versicolor', 'virginica', 'setosa', 'versicolor', 'setosa',\n",
       "       'versicolor', 'versicolor', 'setosa', 'setosa', 'virginica',\n",
       "       'versicolor', 'virginica', 'setosa', 'virginica', 'setosa',\n",
       "       'virginica', 'virginica', 'versicolor', 'versicolor', 'virginica',\n",
       "       'virginica', 'setosa', 'virginica', 'setosa', 'versicolor',\n",
       "       'virginica', 'versicolor', 'versicolor', 'versicolor', 'setosa'],\n",
       "      dtype=object)"
      ]
     },
     "execution_count": 17,
     "metadata": {},
     "output_type": "execute_result"
    }
   ],
   "source": [
    "y_pred = classifier.predict(X_test)\n",
    "y_pred"
   ]
  },
  {
   "cell_type": "markdown",
   "id": "56f74a40",
   "metadata": {},
   "source": [
    "На данный момент мы обучили наш алгоритм и сделали некоторые прогнозы. Теперь посмотрим, насколько точен наш алгоритм. Для задач классификации обычно используются такие метрики, как матрица путаницы, точность. Библиотека Scikit-Learn metrics содержит методы classification_report и confusion_matrix, которые могут быть использованы для расчета этих метрик."
   ]
  },
  {
   "cell_type": "code",
   "execution_count": 18,
   "id": "ec0d4a9d",
   "metadata": {},
   "outputs": [
    {
     "name": "stdout",
     "output_type": "stream",
     "text": [
      "[[ 9  0  0]\n",
      " [ 0 10  0]\n",
      " [ 0  1 10]]\n",
      "              precision    recall  f1-score   support\n",
      "\n",
      "      setosa       1.00      1.00      1.00         9\n",
      "  versicolor       0.91      1.00      0.95        10\n",
      "   virginica       1.00      0.91      0.95        11\n",
      "\n",
      "    accuracy                           0.97        30\n",
      "   macro avg       0.97      0.97      0.97        30\n",
      "weighted avg       0.97      0.97      0.97        30\n",
      "\n"
     ]
    }
   ],
   "source": [
    "from sklearn.metrics import classification_report, confusion_matrix \n",
    "print(confusion_matrix(y_test, y_pred)) \n",
    "print(classification_report(y_test, y_pred))"
   ]
  },
  {
   "cell_type": "markdown",
   "id": "ddc615ad",
   "metadata": {},
   "source": [
    "Из матрицы оценок алгоритма вы можете видеть, что из 30 тестовых экземпляров наш алгоритм неправильно классифицировал только 3. Это приблизительно 91 % точности."
   ]
  },
  {
   "cell_type": "markdown",
   "id": "d2a68b24",
   "metadata": {},
   "source": [
    "## 3.3.1 Задание\n",
    "### Задача:\n",
    "#### Постройте классификатор на основе дерева принятия решений следующего датасета:\n",
    "```py\n",
    "# данные\n",
    "X = np.array([[-1, -1], [-2, -1], [-3, -2], [1, 1], [2, 1], [3, 2]])\n",
    "target = [0, 0, 0, 1, 1, 1]\n",
    "```\n",
    "### Решение / Ответ:"
   ]
  },
  {
   "cell_type": "code",
   "execution_count": 19,
   "id": "c2aa9b5f",
   "metadata": {},
   "outputs": [
    {
     "data": {
      "text/plain": [
       "[Text(0.5, 0.75, 'X[1] <= 0.0\\ngini = 0.375\\nsamples = 4\\nvalue = [3, 1]'),\n",
       " Text(0.25, 0.25, 'gini = 0.0\\nsamples = 3\\nvalue = [3, 0]'),\n",
       " Text(0.75, 0.25, 'gini = 0.0\\nsamples = 1\\nvalue = [0, 1]')]"
      ]
     },
     "execution_count": 19,
     "metadata": {},
     "output_type": "execute_result"
    },
    {
     "data": {
      "image/png": "[encoded data removed]",
      "text/plain": [
       "<Figure size 432x288 with 1 Axes>"
      ]
     },
     "metadata": {
      "needs_background": "light"
     },
     "output_type": "display_data"
    }
   ],
   "source": [
    "X = np.array([[-1, -1], [-2, -1], [-3, -2], [1, 1], [2, 1], [3, 2]])\n",
    "target = [0, 0, 0, 1, 1, 1]\n",
    "\n",
    "X_train, X_test, y_train, y_test = train_test_split(X, target, test_size = 0.20)\n",
    "\n",
    "classifier = DecisionTreeClassifier()\n",
    "classifier.fit(X_train, y_train)\n",
    "\n",
    "tree.plot_tree(classifier)"
   ]
  },
  {
   "cell_type": "markdown",
   "id": "e5fed716",
   "metadata": {},
   "source": [
    "---\n",
    "\n",
    "# 1.4. Теоретический материал – Дерево решений для регрессии\n",
    "\n",
    "Дерево решений для регрессии\n",
    "\n",
    "Процесс решения регрессионной задачи с деревом решений с помощью Scikit Learn очень похож на процесс классификации. Однако для регрессии мы используем класс DecisionTreeRegressor древовидной библиотеки. Кроме того, оценочные показатели регрессии отличаются от показателей классификации. В остальном процесс почти такой же.\n",
    "\n",
    "Построим регрессию с использованием дерева решений в Python и библиотеки scikit-learn. В качестве исходного набора данных будем использовать зависимость заработной платы от опыта работы из предыдущей тетради: <https://raw.githubusercontent.com/AnnaShestova/salary-years-simple-linear-regression/master/Salary_Data.csv>\n",
    "\n",
    "\n",
    "## 4.2.1 Пример\n",
    "### Задача:\n",
    "#### Постойте регрессию с использованием дерева решений, реализованного в Python.\n",
    "### Решение / Ответ:"
   ]
  },
  {
   "cell_type": "code",
   "execution_count": 20,
   "id": "f708c384",
   "metadata": {},
   "outputs": [
    {
     "data": {
      "text/html": [
       "<div>\n",
       "<style scoped>\n",
       "    .dataframe tbody tr th:only-of-type {\n",
       "        vertical-align: middle;\n",
       "    }\n",
       "\n",
       "    .dataframe tbody tr th {\n",
       "        vertical-align: top;\n",
       "    }\n",
       "\n",
       "    .dataframe thead th {\n",
       "        text-align: right;\n",
       "    }\n",
       "</style>\n",
       "<table border=\"1\" class=\"dataframe\">\n",
       "  <thead>\n",
       "    <tr style=\"text-align: right;\">\n",
       "      <th></th>\n",
       "      <th>YearsExperience</th>\n",
       "      <th>Salary</th>\n",
       "    </tr>\n",
       "  </thead>\n",
       "  <tbody>\n",
       "    <tr>\n",
       "      <th>0</th>\n",
       "      <td>1.1</td>\n",
       "      <td>39343.0</td>\n",
       "    </tr>\n",
       "    <tr>\n",
       "      <th>1</th>\n",
       "      <td>1.3</td>\n",
       "      <td>46205.0</td>\n",
       "    </tr>\n",
       "    <tr>\n",
       "      <th>2</th>\n",
       "      <td>1.5</td>\n",
       "      <td>37731.0</td>\n",
       "    </tr>\n",
       "    <tr>\n",
       "      <th>3</th>\n",
       "      <td>2.0</td>\n",
       "      <td>43525.0</td>\n",
       "    </tr>\n",
       "    <tr>\n",
       "      <th>4</th>\n",
       "      <td>2.2</td>\n",
       "      <td>39891.0</td>\n",
       "    </tr>\n",
       "  </tbody>\n",
       "</table>\n",
       "</div>"
      ],
      "text/plain": [
       "   YearsExperience   Salary\n",
       "0              1.1  39343.0\n",
       "1              1.3  46205.0\n",
       "2              1.5  37731.0\n",
       "3              2.0  43525.0\n",
       "4              2.2  39891.0"
      ]
     },
     "execution_count": 20,
     "metadata": {},
     "output_type": "execute_result"
    }
   ],
   "source": [
    "import pandas as pd \n",
    "import numpy as np\n",
    "import matplotlib.pyplot as plt\n",
    "\n",
    "url = 'https://raw.githubusercontent.com/AnnaShestova/salary-years-simple-linear-regression/master/Salary_Data.csv'\n",
    "dataset = pd.read_csv(url)\n",
    "dataset.head()"
   ]
  },
  {
   "cell_type": "code",
   "execution_count": 21,
   "id": "a89aa4cf",
   "metadata": {},
   "outputs": [
    {
     "name": "stdout",
     "output_type": "stream",
     "text": [
      "(30, 2)\n"
     ]
    },
    {
     "data": {
      "text/html": [
       "<div>\n",
       "<style scoped>\n",
       "    .dataframe tbody tr th:only-of-type {\n",
       "        vertical-align: middle;\n",
       "    }\n",
       "\n",
       "    .dataframe tbody tr th {\n",
       "        vertical-align: top;\n",
       "    }\n",
       "\n",
       "    .dataframe thead th {\n",
       "        text-align: right;\n",
       "    }\n",
       "</style>\n",
       "<table border=\"1\" class=\"dataframe\">\n",
       "  <thead>\n",
       "    <tr style=\"text-align: right;\">\n",
       "      <th></th>\n",
       "      <th>YearsExperience</th>\n",
       "      <th>Salary</th>\n",
       "    </tr>\n",
       "  </thead>\n",
       "  <tbody>\n",
       "    <tr>\n",
       "      <th>count</th>\n",
       "      <td>30.000000</td>\n",
       "      <td>30.000000</td>\n",
       "    </tr>\n",
       "    <tr>\n",
       "      <th>mean</th>\n",
       "      <td>5.313333</td>\n",
       "      <td>76003.000000</td>\n",
       "    </tr>\n",
       "    <tr>\n",
       "      <th>std</th>\n",
       "      <td>2.837888</td>\n",
       "      <td>27414.429785</td>\n",
       "    </tr>\n",
       "    <tr>\n",
       "      <th>min</th>\n",
       "      <td>1.100000</td>\n",
       "      <td>37731.000000</td>\n",
       "    </tr>\n",
       "    <tr>\n",
       "      <th>25%</th>\n",
       "      <td>3.200000</td>\n",
       "      <td>56720.750000</td>\n",
       "    </tr>\n",
       "    <tr>\n",
       "      <th>50%</th>\n",
       "      <td>4.700000</td>\n",
       "      <td>65237.000000</td>\n",
       "    </tr>\n",
       "    <tr>\n",
       "      <th>75%</th>\n",
       "      <td>7.700000</td>\n",
       "      <td>100544.750000</td>\n",
       "    </tr>\n",
       "    <tr>\n",
       "      <th>max</th>\n",
       "      <td>10.500000</td>\n",
       "      <td>122391.000000</td>\n",
       "    </tr>\n",
       "  </tbody>\n",
       "</table>\n",
       "</div>"
      ],
      "text/plain": [
       "       YearsExperience         Salary\n",
       "count        30.000000      30.000000\n",
       "mean          5.313333   76003.000000\n",
       "std           2.837888   27414.429785\n",
       "min           1.100000   37731.000000\n",
       "25%           3.200000   56720.750000\n",
       "50%           4.700000   65237.000000\n",
       "75%           7.700000  100544.750000\n",
       "max          10.500000  122391.000000"
      ]
     },
     "execution_count": 21,
     "metadata": {},
     "output_type": "execute_result"
    }
   ],
   "source": [
    "#Исследуем набор данных\n",
    "print(dataset.shape)\n",
    "dataset.describe()"
   ]
  },
  {
   "cell_type": "code",
   "execution_count": 22,
   "id": "8b5254bc",
   "metadata": {},
   "outputs": [
    {
     "data": {
      "image/png": "[encoded data removed]",
      "text/plain": [
       "<Figure size 432x288 with 1 Axes>"
      ]
     },
     "metadata": {
      "needs_background": "light"
     },
     "output_type": "display_data"
    }
   ],
   "source": [
    "# Нарисуем точечную диаграмму \n",
    "plt.scatter (dataset['YearsExperience'], dataset['Salary'], color = 'b', label = \"Заработная плата\")\n",
    "plt.xlabel(\"Опыт(лет)\") \n",
    "plt.ylabel(\"Заработная плата\")\n",
    "plt.show()"
   ]
  },
  {
   "cell_type": "code",
   "execution_count": 23,
   "id": "abb07eeb",
   "metadata": {},
   "outputs": [
    {
     "name": "stdout",
     "output_type": "stream",
     "text": [
      "[[ 1.1]\n",
      " [ 1.3]\n",
      " [ 1.5]\n",
      " [ 2. ]\n",
      " [ 2.2]\n",
      " [ 2.9]\n",
      " [ 3. ]\n",
      " [ 3.2]\n",
      " [ 3.2]\n",
      " [ 3.7]\n",
      " [ 3.9]\n",
      " [ 4. ]\n",
      " [ 4. ]\n",
      " [ 4.1]\n",
      " [ 4.5]\n",
      " [ 4.9]\n",
      " [ 5.1]\n",
      " [ 5.3]\n",
      " [ 5.9]\n",
      " [ 6. ]\n",
      " [ 6.8]\n",
      " [ 7.1]\n",
      " [ 7.9]\n",
      " [ 8.2]\n",
      " [ 8.7]\n",
      " [ 9. ]\n",
      " [ 9.5]\n",
      " [ 9.6]\n",
      " [10.3]\n",
      " [10.5]]\n",
      "[ 39343.  46205.  37731.  43525.  39891.  56642.  60150.  54445.  64445.\n",
      "  57189.  63218.  55794.  56957.  57081.  61111.  67938.  66029.  83088.\n",
      "  81363.  93940.  91738.  98273. 101302. 113812. 109431. 105582. 116969.\n",
      " 112635. 122391. 121872.]\n"
     ]
    }
   ],
   "source": [
    "from sklearn.tree import DecisionTreeRegressor \n",
    "X = dataset.iloc[:, :-1].values\n",
    "y = dataset.iloc[:, 1].values \n",
    "print(X)\n",
    "print(y)"
   ]
  },
  {
   "cell_type": "code",
   "execution_count": 24,
   "id": "c17c8293",
   "metadata": {},
   "outputs": [
    {
     "data": {
      "text/plain": [
       "DecisionTreeRegressor()"
      ]
     },
     "execution_count": 24,
     "metadata": {},
     "output_type": "execute_result"
    }
   ],
   "source": [
    "# Теперь, когда у нас есть атрибуты и метки, необходимо разделить их на а обучающий и тестовый наборы. # Приведенный фрагмент разделяет 80% данных на обучающий набор, а 20% данных - на набор тестов \n",
    "X_train, X_test, y_train, y_test = train_test_split(X, y, test_size = 0.2, random_state = 0)\n",
    "# далее можно обучить алгоритм линейной регрессии \n",
    "# необходимо импортировать класс LinearRegression, создать его экземпляр и вызвать метод fit() \n",
    "regressor = DecisionTreeRegressor() \n",
    "regressor.fit(X_train, y_train)"
   ]
  },
  {
   "cell_type": "code",
   "execution_count": 25,
   "id": "4b5ec001",
   "metadata": {},
   "outputs": [
    {
     "data": {
      "text/plain": [
       "[Text(0.4956896551724138, 0.9375, 'X[0] <= 5.2\\nsquared_error = 614737637.832\\nsamples = 24\\nvalue = 73886.208'),\n",
       " Text(0.20689655172413793, 0.8125, 'X[0] <= 2.55\\nsquared_error = 81200345.857\\nsamples = 14\\nvalue = 54976.0'),\n",
       " Text(0.06896551724137931, 0.6875, 'X[0] <= 1.2\\nsquared_error = 7820714.0\\nsamples = 4\\nvalue = 42241.0'),\n",
       " Text(0.034482758620689655, 0.5625, 'squared_error = 0.0\\nsamples = 1\\nvalue = 39343.0'),\n",
       " Text(0.10344827586206896, 0.5625, 'X[0] <= 2.1\\nsquared_error = 6694994.667\\nsamples = 3\\nvalue = 43207.0'),\n",
       " Text(0.06896551724137931, 0.4375, 'X[0] <= 1.65\\nsquared_error = 1795600.0\\nsamples = 2\\nvalue = 44865.0'),\n",
       " Text(0.034482758620689655, 0.3125, 'squared_error = 0.0\\nsamples = 1\\nvalue = 46205.0'),\n",
       " Text(0.10344827586206896, 0.3125, 'squared_error = 0.0\\nsamples = 1\\nvalue = 43525.0'),\n",
       " Text(0.13793103448275862, 0.4375, 'squared_error = 0.0\\nsamples = 1\\nvalue = 39891.0'),\n",
       " Text(0.3448275862068966, 0.6875, 'X[0] <= 4.7\\nsquared_error = 19731272.6\\nsamples = 10\\nvalue = 60070.0'),\n",
       " Text(0.27586206896551724, 0.5625, 'X[0] <= 4.25\\nsquared_error = 9499922.484\\nsamples = 8\\nvalue = 58341.625'),\n",
       " Text(0.2413793103448276, 0.4375, 'X[0] <= 3.45\\nsquared_error = 9604901.143\\nsamples = 7\\nvalue = 57946.0'),\n",
       " Text(0.1724137931034483, 0.3125, 'X[0] <= 2.95\\nsquared_error = 14313358.25\\nsamples = 4\\nvalue = 58920.5'),\n",
       " Text(0.13793103448275862, 0.1875, 'squared_error = 0.0\\nsamples = 1\\nvalue = 56642.0'),\n",
       " Text(0.20689655172413793, 0.1875, 'X[0] <= 3.1\\nsquared_error = 16777116.667\\nsamples = 3\\nvalue = 59680.0'),\n",
       " Text(0.1724137931034483, 0.0625, 'squared_error = 0.0\\nsamples = 1\\nvalue = 60150.0'),\n",
       " Text(0.2413793103448276, 0.0625, 'squared_error = 25000000.0\\nsamples = 2\\nvalue = 59445.0'),\n",
       " Text(0.3103448275862069, 0.3125, 'X[0] <= 3.85\\nsquared_error = 372490.889\\nsamples = 3\\nvalue = 56646.667'),\n",
       " Text(0.27586206896551724, 0.1875, 'squared_error = 0.0\\nsamples = 1\\nvalue = 57189.0'),\n",
       " Text(0.3448275862068966, 0.1875, 'squared_error = 338142.25\\nsamples = 2\\nvalue = 56375.5'),\n",
       " Text(0.3103448275862069, 0.4375, 'squared_error = 0.0\\nsamples = 1\\nvalue = 61111.0'),\n",
       " Text(0.41379310344827586, 0.5625, 'X[0] <= 5.0\\nsquared_error = 911070.25\\nsamples = 2\\nvalue = 66983.5'),\n",
       " Text(0.3793103448275862, 0.4375, 'squared_error = 0.0\\nsamples = 1\\nvalue = 67938.0'),\n",
       " Text(0.4482758620689655, 0.4375, 'squared_error = 0.0\\nsamples = 1\\nvalue = 66029.0'),\n",
       " Text(0.7844827586206896, 0.8125, 'X[0] <= 8.05\\nsquared_error = 160167356.45\\nsamples = 10\\nvalue = 100360.5'),\n",
       " Text(0.6379310344827587, 0.6875, 'X[0] <= 5.95\\nsquared_error = 53566814.556\\nsamples = 6\\nvalue = 91617.333'),\n",
       " Text(0.5517241379310345, 0.5625, 'X[0] <= 5.6\\nsquared_error = 743906.25\\nsamples = 2\\nvalue = 82225.5'),\n",
       " Text(0.5172413793103449, 0.4375, 'squared_error = 0.0\\nsamples = 1\\nvalue = 83088.0'),\n",
       " Text(0.5862068965517241, 0.4375, 'squared_error = 0.0\\nsamples = 1\\nvalue = 81363.0'),\n",
       " Text(0.7241379310344828, 0.5625, 'X[0] <= 6.95\\nsquared_error = 13823368.688\\nsamples = 4\\nvalue = 96313.25'),\n",
       " Text(0.6551724137931034, 0.4375, 'X[0] <= 6.4\\nsquared_error = 1212201.0\\nsamples = 2\\nvalue = 92839.0'),\n",
       " Text(0.6206896551724138, 0.3125, 'squared_error = 0.0\\nsamples = 1\\nvalue = 93940.0'),\n",
       " Text(0.6896551724137931, 0.3125, 'squared_error = 0.0\\nsamples = 1\\nvalue = 91738.0'),\n",
       " Text(0.7931034482758621, 0.4375, 'X[0] <= 7.5\\nsquared_error = 2293710.25\\nsamples = 2\\nvalue = 99787.5'),\n",
       " Text(0.7586206896551724, 0.3125, 'squared_error = 0.0\\nsamples = 1\\nvalue = 98273.0'),\n",
       " Text(0.8275862068965517, 0.3125, 'squared_error = 0.0\\nsamples = 1\\nvalue = 101302.0'),\n",
       " Text(0.9310344827586207, 0.6875, 'X[0] <= 10.05\\nsquared_error = 33407056.688\\nsamples = 4\\nvalue = 113475.25'),\n",
       " Text(0.896551724137931, 0.5625, 'X[0] <= 8.6\\nsquared_error = 13207004.222\\nsamples = 3\\nvalue = 110676.333'),\n",
       " Text(0.8620689655172413, 0.4375, 'squared_error = 0.0\\nsamples = 1\\nvalue = 113812.0'),\n",
       " Text(0.9310344827586207, 0.4375, 'X[0] <= 9.3\\nsquared_error = 12436202.25\\nsamples = 2\\nvalue = 109108.5'),\n",
       " Text(0.896551724137931, 0.3125, 'squared_error = 0.0\\nsamples = 1\\nvalue = 105582.0'),\n",
       " Text(0.9655172413793104, 0.3125, 'squared_error = 0.0\\nsamples = 1\\nvalue = 112635.0'),\n",
       " Text(0.9655172413793104, 0.5625, 'squared_error = 0.0\\nsamples = 1\\nvalue = 121872.0')]"
      ]
     },
     "execution_count": 25,
     "metadata": {},
     "output_type": "execute_result"
    },
    {
     "data": {
      "image/png": "[encoded data removed]",
      "text/plain": [
       "<Figure size 432x288 with 1 Axes>"
      ]
     },
     "metadata": {
      "needs_background": "light"
     },
     "output_type": "display_data"
    }
   ],
   "source": [
    "# построим дерево решений\n",
    "from sklearn import tree\n",
    "tree.plot_tree(regressor)"
   ]
  },
  {
   "cell_type": "code",
   "execution_count": 26,
   "id": "e30af3c1",
   "metadata": {},
   "outputs": [
    {
     "data": {
      "text/plain": [
       "array([ 46205. , 121872. ,  56375.5,  56375.5, 112635. , 105582. ])"
      ]
     },
     "execution_count": 26,
     "metadata": {},
     "output_type": "execute_result"
    }
   ],
   "source": [
    "# Построим прогноз: \n",
    "y_pred = regressor.predict(X_test)\n",
    "y_pred"
   ]
  },
  {
   "cell_type": "code",
   "execution_count": 27,
   "id": "e25e8344",
   "metadata": {},
   "outputs": [
    {
     "data": {
      "text/html": [
       "<div>\n",
       "<style scoped>\n",
       "    .dataframe tbody tr th:only-of-type {\n",
       "        vertical-align: middle;\n",
       "    }\n",
       "\n",
       "    .dataframe tbody tr th {\n",
       "        vertical-align: top;\n",
       "    }\n",
       "\n",
       "    .dataframe thead th {\n",
       "        text-align: right;\n",
       "    }\n",
       "</style>\n",
       "<table border=\"1\" class=\"dataframe\">\n",
       "  <thead>\n",
       "    <tr style=\"text-align: right;\">\n",
       "      <th></th>\n",
       "      <th>Actual</th>\n",
       "      <th>Predicted</th>\n",
       "    </tr>\n",
       "  </thead>\n",
       "  <tbody>\n",
       "    <tr>\n",
       "      <th>0</th>\n",
       "      <td>37731.0</td>\n",
       "      <td>46205.0</td>\n",
       "    </tr>\n",
       "    <tr>\n",
       "      <th>1</th>\n",
       "      <td>122391.0</td>\n",
       "      <td>121872.0</td>\n",
       "    </tr>\n",
       "    <tr>\n",
       "      <th>2</th>\n",
       "      <td>57081.0</td>\n",
       "      <td>56375.5</td>\n",
       "    </tr>\n",
       "    <tr>\n",
       "      <th>3</th>\n",
       "      <td>63218.0</td>\n",
       "      <td>56375.5</td>\n",
       "    </tr>\n",
       "    <tr>\n",
       "      <th>4</th>\n",
       "      <td>116969.0</td>\n",
       "      <td>112635.0</td>\n",
       "    </tr>\n",
       "    <tr>\n",
       "      <th>5</th>\n",
       "      <td>109431.0</td>\n",
       "      <td>105582.0</td>\n",
       "    </tr>\n",
       "  </tbody>\n",
       "</table>\n",
       "</div>"
      ],
      "text/plain": [
       "     Actual  Predicted\n",
       "0   37731.0    46205.0\n",
       "1  122391.0   121872.0\n",
       "2   57081.0    56375.5\n",
       "3   63218.0    56375.5\n",
       "4  116969.0   112635.0\n",
       "5  109431.0   105582.0"
      ]
     },
     "execution_count": 27,
     "metadata": {},
     "output_type": "execute_result"
    }
   ],
   "source": [
    "#Теперь сравним некоторые из наших прогнозируемых значений с фактическими значениями:\n",
    "df=pd.DataFrame({'Actual':y_test, 'Predicted':y_pred}) \n",
    "df"
   ]
  },
  {
   "cell_type": "code",
   "execution_count": 28,
   "id": "c3f43e13",
   "metadata": {},
   "outputs": [
    {
     "name": "stdout",
     "output_type": "stream",
     "text": [
      "Mean Squared Error: 25498988.416666668\n",
      "Mean Absolute Error: 4120.666666666667\n"
     ]
    }
   ],
   "source": [
    "#Расчитаем среднюю абсолютную и среднеквадратичную ошибку регрессии:\n",
    "from sklearn import metrics\n",
    "print('Mean Squared Error:', metrics.mean_squared_error(y_test, y_pred)) \n",
    "print('Mean Absolute Error:', metrics.mean_absolute_error(y_test, y_pred))"
   ]
  },
  {
   "cell_type": "code",
   "execution_count": 29,
   "id": "0c54d123",
   "metadata": {
    "scrolled": true
   },
   "outputs": [
    {
     "data": {
      "text/plain": [
       "5.421715809463662"
      ]
     },
     "execution_count": 29,
     "metadata": {},
     "output_type": "execute_result"
    }
   ],
   "source": [
    "metrics.mean_absolute_error(y_test, y_pred) / np.average(y) * 100"
   ]
  },
  {
   "cell_type": "markdown",
   "id": "d7610005",
   "metadata": {},
   "source": [
    "Средняя абсолютная ошибка для нашего алгоритма составляет 4120.66, что составляет менее 6 процентов от среднего значения всех значений в столбце."
   ]
  },
  {
   "cell_type": "markdown",
   "id": "b4c277ed",
   "metadata": {},
   "source": [
    "## 4.3.1 Задание\n",
    "### Задача:\n",
    "#### Задание. Постройте модель регрессии для данных из предыдущей рабочей тетради.Для примера можно взять потребления газа (в миллионах галлонов) в 48 штатах США или набор данных о качестве красного вина: https://raw.githubusercontent.com/likarajo/petrol_consumption/master/data/petrol_consumption.csv https://raw.githubusercontent.com/aniruddhachoudhury/Red-Wine-Quality/master/winequality-red.csv \n",
    "#### Постройте прогноз. Оцените точность модели.\n",
    "### Решение / Ответ:"
   ]
  },
  {
   "cell_type": "code",
   "execution_count": 30,
   "id": "8091c156",
   "metadata": {},
   "outputs": [
    {
     "data": {
      "text/html": [
       "<div>\n",
       "<style scoped>\n",
       "    .dataframe tbody tr th:only-of-type {\n",
       "        vertical-align: middle;\n",
       "    }\n",
       "\n",
       "    .dataframe tbody tr th {\n",
       "        vertical-align: top;\n",
       "    }\n",
       "\n",
       "    .dataframe thead th {\n",
       "        text-align: right;\n",
       "    }\n",
       "</style>\n",
       "<table border=\"1\" class=\"dataframe\">\n",
       "  <thead>\n",
       "    <tr style=\"text-align: right;\">\n",
       "      <th></th>\n",
       "      <th>Petrol_tax</th>\n",
       "      <th>Average_income</th>\n",
       "      <th>Paved_Highways</th>\n",
       "      <th>Population_Driver_licence(%)</th>\n",
       "      <th>Petrol_Consumption</th>\n",
       "    </tr>\n",
       "  </thead>\n",
       "  <tbody>\n",
       "    <tr>\n",
       "      <th>0</th>\n",
       "      <td>9.0</td>\n",
       "      <td>3571</td>\n",
       "      <td>1976</td>\n",
       "      <td>0.525</td>\n",
       "      <td>541</td>\n",
       "    </tr>\n",
       "    <tr>\n",
       "      <th>1</th>\n",
       "      <td>9.0</td>\n",
       "      <td>4092</td>\n",
       "      <td>1250</td>\n",
       "      <td>0.572</td>\n",
       "      <td>524</td>\n",
       "    </tr>\n",
       "    <tr>\n",
       "      <th>2</th>\n",
       "      <td>9.0</td>\n",
       "      <td>3865</td>\n",
       "      <td>1586</td>\n",
       "      <td>0.580</td>\n",
       "      <td>561</td>\n",
       "    </tr>\n",
       "    <tr>\n",
       "      <th>3</th>\n",
       "      <td>7.5</td>\n",
       "      <td>4870</td>\n",
       "      <td>2351</td>\n",
       "      <td>0.529</td>\n",
       "      <td>414</td>\n",
       "    </tr>\n",
       "    <tr>\n",
       "      <th>4</th>\n",
       "      <td>8.0</td>\n",
       "      <td>4399</td>\n",
       "      <td>431</td>\n",
       "      <td>0.544</td>\n",
       "      <td>410</td>\n",
       "    </tr>\n",
       "  </tbody>\n",
       "</table>\n",
       "</div>"
      ],
      "text/plain": [
       "   Petrol_tax  Average_income  Paved_Highways  Population_Driver_licence(%)  \\\n",
       "0         9.0            3571            1976                         0.525   \n",
       "1         9.0            4092            1250                         0.572   \n",
       "2         9.0            3865            1586                         0.580   \n",
       "3         7.5            4870            2351                         0.529   \n",
       "4         8.0            4399             431                         0.544   \n",
       "\n",
       "   Petrol_Consumption  \n",
       "0                 541  \n",
       "1                 524  \n",
       "2                 561  \n",
       "3                 414  \n",
       "4                 410  "
      ]
     },
     "execution_count": 30,
     "metadata": {},
     "output_type": "execute_result"
    }
   ],
   "source": [
    "url = 'https://raw.githubusercontent.com/likarajo/petrol_consumption/master/data/petrol_consumption.csv'\n",
    "df = pd.read_csv(url)\n",
    "df.head()"
   ]
  },
  {
   "cell_type": "code",
   "execution_count": 31,
   "id": "7bbbefc2",
   "metadata": {},
   "outputs": [
    {
     "data": {
      "text/plain": [
       "DecisionTreeRegressor()"
      ]
     },
     "execution_count": 31,
     "metadata": {},
     "output_type": "execute_result"
    }
   ],
   "source": [
    "X = df.iloc[:, :-1].values\n",
    "y = df.iloc[:, 1].values \n",
    "\n",
    "X_train, X_test, y_train, y_test = train_test_split(X, y, test_size = 0.2, random_state = 0)\n",
    "\n",
    "regressor = DecisionTreeRegressor() \n",
    "regressor.fit(X_train, y_train)"
   ]
  },
  {
   "cell_type": "code",
   "execution_count": 32,
   "id": "8f406016",
   "metadata": {},
   "outputs": [
    {
     "data": {
      "text/plain": [
       "[Text(0.48726851851851855, 0.9375, 'X[1] <= 4396.0\\nsquared_error = 288278.46\\nsamples = 38\\nvalue = 4317.526'),\n",
       " Text(0.22916666666666666, 0.8125, 'X[1] <= 3955.0\\nsquared_error = 103912.083\\nsamples = 23\\nvalue = 3964.217'),\n",
       " Text(0.08796296296296297, 0.6875, 'X[1] <= 3464.0\\nsquared_error = 28944.0\\nsamples = 11\\nvalue = 3659.0'),\n",
       " Text(0.037037037037037035, 0.5625, 'X[2] <= 5357.5\\nsquared_error = 144.0\\nsamples = 2\\nvalue = 3345.0'),\n",
       " Text(0.018518518518518517, 0.4375, 'squared_error = 0.0\\nsamples = 1\\nvalue = 3357.0'),\n",
       " Text(0.05555555555555555, 0.4375, 'squared_error = 0.0\\nsamples = 1\\nvalue = 3333.0'),\n",
       " Text(0.1388888888888889, 0.5625, 'X[1] <= 3773.5\\nsquared_error = 8564.84\\nsamples = 9\\nvalue = 3728.778'),\n",
       " Text(0.09259259259259259, 0.4375, 'X[1] <= 3687.0\\nsquared_error = 3606.556\\nsamples = 6\\nvalue = 3674.333'),\n",
       " Text(0.05555555555555555, 0.3125, 'X[2] <= 2625.0\\nsquared_error = 1306.889\\nsamples = 3\\nvalue = 3620.667'),\n",
       " Text(0.037037037037037035, 0.1875, 'squared_error = 0.0\\nsamples = 1\\nvalue = 3571.0'),\n",
       " Text(0.07407407407407407, 0.1875, 'X[3] <= 0.613\\nsquared_error = 110.25\\nsamples = 2\\nvalue = 3645.5'),\n",
       " Text(0.05555555555555555, 0.0625, 'squared_error = 0.0\\nsamples = 1\\nvalue = 3656.0'),\n",
       " Text(0.09259259259259259, 0.0625, 'squared_error = 0.0\\nsamples = 1\\nvalue = 3635.0'),\n",
       " Text(0.12962962962962962, 0.3125, 'X[2] <= 3668.0\\nsquared_error = 146.0\\nsamples = 3\\nvalue = 3728.0'),\n",
       " Text(0.1111111111111111, 0.1875, 'squared_error = 0.0\\nsamples = 1\\nvalue = 3745.0'),\n",
       " Text(0.14814814814814814, 0.1875, 'X[0] <= 8.0\\nsquared_error = 2.25\\nsamples = 2\\nvalue = 3719.5'),\n",
       " Text(0.12962962962962962, 0.0625, 'squared_error = 0.0\\nsamples = 1\\nvalue = 3718.0'),\n",
       " Text(0.16666666666666666, 0.0625, 'squared_error = 0.0\\nsamples = 1\\nvalue = 3721.0'),\n",
       " Text(0.18518518518518517, 0.4375, 'X[1] <= 3824.0\\nsquared_error = 696.222\\nsamples = 3\\nvalue = 3837.667'),\n",
       " Text(0.16666666666666666, 0.3125, 'squared_error = 0.0\\nsamples = 1\\nvalue = 3802.0'),\n",
       " Text(0.2037037037037037, 0.3125, 'X[1] <= 3855.5\\nsquared_error = 90.25\\nsamples = 2\\nvalue = 3855.5'),\n",
       " Text(0.18518518518518517, 0.1875, 'squared_error = 0.0\\nsamples = 1\\nvalue = 3846.0'),\n",
       " Text(0.2222222222222222, 0.1875, 'squared_error = 0.0\\nsamples = 1\\nvalue = 3865.0'),\n",
       " Text(0.37037037037037035, 0.6875, 'X[1] <= 4232.5\\nsquared_error = 8960.0\\nsamples = 12\\nvalue = 4244.0'),\n",
       " Text(0.2962962962962963, 0.5625, 'X[1] <= 4140.0\\nsquared_error = 4437.84\\nsamples = 5\\nvalue = 4147.6'),\n",
       " Text(0.25925925925925924, 0.4375, 'X[1] <= 4068.5\\nsquared_error = 552.25\\nsamples = 2\\nvalue = 4068.5'),\n",
       " Text(0.24074074074074073, 0.3125, 'squared_error = 0.0\\nsamples = 1\\nvalue = 4045.0'),\n",
       " Text(0.2777777777777778, 0.3125, 'squared_error = 0.0\\nsamples = 1\\nvalue = 4092.0'),\n",
       " Text(0.3333333333333333, 0.4375, 'X[1] <= 4197.0\\nsquared_error = 76.222\\nsamples = 3\\nvalue = 4200.333'),\n",
       " Text(0.3148148148148148, 0.3125, 'squared_error = 0.0\\nsamples = 1\\nvalue = 4188.0'),\n",
       " Text(0.35185185185185186, 0.3125, 'X[2] <= 7544.0\\nsquared_error = 0.25\\nsamples = 2\\nvalue = 4206.5'),\n",
       " Text(0.3333333333333333, 0.1875, 'squared_error = 0.0\\nsamples = 1\\nvalue = 4207.0'),\n",
       " Text(0.37037037037037035, 0.1875, 'squared_error = 0.0\\nsamples = 1\\nvalue = 4206.0'),\n",
       " Text(0.4444444444444444, 0.5625, 'X[1] <= 4309.0\\nsquared_error = 810.98\\nsamples = 7\\nvalue = 4312.857'),\n",
       " Text(0.4074074074074074, 0.4375, 'X[3] <= 0.56\\nsquared_error = 358.222\\nsamples = 3\\nvalue = 4284.667'),\n",
       " Text(0.3888888888888889, 0.3125, 'squared_error = 0.0\\nsamples = 1\\nvalue = 4258.0'),\n",
       " Text(0.42592592592592593, 0.3125, 'X[3] <= 0.613\\nsquared_error = 4.0\\nsamples = 2\\nvalue = 4298.0'),\n",
       " Text(0.4074074074074074, 0.1875, 'squared_error = 0.0\\nsamples = 1\\nvalue = 4300.0'),\n",
       " Text(0.4444444444444444, 0.1875, 'squared_error = 0.0\\nsamples = 1\\nvalue = 4296.0'),\n",
       " Text(0.48148148148148145, 0.4375, 'X[1] <= 4325.0\\nsquared_error = 107.5\\nsamples = 4\\nvalue = 4334.0'),\n",
       " Text(0.46296296296296297, 0.3125, 'squared_error = 0.0\\nsamples = 1\\nvalue = 4318.0'),\n",
       " Text(0.5, 0.3125, 'X[2] <= 7084.5\\nsquared_error = 29.556\\nsamples = 3\\nvalue = 4339.333'),\n",
       " Text(0.48148148148148145, 0.1875, 'X[0] <= 7.75\\nsquared_error = 4.0\\nsamples = 2\\nvalue = 4343.0'),\n",
       " Text(0.46296296296296297, 0.0625, 'squared_error = 0.0\\nsamples = 1\\nvalue = 4345.0'),\n",
       " Text(0.5, 0.0625, 'squared_error = 0.0\\nsamples = 1\\nvalue = 4341.0'),\n",
       " Text(0.5185185185185185, 0.1875, 'squared_error = 0.0\\nsamples = 1\\nvalue = 4332.0'),\n",
       " Text(0.7453703703703703, 0.8125, 'X[1] <= 4843.5\\nsquared_error = 86089.262\\nsamples = 15\\nvalue = 4859.267'),\n",
       " Text(0.6388888888888888, 0.6875, 'X[1] <= 4654.5\\nsquared_error = 15313.633\\nsamples = 7\\nvalue = 4590.714'),\n",
       " Text(0.5925925925925926, 0.5625, 'X[1] <= 4543.0\\nsquared_error = 3114.64\\nsamples = 5\\nvalue = 4520.4'),\n",
       " Text(0.5555555555555556, 0.4375, 'X[0] <= 7.5\\nsquared_error = 706.889\\nsamples = 3\\nvalue = 4478.333'),\n",
       " Text(0.5370370370370371, 0.3125, 'squared_error = 0.0\\nsamples = 1\\nvalue = 4512.0'),\n",
       " Text(0.5740740740740741, 0.3125, 'X[2] <= 6259.5\\nsquared_error = 210.25\\nsamples = 2\\nvalue = 4461.5'),\n",
       " Text(0.5555555555555556, 0.1875, 'squared_error = 0.0\\nsamples = 1\\nvalue = 4476.0'),\n",
       " Text(0.5925925925925926, 0.1875, 'squared_error = 0.0\\nsamples = 1\\nvalue = 4447.0'),\n",
       " Text(0.6296296296296297, 0.4375, 'X[2] <= 5226.5\\nsquared_error = 90.25\\nsamples = 2\\nvalue = 4583.5'),\n",
       " Text(0.6111111111111112, 0.3125, 'squared_error = 0.0\\nsamples = 1\\nvalue = 4574.0'),\n",
       " Text(0.6481481481481481, 0.3125, 'squared_error = 0.0\\nsamples = 1\\nvalue = 4593.0'),\n",
       " Text(0.6851851851851852, 0.5625, 'X[3] <= 0.649\\nsquared_error = 2550.25\\nsamples = 2\\nvalue = 4766.5'),\n",
       " Text(0.6666666666666666, 0.4375, 'squared_error = 0.0\\nsamples = 1\\nvalue = 4817.0'),\n",
       " Text(0.7037037037037037, 0.4375, 'squared_error = 0.0\\nsamples = 1\\nvalue = 4716.0'),\n",
       " Text(0.8518518518518519, 0.6875, 'X[1] <= 5064.0\\nsquared_error = 29695.438\\nsamples = 8\\nvalue = 5094.25'),\n",
       " Text(0.7777777777777778, 0.5625, 'X[3] <= 0.561\\nsquared_error = 3106.5\\nsamples = 4\\nvalue = 4938.0'),\n",
       " Text(0.7407407407407407, 0.4375, 'X[2] <= 2400.0\\nsquared_error = 182.25\\nsamples = 2\\nvalue = 4883.5'),\n",
       " Text(0.7222222222222222, 0.3125, 'squared_error = 0.0\\nsamples = 1\\nvalue = 4870.0'),\n",
       " Text(0.7592592592592593, 0.3125, 'squared_error = 0.0\\nsamples = 1\\nvalue = 4897.0'),\n",
       " Text(0.8148148148148148, 0.4375, 'X[1] <= 4992.5\\nsquared_error = 90.25\\nsamples = 2\\nvalue = 4992.5'),\n",
       " Text(0.7962962962962963, 0.3125, 'squared_error = 0.0\\nsamples = 1\\nvalue = 4983.0'),\n",
       " Text(0.8333333333333334, 0.3125, 'squared_error = 0.0\\nsamples = 1\\nvalue = 5002.0'),\n",
       " Text(0.9259259259259259, 0.5625, 'X[1] <= 5267.0\\nsquared_error = 7456.25\\nsamples = 4\\nvalue = 5250.5'),\n",
       " Text(0.8888888888888888, 0.4375, 'X[1] <= 5170.5\\nsquared_error = 1980.25\\nsamples = 2\\nvalue = 5170.5'),\n",
       " Text(0.8703703703703703, 0.3125, 'squared_error = 0.0\\nsamples = 1\\nvalue = 5126.0'),\n",
       " Text(0.9074074074074074, 0.3125, 'squared_error = 0.0\\nsamples = 1\\nvalue = 5215.0'),\n",
       " Text(0.9629629629629629, 0.4375, 'X[2] <= 6600.5\\nsquared_error = 132.25\\nsamples = 2\\nvalue = 5330.5'),\n",
       " Text(0.9444444444444444, 0.3125, 'squared_error = 0.0\\nsamples = 1\\nvalue = 5342.0'),\n",
       " Text(0.9814814814814815, 0.3125, 'squared_error = 0.0\\nsamples = 1\\nvalue = 5319.0')]"
      ]
     },
     "execution_count": 32,
     "metadata": {},
     "output_type": "execute_result"
    },
    {
     "data": {
      "image/png": "[encoded data removed]",
      "text/plain": [
       "<Figure size 432x288 with 1 Axes>"
      ]
     },
     "metadata": {
      "needs_background": "light"
     },
     "output_type": "display_data"
    }
   ],
   "source": [
    "tree.plot_tree(regressor)"
   ]
  },
  {
   "cell_type": "code",
   "execution_count": 33,
   "id": "bf1a71f1",
   "metadata": {},
   "outputs": [
    {
     "data": {
      "text/plain": [
       "array([3656., 4476., 3333., 3656., 3333., 3865., 3656., 4512., 5126.,\n",
       "       4341.])"
      ]
     },
     "execution_count": 33,
     "metadata": {},
     "output_type": "execute_result"
    }
   ],
   "source": [
    "y_pred = regressor.predict(X_test)\n",
    "y_pred"
   ]
  },
  {
   "cell_type": "code",
   "execution_count": 34,
   "id": "93df6593",
   "metadata": {},
   "outputs": [
    {
     "data": {
      "text/html": [
       "<div>\n",
       "<style scoped>\n",
       "    .dataframe tbody tr th:only-of-type {\n",
       "        vertical-align: middle;\n",
       "    }\n",
       "\n",
       "    .dataframe tbody tr th {\n",
       "        vertical-align: top;\n",
       "    }\n",
       "\n",
       "    .dataframe thead th {\n",
       "        text-align: right;\n",
       "    }\n",
       "</style>\n",
       "<table border=\"1\" class=\"dataframe\">\n",
       "  <thead>\n",
       "    <tr style=\"text-align: right;\">\n",
       "      <th></th>\n",
       "      <th>Actual</th>\n",
       "      <th>Predicted</th>\n",
       "    </tr>\n",
       "  </thead>\n",
       "  <tbody>\n",
       "    <tr>\n",
       "      <th>0</th>\n",
       "      <td>3601</td>\n",
       "      <td>3656.0</td>\n",
       "    </tr>\n",
       "    <tr>\n",
       "      <th>1</th>\n",
       "      <td>4399</td>\n",
       "      <td>4476.0</td>\n",
       "    </tr>\n",
       "    <tr>\n",
       "      <th>2</th>\n",
       "      <td>3448</td>\n",
       "      <td>3333.0</td>\n",
       "    </tr>\n",
       "    <tr>\n",
       "      <th>3</th>\n",
       "      <td>3640</td>\n",
       "      <td>3656.0</td>\n",
       "    </tr>\n",
       "    <tr>\n",
       "      <th>4</th>\n",
       "      <td>3063</td>\n",
       "      <td>3333.0</td>\n",
       "    </tr>\n",
       "    <tr>\n",
       "      <th>5</th>\n",
       "      <td>3897</td>\n",
       "      <td>3865.0</td>\n",
       "    </tr>\n",
       "    <tr>\n",
       "      <th>6</th>\n",
       "      <td>3528</td>\n",
       "      <td>3656.0</td>\n",
       "    </tr>\n",
       "    <tr>\n",
       "      <th>7</th>\n",
       "      <td>4449</td>\n",
       "      <td>4512.0</td>\n",
       "    </tr>\n",
       "    <tr>\n",
       "      <th>8</th>\n",
       "      <td>5126</td>\n",
       "      <td>5126.0</td>\n",
       "    </tr>\n",
       "    <tr>\n",
       "      <th>9</th>\n",
       "      <td>4391</td>\n",
       "      <td>4341.0</td>\n",
       "    </tr>\n",
       "  </tbody>\n",
       "</table>\n",
       "</div>"
      ],
      "text/plain": [
       "   Actual  Predicted\n",
       "0    3601     3656.0\n",
       "1    4399     4476.0\n",
       "2    3448     3333.0\n",
       "3    3640     3656.0\n",
       "4    3063     3333.0\n",
       "5    3897     3865.0\n",
       "6    3528     3656.0\n",
       "7    4449     4512.0\n",
       "8    5126     5126.0\n",
       "9    4391     4341.0"
      ]
     },
     "execution_count": 34,
     "metadata": {},
     "output_type": "execute_result"
    }
   ],
   "source": [
    "df=pd.DataFrame({'Actual':y_test, 'Predicted':y_pred}) \n",
    "df"
   ]
  },
  {
   "cell_type": "code",
   "execution_count": 35,
   "id": "f68138d6",
   "metadata": {},
   "outputs": [
    {
     "name": "stdout",
     "output_type": "stream",
     "text": [
      "Mean Squared Error: 11921.2\n",
      "Mean Absolute Error: 80.6\n"
     ]
    },
    {
     "data": {
      "text/plain": [
       "1.900121802679659"
      ]
     },
     "execution_count": 35,
     "metadata": {},
     "output_type": "execute_result"
    }
   ],
   "source": [
    "print('Mean Squared Error:', metrics.mean_squared_error(y_test, y_pred)) \n",
    "print('Mean Absolute Error:', metrics.mean_absolute_error(y_test, y_pred))\n",
    "metrics.mean_absolute_error(y_test, y_pred) / np.average(y) * 100"
   ]
  }
 ],
 "metadata": {
  "kernelspec": {
   "display_name": "Python 3 (ipykernel)",
   "language": "python",
   "name": "python3"
  },
  "language_info": {
   "codemirror_mode": {
    "name": "ipython",
    "version": 3
   },
   "file_extension": ".py",
   "mimetype": "text/x-python",
   "name": "python",
   "nbconvert_exporter": "python",
   "pygments_lexer": "ipython3",
   "version": "3.9.12"
  }
 },
 "nbformat": 4,
 "nbformat_minor": 5
}
