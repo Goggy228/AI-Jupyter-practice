{
 "cells": [
  {
   "cell_type": "markdown",
   "id": "fa11b975",
   "metadata": {},
   "source": [
    "# 1.1. Теоретический материал – Нейронные сети\n",
    "\n",
    "Обучение персептрона\n",
    "\n",
    "Персептрон представляет собой элементарную часть нейронной сети. Одиночный персептрон является линейным бинарным классификатором. В этой лекции мы рассмотрим процедуру обучения персептрона для классификации данных. Поскольку персептрон представляет собой бинарный классификатор, то мы будем рассматривать лишь два класса.\n",
    "\n",
    "Пусть мы рассматриваем некоторое множество (конечное или бесконечное) n-мерных векторов, которые будем обозначать $x = (x_1, x_2, . . . , x_n)$\n",
    "\n",
    "Будем считать, что это множество разбивается на два класса, которые мы будем обозначать +1 и -1. Поэтому возникает задача построения функции, которая задана на нашем множестве векторов, и принимает значения в множестве {+1, −1}. В качестве такой функции может выступать персептрон. С алгебраической точки зрения персептрон состоит из вектора весов $w = (w_0, w_1, w_2, . . . , w_n).$\n",
    "\n",
    "При этом персептрон работает по формуле $y = sign(w_0 + x_1w_1 + x_2w_2 + . . . + x_nw_n)$, где функция 𝑠𝑖𝑔𝑛(𝑡) равна +1, если 𝑡 ≥ 0, и равна −1, если 𝑡 < 0.\n",
    "\n",
    "Приведем алгоритм обучения персептрона. Пусть у нас есть набор обучающих данных {(𝑥, 𝑑)}, где 𝑥 - это различные вектора, а 𝑑 из множества {+1, −1} указывает к какому классу относится наш вектор.\n",
    "\n",
    "1. Положим вектор весов 𝑤 равным нулю.\n",
    "2. Повторять $N$ раз следующие шаги:\n",
    "3. Для каждого тестового набора $(x, d)$:\n",
    "4. Вычислить $y = sign[(x, w)].$\n",
    "5. Если $yd$ < 0, то скорректировать веса $w_0 = w_0 + ad, w_i = w_i + adx_i, i = 1,2, . . . , n.$\n",
    "\n",
    "Описанный алгоритм довольно легко программировать.\n",
    "\n",
    "\n",
    "## 1.2.1 Пример\n",
    "### Задача:\n",
    "#### Рассмотрим программу обучения персептрона на языке Python. Сначала рассмотрим основной класс персептрона, который умеет учиться по тестовым данным.\n",
    "### Решение / Ответ:\n",
    "Начнем с описания объектов класса:"
   ]
  },
  {
   "cell_type": "code",
   "execution_count": 1,
   "id": "f4d8c0e0",
   "metadata": {},
   "outputs": [],
   "source": [
    "# класс, который реализует персептрон и его обучение\n",
    "class Perceptron:\n",
    "    def __init__(self, N):\n",
    "        # создать нулевые веса\n",
    "        self.w = list()\n",
    "        for i in range(N):\n",
    "            self.w.append(0)\n",
    "    # метод для вычисления значения персептрона\n",
    "    def calc(self, x):\n",
    "        res = 0\n",
    "        for i in range(len(self.w)):\n",
    "            res = res + self.w[i] * x[i]\n",
    "        return res\n",
    "    # пороговая функция активации персептрона\n",
    "    def sign(self, x):\n",
    "        if self.calc(x) > 0:\n",
    "            return 1\n",
    "        else:\n",
    "            return -1\n",
    "    # обучение на одном примере\n",
    "    def learn(self, la, x, y):\n",
    "        # обучаем только, когда резултат неверный\n",
    "        if y * self.calc(x) <= 0:\n",
    "            for i in range(len(self.w)):\n",
    "                self.w[i] = self.w[i] + la * y * x[i]\n",
    "    # обучение по всем данным T - кортеж примеров\n",
    "    def learning(self, la, T):\n",
    "        # цикл обучения\n",
    "        for n in range(100):\n",
    "            for t in T:\n",
    "                self.learn(la, t[0], t[1])"
   ]
  },
  {
   "cell_type": "markdown",
   "id": "c593e51d",
   "metadata": {},
   "source": [
    "В строке 25 мы осуществляем корректировку весов. Посмотрим, как учитсяи работает наш персептрон."
   ]
  },
  {
   "cell_type": "code",
   "execution_count": 2,
   "id": "cd76b33e",
   "metadata": {},
   "outputs": [
    {
     "name": "stdout",
     "output_type": "stream",
     "text": [
      "[0.1, -0.1]\n",
      "-1\n",
      "1\n",
      "1\n",
      "-1\n"
     ]
    }
   ],
   "source": [
    "# создаем класс двумерного персептрона\n",
    "perceptron = Perceptron(2)\n",
    "la = 0.1 # константа обучения\n",
    "# создаем примеры\n",
    "T = list()\n",
    "T.append([[2, 1], 1])\n",
    "T.append([[3, 2], 1])\n",
    "T.append([[4, 1], 1])\n",
    "T.append([[1, 2], -1])\n",
    "T.append([[2, 3], -1])\n",
    "T.append([[5, 7], -1])\n",
    "perceptron.learning(la, T) # обучение персептрона\n",
    "print(perceptron.w) # печатаем веса\n",
    "# проверим работу на тестовых примерах\n",
    "print(perceptron.sign([1.5, 2]))\n",
    "print(perceptron.sign([3, 1.5]))\n",
    "print(perceptron.sign([5, 1]))\n",
    "print(perceptron.sign([5, 10]))"
   ]
  },
  {
   "cell_type": "markdown",
   "id": "6dff8657",
   "metadata": {},
   "source": [
    "Видим, что что наш персептрон отлично научился распознавать образы, относя к классу 1 те вектора, у которых первая компонента больше второй, и к классу -1 в противном случае. Хотя устройство персептронов довольно простое эти конструкции могут решать и практические задачи. Кроме того, из таких персептронов состоят нейронные сети"
   ]
  },
  {
   "cell_type": "markdown",
   "id": "fb215153",
   "metadata": {},
   "source": [
    "---\n",
    "\n",
    "# 1.2. Теоретический материал – Реализация нейронной сети на Python\n",
    "\n",
    "Нейронная сеть — это функциональная единица машинного или глубокого обучения. Она имитирует поведение человеческого мозга, поскольку основана на концепции биологических нейронных сетей.\n",
    "\n",
    "Наиболее распространенный тип нейронной сети, называемый многослойным персептроном (MLP), представляет собой функцию, которая отображает входные данные в выходные данные. MLP имеет один входной слой и один выходной слой. Между ними может быть один или несколько скрытых слоев. Входной слой имеет тот же набор нейронов, что и признаки. Скрытые слои также могут иметь более одного нейрона. Каждый нейрон представляет собой линейную функцию, к которой применяется функция активации для решения сложных задач. Выход каждого слоя подается в качестве входных данных для всех нейронов следующих слоев.\n",
    "\n",
    "Нейронные сети способны решать множество задач. В основном они состоят из таких компонентов:\n",
    "- входной слой (получение и передача данных);\n",
    "- скрытый слой (вычисление);\n",
    "- выходной слой. Чтобы реализовать нейросеть, необходимо понимать, как ведут себя нейроны. Нейрон одновременно принимает несколько входов, обрабатывает эти данные и выдает один выход. Нейронная сеть представляет собой блоки ввода и вывода, где каждое соединение имеет соответствующие веса (это сила связи нейронов; чем вес больше, тем один нейрон сильнее влияет на другой). Данные всех входов умножаются на веса:\n",
    "- $x → x ∗ w_1$;\n",
    "- $y → y ∗ w_2$.\n",
    "\n",
    "Входы после взвешивания суммируются с прибавлением значения порога «c»: $xw_1 + yw_2 + c$\n",
    "\n",
    "Полученное значение пропускается через функцию активации (сигмоиду), которая преобразует входы в один выход: $z = f(xw_1 + yw_2 + c)$\n",
    "\n",
    "Так выглядит сигмоида: ![wb7_ph1](photos/wb7_ph1.png)\n",
    "\n",
    "Интервал результатов сигмоиды — от 0 до 1. Отрицательные числа стремятся к нулю, а положительные — к единице. Например. Пусть нейрон имеет следующие значения: $w = [0, 1]$ $c = 4$.\n",
    "Входной слой: $x = 2, y = 3$.\n",
    "\n",
    "$((xw_1) + (yw_2)) + c = 20 + 31 + 4 = 7.$\n",
    "\n",
    "$z = f(7) = 0.99$\n",
    "\n",
    "\n",
    "## 2.2.1 Пример\n",
    "### Задача:\n",
    "#### ...\n",
    "### Решение / Ответ:\n",
    "Для написания кода нейрона будем использовать библиотеку Pytnon — NumPy:"
   ]
  },
  {
   "cell_type": "code",
   "execution_count": 3,
   "id": "76cf48f1",
   "metadata": {},
   "outputs": [
    {
     "name": "stdout",
     "output_type": "stream",
     "text": [
      "0.9990889488055994\n"
     ]
    }
   ],
   "source": [
    "import numpy as np\n",
    "def sigmoid(x):\n",
    "    # Функция активации: f(x) = 1 / (1 + e^(-x))\n",
    "    return 1 / (1 + np.exp(-x))\n",
    "class Neuron:\n",
    "    def __init__(self, weights, bias):\n",
    "        self.weights = weights\n",
    "        self.bias = bias\n",
    "    def feedforward(self, inputs):\n",
    "        total = np.dot(self.weights, inputs) + self.bias\n",
    "        return sigmoid(total)\n",
    "    \n",
    "weights = np.array([0, 1]) # w1 = 0, w2 = 1\n",
    "bias = 4\n",
    "n = Neuron(weights, bias)\n",
    "x = np.array([2, 3])       # x = 2, y = 3\n",
    "print(n.feedforward(x))    # 0.9990889488055994"
   ]
  },
  {
   "cell_type": "markdown",
   "id": "e6fb4347",
   "metadata": {},
   "source": [
    "Нейросеть состоит из множества соединенных между собой нейронов.\n",
    "Пример несложной нейронной сети ![wb7_ph2](photos/wb7_ph2.png)\n",
    "где:\n",
    "$x_1, x_2$ — входной слой;  \n",
    "$h_1, h_2$ — скрытый слой с двумя нейронами;  \n",
    "$o_1$ — выходной слой.\n",
    "\n",
    "Например. Представим, что нейроны из графика выше имеют веса\n",
    "$[0, 1]$. Пороговое значение ($b$) у обоих нейронов равно 0 и они имеют\n",
    "идентичную сигмоиду.\n",
    "\n",
    "При входных данных $x = [2, 3]$ получим:  \n",
    "$h_1 = h_2 = f(wx + b) = f((02) + (1 ∗ 3) + 0) = f(3) = 0.95.$  \n",
    "$o_1 = f(w ∗ [h_1, h_2] + b) = f((0h_1) + (1h_2) + 0) = f(0.95) = 0.72.$\n",
    "\n",
    "Входные данные по нейронам передаются до тех пор, пока не получатся выходные значения."
   ]
  },
  {
   "cell_type": "code",
   "execution_count": 4,
   "id": "3be4be4e",
   "metadata": {
    "scrolled": true
   },
   "outputs": [
    {
     "name": "stdout",
     "output_type": "stream",
     "text": [
      "0.7216325609518421\n"
     ]
    }
   ],
   "source": [
    "import numpy as np\n",
    "class OurNeuralNetwork:\n",
    "    '''\n",
    "    Данные нейросети:\n",
    "        - два входа\n",
    "        - два нейрона в скрытых слоях (h1, h2)\n",
    "        - выход (o1)\n",
    "    Нейроны имеют идентичные веса и пороги:\n",
    "        - w = [0, 1]\n",
    "        - b = 0\n",
    "    '''\n",
    "    def __init__(self):\n",
    "        weights = np.array([0, 1])\n",
    "        bias = 0\n",
    "        # Класс Neuron из предыдущего раздела\n",
    "        self.h1 = Neuron(weights, bias)\n",
    "        self.h2 = Neuron(weights, bias)\n",
    "        self.o1 = Neuron(weights, bias)\n",
    "    def feedforward(self, x):\n",
    "        out_h1 = self.h1.feedforward(x)\n",
    "        out_h2 = self.h2.feedforward(x)\n",
    "        # Входы для o1 - это выходы h1 и h2\n",
    "        out_o1 = self.o1.feedforward(np.array([out_h1, out_h2]))\n",
    "        return out_o1\n",
    "\n",
    "network = OurNeuralNetwork()\n",
    "x = np.array([2, 3])\n",
    "print(network.feedforward(x)) # 0.7216325609518421"
   ]
  },
  {
   "cell_type": "markdown",
   "id": "8b18e01c",
   "metadata": {},
   "source": [
    "---\n",
    "\n",
    "# 1.3. Теоретический материал – Обучение нейронной сети\n",
    "\n",
    "Обучение нейросети — это подбор весов, которые соответствуют всем входам для решения поставленных задач.\n",
    "\n",
    "Класс нейронной сети:"
   ]
  },
  {
   "cell_type": "code",
   "execution_count": 5,
   "id": "90d3a6aa",
   "metadata": {},
   "outputs": [],
   "source": [
    "class NeuralNetwork:\n",
    "    def __init__(self, x, y):\n",
    "        self.input    = x\n",
    "        self.weights1 = np.random.rand(self.input.shape[1], 4)\n",
    "        self.weights2 = np.random.rand(4, 1)\n",
    "        self.y        = y\n",
    "        self.output   = np.zeros(y.shape)"
   ]
  },
  {
   "cell_type": "markdown",
   "id": "d7a7a940",
   "metadata": {},
   "source": [
    "Каждый этап процесса обучения состоит из:\n",
    "- прямого распространения (прогнозируемый выход);\n",
    "- обратного распространения (обновление весов и смещений).\n",
    "\n",
    "Например:  \n",
    "Дана двуслойная нейросеть:  \n",
    "$\\hat{y} = \\sigma(w_2\\sigma(w_1x + b_1) + b_2)$\n",
    "\n",
    "В данном случае на выход $\\hat{y}$ влияют только две переменные — $w$ (веса) и $b$ (смещение). Настройку весов и смещений из данных входа или процесс обучения нейросети можно изобразить так: ![wb7_ph3](photos/wb7_ph3.png)\n",
    "\n",
    "**Прямое распространение.**  \n",
    "Как видно, формула прямого распространения представляет собой несложное вычисление:  \n",
    "$\\hat{y} = \\sigma(w_2\\sigma(w_1x + b_1) + b_2)$\n",
    "\n",
    "Далее необходимо добавить в код функцию прямого распространения. Предположим, что смещения в этом случае будут равны 0."
   ]
  },
  {
   "cell_type": "code",
   "execution_count": 6,
   "id": "a9955bd8",
   "metadata": {},
   "outputs": [],
   "source": [
    "class NeuralNetwork:\n",
    "    def __init__(self, x, y):\n",
    "        self.input    = x\n",
    "        self.weights1 = np.random.rand(self.input.shape[1], 4)\n",
    "        self.weights2 = np.random.rand(4, 1)\n",
    "        self.y        = y\n",
    "        self.output   = np.zeros(y.shape)\n",
    "    def feedforward(self):\n",
    "        self.layer1 = sigmoid(np.dot(self.input, self.weights1))\n",
    "        self.output = sigmoid(np.dot(self.layer1, self.weights2))"
   ]
  },
  {
   "cell_type": "markdown",
   "id": "5e78acf9",
   "metadata": {},
   "source": [
    "Чтобы вычислить ошибку прогноза, необходимо использовать функцию потери. В примере уместно воспользоваться формулой суммы квадратов ошибок — средним значением между прогнозируемым и фактическим результатами:  \n",
    "$Error = \\sum\\limits_{i=1}^n (y - \\hat{y})^2$\n",
    "\n",
    "**Обратное распространение**  \n",
    "Обратное распространение позволяет измерить производные в обратном порядке — от конца к началу, и скорректировать веса и смещения. Для этого необходимо узнать производную функции потери — тангенс угла наклона. ![wb7_ph4](photos/wb7_ph4.png)\n",
    "\n",
    "Производная функции по отношению к весам и смещениям позволяет узнать градиентный спуск. Производная функции потери не содержит весов и смещений, для ее вычисления необходимо добавить правило цепи:\n",
    "\n",
    "$Loss(y, \\hat{y}) = \\sum\\limits_{i=1}^n (y - \\hat{y})^2$  \n",
    "\n",
    "$\\frac{\\delta Loss(y, \\hat{y})}{\\delta W} = \\frac{\\delta Loss(y, \\hat{y})}{\\delta \\hat{y}} \\cdot \\frac{\\delta \\hat{y}}{\\delta z} \\cdot \\frac{\\delta z}{\\delta W} =$\n",
    "\n",
    "$= 2(y - \\hat{y}) \\cdot $ производную сигмоиды $ \\cdot x =$\n",
    "\n",
    "$= 2(y - \\hat{y}) \\cdot z(1 - z) \\cdot x$\n",
    "\n",
    "где $z = Wx + b$.\n",
    "\n",
    "Благодаря этому правилу можно регулировать веса. Добавляем в код Python функцию обратного распространения:"
   ]
  },
  {
   "cell_type": "code",
   "execution_count": 7,
   "id": "dbfe7ac7",
   "metadata": {},
   "outputs": [],
   "source": [
    "class NeuralNetwork:\n",
    "    def __init__(self, x, y):\n",
    "        self.input    = x\n",
    "        self.weights1 = np.random.rand(self.input.shape[1], 4)\n",
    "        self.weights2 = np.random.rand(4, 1)\n",
    "        self.y        = y\n",
    "        self.output   = np.zeros(y.shape)\n",
    "    def feedforward(self):\n",
    "        self.layer1 = sigmoid(np.dot(self.input, self.weights1))\n",
    "        self.output = sigmoid(np.dot(self.layer1, self.weights2))\n",
    "    def backprop(self):\n",
    "        # применение правила цепи для нахождения производной функции потерь по весу2 и весу1\n",
    "        d_weights2 = np.dot(self.layer1.T, (2*(self.y - self.output) * sigmoid_derivative(self.output)))\n",
    "        d_weights1 = np.dot(self.input.T, (np.dot(2*(self.y - self.output) * sigmoid_derivative(self.output),\n",
    "                                                 self.weights2.t) * sigmoid_derivative(self.layer1)))\n",
    "        # обновление веса производной (наклона) функции потерь\n",
    "        self.weights1 += d_weights1\n",
    "        self.weights2 += d_weights2"
   ]
  },
  {
   "cell_type": "markdown",
   "id": "272f8a74",
   "metadata": {},
   "source": [
    "Нейронные сети базируются на определенных алгоритмах и математических функциях. Сначала может казаться, что разобраться в них довольно сложно. Но существуют готовые библиотеки машинного обучения для построения и тренировки нейросетей, позволяющие не углубляться в их устройство.\n",
    "\n",
    "## 3.3.1 Задание\n",
    "### Задача:\n",
    "#### Реализовать классы нейросетей по аналогии с классом OurNeuralNetwork.\n",
    "Данные нейросети:\n",
    "- три входа ($x_1, x_2, x_3$);\n",
    "- три нейрона в скрытых слоях ($h_1, h_2, h_3$);\n",
    "- выход ($o_1$).  \n",
    "\n",
    "Нейроны имеют идентичные веса и пороги:\n",
    "- $w = [0.5, 0.5, 0.5]$\n",
    "- $b = 0$  \n",
    "\n",
    "Данные нейросети:\n",
    "- два входа ($x_1, x_2$);\n",
    "- два нейрона в скрытых слоях ($h_1, h_2$);\n",
    "- два выхода ($o_1, o_2$).  \n",
    "\n",
    "Нейроны имеют идентичные веса и пороги:\n",
    "- $w = [1, 0]$;\n",
    "- $b = 1$.\n",
    "### Решение / Ответ:"
   ]
  },
  {
   "cell_type": "code",
   "execution_count": 8,
   "id": "092052a7",
   "metadata": {},
   "outputs": [
    {
     "name": "stdout",
     "output_type": "stream",
     "text": [
      "0.8151036049051821\n"
     ]
    }
   ],
   "source": [
    "class OurNeuralNetwork:\n",
    "    def __init__(self):\n",
    "        weights = np.array([0.5, 0.5, 0.5])\n",
    "        bias = 0\n",
    "        \n",
    "        self.h1 = Neuron(weights, bias)\n",
    "        self.h2 = Neuron(weights, bias)\n",
    "        self.h3 = Neuron(weights, bias)\n",
    "        self.o1 = Neuron(weights, bias)\n",
    "    \n",
    "    def feedforward(self, *args):\n",
    "        out_h1 = self.h1.feedforward(*args)\n",
    "        out_h2 = self.h2.feedforward(*args)\n",
    "        out_h3 = self.h2.feedforward(*args)\n",
    "        \n",
    "        out_o1 = self.o1.feedforward(np.array([out_h1, out_h2, out_h3]))\n",
    "        \n",
    "        return out_o1\n",
    "\n",
    "network = OurNeuralNetwork()\n",
    "x = np.array([2, 3, 4])\n",
    "print(network.feedforward(x))"
   ]
  },
  {
   "cell_type": "code",
   "execution_count": 9,
   "id": "9c4f65dd",
   "metadata": {},
   "outputs": [
    {
     "name": "stdout",
     "output_type": "stream",
     "text": [
      "(0.8757270529783324, 0.8757270529783324)\n"
     ]
    }
   ],
   "source": [
    "class OurNeuralNetwork:\n",
    "    def __init__(self):\n",
    "        weights = np.array([1, 0])\n",
    "        bias = 1\n",
    "        \n",
    "        self.h1 = Neuron(weights, bias)\n",
    "        self.h2 = Neuron(weights, bias)\n",
    "        self.o1 = Neuron(weights, bias)\n",
    "        self.o2 = Neuron(weights, bias)\n",
    "    \n",
    "    def feedforward(self, *args):\n",
    "        out_h1 = self.h1.feedforward(*args)\n",
    "        out_h2 = self.h2.feedforward(*args)\n",
    "        \n",
    "        out_o1 = self.o1.feedforward(np.array([out_h1, out_h2]))\n",
    "        out_o2 = self.o2.feedforward(np.array([out_h1, out_h2]))\n",
    "        \n",
    "        return out_o1, out_o2\n",
    "\n",
    "network = OurNeuralNetwork()\n",
    "x = np.array([2, 3])\n",
    "print(network.feedforward(x))"
   ]
  },
  {
   "cell_type": "markdown",
   "id": "c0348ed1",
   "metadata": {},
   "source": [
    "## 3.3.2 Задание\n",
    "### Задача:\n",
    "#### Реализуйте классы нейронных сетей с использованием других функций активации.\n",
    "![wb7_ph5](photos/wb7_ph5.png)\n",
    "### Решение / Ответ:"
   ]
  },
  {
   "cell_type": "code",
   "execution_count": 10,
   "id": "88dff8d2",
   "metadata": {},
   "outputs": [
    {
     "name": "stdout",
     "output_type": "stream",
     "text": [
      "[[0.77335339]\n",
      " [0.77303652]\n",
      " [0.77747003]\n",
      " [0.77754127]]\n"
     ]
    }
   ],
   "source": [
    "x = np.random.rand(4, 1)\n",
    "y = np.random.rand(4, 1)\n",
    "\n",
    "# Sigmoid\n",
    "\n",
    "class NeuralNetwork:\n",
    "    def __init__(self, x, y):\n",
    "        self.input    = x\n",
    "        self.weights1 = np.random.rand(self.input.shape[1], 4)\n",
    "        self.weights2 = np.random.rand(4, 1)\n",
    "        self.y        = y\n",
    "        self.output   = np.zeros(y.shape)\n",
    "    def feedforward(self):\n",
    "        self.layer1 = sigmoid(np.dot(self.input, self.weights1))\n",
    "        self.output = sigmoid(np.dot(self.layer1, self.weights2))\n",
    "        \n",
    "        return self.output\n",
    "\n",
    "network = NeuralNetwork(x, y)\n",
    "print(network.feedforward())"
   ]
  },
  {
   "cell_type": "code",
   "execution_count": 11,
   "id": "86492653",
   "metadata": {},
   "outputs": [
    {
     "name": "stdout",
     "output_type": "stream",
     "text": [
      "[[0.69996351]\n",
      " [0.69335868]\n",
      " [0.77439518]\n",
      " [0.77550971]]\n"
     ]
    }
   ],
   "source": [
    "# tanh\n",
    "\n",
    "def tanh(x):\n",
    "    return np.tanh(x)\n",
    "\n",
    "class NeuralNetwork:\n",
    "    def __init__(self, x, y):\n",
    "        self.input    = x\n",
    "        self.weights1 = np.random.rand(self.input.shape[1], 4)\n",
    "        self.weights2 = np.random.rand(4, 1)\n",
    "        self.y        = y\n",
    "        self.output   = np.zeros(y.shape)\n",
    "    def feedforward(self):\n",
    "        self.layer1 = tanh(np.dot(self.input, self.weights1))\n",
    "        self.output = tanh(np.dot(self.layer1, self.weights2))\n",
    "        \n",
    "        return self.output\n",
    "    \n",
    "network = NeuralNetwork(x, y)\n",
    "print(network.feedforward())"
   ]
  },
  {
   "cell_type": "code",
   "execution_count": 12,
   "id": "432be387",
   "metadata": {},
   "outputs": [
    {
     "name": "stdout",
     "output_type": "stream",
     "text": [
      "[[0.6914863 ]\n",
      " [0.68038863]\n",
      " [0.83734514]\n",
      " [0.83989836]]\n"
     ]
    }
   ],
   "source": [
    "# ReLU\n",
    "\n",
    "def ReLU(x):\n",
    "    return np.maximum(0, x)\n",
    "\n",
    "class NeuralNetwork:\n",
    "    def __init__(self, x, y):\n",
    "        self.input    = x\n",
    "        self.weights1 = np.random.rand(self.input.shape[1], 4)\n",
    "        self.weights2 = np.random.rand(4, 1)\n",
    "        self.y        = y\n",
    "        self.output   = np.zeros(y.shape)\n",
    "    def feedforward(self):\n",
    "        self.layer1 = ReLU(np.dot(self.input, self.weights1))\n",
    "        self.output = ReLU(np.dot(self.layer1, self.weights2))\n",
    "        \n",
    "        return self.output\n",
    "    \n",
    "network = NeuralNetwork(x, y)\n",
    "print(network.feedforward())"
   ]
  },
  {
   "cell_type": "markdown",
   "id": "fbb8ef52",
   "metadata": {},
   "source": [
    "---\n",
    "\n",
    "# 1.4. Введение в нейронные сети с помощью Scikit-Learn в Python\n",
    "\n",
    "Теперь мы знаем, что такое нейронные сети и какие шаги необходимо выполнить, чтобы построить простую нейронную сеть с плотными связями. В этом разделе мы попытаемся построить простую нейронную сеть, которая предсказывает класс, к которому принадлежит данное растение ириса. Мы будем использовать библиотеку Python Scikit-Learn для создания нашей нейронной сети.\n",
    "\n",
    "Sklearn предоставляет 2 оценщика для задач классификации и регрессии соответственно:\n",
    "- MLPClassifier;\n",
    "- MLPRegressor\n",
    "\n",
    "Начнем с импорта необходимых библиотек."
   ]
  },
  {
   "cell_type": "code",
   "execution_count": 13,
   "id": "cf67e819",
   "metadata": {},
   "outputs": [],
   "source": [
    "#Загрузка библиотек\n",
    "import numpy as np\n",
    "import pandas as pd\n",
    "import matplotlib.pyplot as plt\n",
    "\n",
    "import sklearn"
   ]
  },
  {
   "cell_type": "markdown",
   "id": "aa468e48",
   "metadata": {},
   "source": [
    "# MLPClassifier\n",
    "Загрузка данных  \n",
    "Мы будем загружать два набора данных.  \n",
    "Набор данных цифр: мы будем использовать набор данных цифр, который имеет изображения размером 8x8 для цифр 0-9. Ниже мы будем использовать цифровые данные для задач классификации.\n",
    "\n",
    "Набор данных о жилье в Бостоне: мы будем использовать набор данных о жилье в Бостоне, который содержит информацию о различных свойствах дома, таких как среднее количество комнат, уровень преступности на душу населения в городе и т. д. Мы будем использовать его для задач регрессии.\n",
    "\n",
    "Sklearn предоставляет оба этих набора данных. Мы можем загрузить их, вызвав методы load_digits() и load_boston()."
   ]
  },
  {
   "cell_type": "code",
   "execution_count": 14,
   "id": "88ab6c11",
   "metadata": {},
   "outputs": [
    {
     "name": "stdout",
     "output_type": "stream",
     "text": [
      "Dataset Sizes :  (1797, 64) (1797,)\n"
     ]
    }
   ],
   "source": [
    "from sklearn.datasets import load_digits, load_boston\n",
    "\n",
    "digits = load_digits()\n",
    "X_digits, Y_digits = digits.data, digits.target\n",
    "print('Dataset Sizes : ', X_digits.shape, Y_digits.shape)"
   ]
  },
  {
   "cell_type": "code",
   "execution_count": 15,
   "id": "b9aa6753",
   "metadata": {},
   "outputs": [
    {
     "name": "stdout",
     "output_type": "stream",
     "text": [
      "Dataset Sizes :  (506, 13) (506,)\n"
     ]
    }
   ],
   "source": [
    "# boston = load_boston() # выдаёт ошибку => решение\n",
    "\n",
    "data_url = \"http://lib.stat.cmu.edu/datasets/boston\"\n",
    "raw_df = pd.read_csv(data_url, sep=\"\\s+\", skiprows=22, header=None)\n",
    "data = np.hstack([raw_df.values[::2, :], raw_df.values[1::2, :2]])\n",
    "target = raw_df.values[1::2, 2]\n",
    "\n",
    "X_boston, Y_boston = data, target\n",
    "print('Dataset Sizes : ', X_boston.shape, Y_boston.shape)"
   ]
  },
  {
   "cell_type": "markdown",
   "id": "e5cdfd66",
   "metadata": {},
   "source": [
    "Классификация  \n",
    "MLPClassifier — это клвсс, доступный как часть модуля neuro_network sklearn для выполнения задач классификации с использованием многослойного персептрона.\n",
    "\n",
    "Как обычно разделим набор данных на две части:\n",
    "- данные обучения, которые будут использоваться для модели обучения;\n",
    "- тестовые данные, по которым будет проверяться точность обученной модели.\n",
    "\n",
    "Функция train_test_split модуля model_selection sklearn поможет нам разделить данные на два набора: 80% для обучения и 20% для тестирования. Мы также используем seed(random_state=123) с train_test_split, чтобы мы всегда получали одно и то же разделение и могли сравнивать и воспроизволить результаты в будущем."
   ]
  },
  {
   "cell_type": "code",
   "execution_count": 16,
   "id": "dc7013a1",
   "metadata": {},
   "outputs": [
    {
     "name": "stdout",
     "output_type": "stream",
     "text": [
      "Train/Test Sizes :  (1437, 64) (360, 64) (1437,) (360,)\n"
     ]
    }
   ],
   "source": [
    "from sklearn.model_selection import train_test_split\n",
    "\n",
    "X_train, X_test, Y_train, Y_test = train_test_split(X_digits, Y_digits,\n",
    "                                                   train_size = 0.80, test_size = 0.20, \n",
    "                                                   stratify = Y_digits, random_state = 123)\n",
    "print('Train/Test Sizes : ', X_train.shape, X_test.shape, Y_train.shape, Y_test.shape)"
   ]
  },
  {
   "cell_type": "markdown",
   "id": "c1c1770d",
   "metadata": {},
   "source": [
    "Для начала натренируем модель MLPClassifier с параметрами по умолчанию для тренировочных данных."
   ]
  },
  {
   "cell_type": "code",
   "execution_count": 17,
   "id": "d148e790",
   "metadata": {},
   "outputs": [
    {
     "data": {
      "text/plain": [
       "MLPClassifier(random_state=123)"
      ]
     },
     "execution_count": 17,
     "metadata": {},
     "output_type": "execute_result"
    }
   ],
   "source": [
    "from sklearn.neural_network import MLPClassifier\n",
    "\n",
    "mlp_classifier = MLPClassifier(random_state = 123)\n",
    "mlp_classifier.fit(X_train, Y_train)"
   ]
  },
  {
   "cell_type": "code",
   "execution_count": 18,
   "id": "244a2338",
   "metadata": {},
   "outputs": [
    {
     "name": "stdout",
     "output_type": "stream",
     "text": [
      "[5 9 9 6 1 6 6 9 8 7 4 2 1 4 3]\n",
      "[5 9 9 6 1 6 6 9 8 7 4 2 1 4 3]\n",
      "Test Accuracy : 0.983\n",
      "Training Accuracy : 1.000\n"
     ]
    }
   ],
   "source": [
    "Y_preds = mlp_classifier.predict(X_test)\n",
    "\n",
    "print(Y_preds[:15])\n",
    "print(Y_test[:15])\n",
    "## Метод Score для оценки точности моделей классификации.\n",
    "print('Test Accuracy : %.3f'%mlp_classifier.score(X_test, Y_test))\n",
    "\n",
    "print('Training Accuracy : %.3f'%mlp_classifier.score(X_train, Y_train))"
   ]
  },
  {
   "cell_type": "markdown",
   "id": "d74c1397",
   "metadata": {},
   "source": [
    "Cоздадим метод plot_confusion_matrix(), который принимает исходные и предсказанные метки данных по модели. Затем он строит матрицу путаницы, используя matplotlib."
   ]
  },
  {
   "cell_type": "code",
   "execution_count": 19,
   "id": "cc5b2051",
   "metadata": {},
   "outputs": [
    {
     "data": {
      "image/png": "[encoded data removed]",
      "text/plain": [
       "<Figure size 432x432 with 2 Axes>"
      ]
     },
     "metadata": {
      "needs_background": "light"
     },
     "output_type": "display_data"
    }
   ],
   "source": [
    "from sklearn.metrics import confusion_matrix\n",
    "\n",
    "def plot_confusion_matrix(Y_test, Y_preds):\n",
    "    conf_mat = confusion_matrix(Y_test, Y_preds)\n",
    "    #print(conf_mat)\n",
    "    fig = plt.figure(figsize=(6, 6))\n",
    "    plt.matshow(conf_mat, cmap = plt.cm.Blues, fignum = 1)\n",
    "    plt.yticks(range(10), range(10))\n",
    "    plt.xticks(range(10), range(10))\n",
    "    plt.colorbar()\n",
    "    for i in range(10):\n",
    "        for j in range(10):\n",
    "            plt.text(i - 0.2, j + 0.1, str(conf_mat[j, i]), color = 'tab:red')\n",
    "            \n",
    "plot_confusion_matrix(Y_test, mlp_classifier.predict(X_test))"
   ]
  },
  {
   "cell_type": "markdown",
   "id": "c9a9f977",
   "metadata": {},
   "source": [
    "Ниже приведен список важных атрибутов, доступных с MLPClassifier, которые могут предоставить значимую информацию после обучения модели.\n",
    "\n",
    "- loss_ — возвращает убыток после завершения процесса обучения.\n",
    "- coefs_ — возвращает массив длины n_layers-1, где каждый элемент представляет веса, связанные с уровнем i.\n",
    "- intercepts_ — возвращает массив длины n_layers-1, где каждый элемент представляет собой перехват, связанный с персептронами слоя i.\n",
    "- n_iter_ — количество итераций, для которых выполнялась оценка.\n",
    "- out_activation_ — возвращает имя функции активации выходного слоя."
   ]
  },
  {
   "cell_type": "code",
   "execution_count": 20,
   "id": "f6c1cf6c",
   "metadata": {},
   "outputs": [
    {
     "name": "stdout",
     "output_type": "stream",
     "text": [
      "Loss :  0.0034728684994180608\n",
      "Number of Coefs :  2\n",
      "Number of Intercepts :  2\n",
      "Number of Iterations for Which Estimator Ran :  125\n",
      "Name of Output Layer Activation Function :  softmax\n"
     ]
    }
   ],
   "source": [
    "print(\"Loss : \", mlp_classifier.loss_) \n",
    "print(\"Number of Coefs : \", len(mlp_classifier.coefs_)) \n",
    "print(\"Number of Intercepts : \", len(mlp_classifier.intercepts_)) \n",
    "print(\"Number of Iterations for Which Estimator Ran : \", mlp_classifier.n_iter_) \n",
    "print(\"Name of Output Layer Activation Function : \", mlp_classifier.out_activation_)"
   ]
  },
  {
   "cell_type": "markdown",
   "id": "2553a1d7",
   "metadata": {},
   "source": [
    "# MLPRegressor\n",
    "\n",
    "MLPRegressor — это класс, доступный как часть библиотеки neuro_network sklearn для выполнения задач регрессии с использованием многослойного персептрона. Также разделим набор данных на две части:\n",
    "- данные обучения (80%), которые будут использоваться для модели обучения;\n",
    "- тестовые данные (20%), по которым будет проверяться точность обученной модели."
   ]
  },
  {
   "cell_type": "code",
   "execution_count": 21,
   "id": "6a503c83",
   "metadata": {},
   "outputs": [
    {
     "name": "stdout",
     "output_type": "stream",
     "text": [
      "Train/Test Sizes :  (404, 13) (102, 13) (404,) (102,)\n"
     ]
    }
   ],
   "source": [
    "X_train, X_test, Y_train, Y_test = train_test_split(X_boston, Y_boston, train_size = 0.80, test_size = 0.20)\n",
    "print('Train/Test Sizes : ', X_train.shape, X_test.shape, Y_train.shape, Y_test.shape)"
   ]
  },
  {
   "cell_type": "code",
   "execution_count": 22,
   "id": "843af213",
   "metadata": {},
   "outputs": [
    {
     "data": {
      "text/plain": [
       "MLPRegressor(random_state=123)"
      ]
     },
     "execution_count": 22,
     "metadata": {},
     "output_type": "execute_result"
    }
   ],
   "source": [
    "from sklearn.neural_network import MLPRegressor\n",
    "\n",
    "mlp_regressor = MLPRegressor(random_state = 123)\n",
    "mlp_regressor.fit(X_train, Y_train)"
   ]
  },
  {
   "cell_type": "code",
   "execution_count": 23,
   "id": "56dbb36b",
   "metadata": {},
   "outputs": [
    {
     "name": "stdout",
     "output_type": "stream",
     "text": [
      "[19.513369   26.01762109 23.64432305 26.90253115 23.27290617  8.71915965\n",
      " 27.74513492 26.60461583 26.86363629 28.24199898]\n",
      "[11.8 20.3 19.9 21.4 16.2 10.2 30.7 23.8 37.  29. ]\n",
      "Test R^2 Score : 0.388\n",
      "Training R^2 Score : 0.531\n"
     ]
    }
   ],
   "source": [
    "Y_preds = mlp_regressor.predict(X_test)\n",
    "\n",
    "print(Y_preds[:10])\n",
    "print(Y_test[:10])\n",
    "## Метод Score оценивает точность моделей классификации.\n",
    "print('Test R^2 Score : %.3f'%mlp_regressor.score(X_test, Y_test))\n",
    "print('Training R^2 Score : %.3f'%mlp_regressor.score(X_train, Y_train))"
   ]
  },
  {
   "cell_type": "code",
   "execution_count": 24,
   "id": "b04a3720",
   "metadata": {},
   "outputs": [
    {
     "name": "stdout",
     "output_type": "stream",
     "text": [
      "Loss :  21.419611873979687\n",
      "Number of Coefs :  2\n",
      "Number of Intercepts :  2\n"
     ]
    },
    {
     "data": {
      "text/plain": [
       "[(13, 100), (100, 1)]"
      ]
     },
     "execution_count": 24,
     "metadata": {},
     "output_type": "execute_result"
    }
   ],
   "source": [
    "print(\"Loss : \", mlp_regressor.loss_) \n",
    "print(\"Number of Coefs : \", len(mlp_regressor.coefs_)) \n",
    "print(\"Number of Intercepts : \", len(mlp_regressor.intercepts_))\n",
    "[weights.shape for weights in mlp_regressor.coefs_]"
   ]
  },
  {
   "cell_type": "code",
   "execution_count": 25,
   "id": "2d13aafd",
   "metadata": {},
   "outputs": [
    {
     "name": "stdout",
     "output_type": "stream",
     "text": [
      "Number of Iterations for Which Estimator Ran :  71\n",
      "Name of Output Layer Activation Function :  identity\n"
     ]
    }
   ],
   "source": [
    "print(\"Number of Iterations for Which Estimator Ran : \", mlp_regressor.n_iter_) \n",
    "print(\"Name of Output Layer Activation Function : \", mlp_regressor.out_activation_)"
   ]
  },
  {
   "cell_type": "markdown",
   "id": "f5ae563c",
   "metadata": {},
   "source": [
    "## 4.3.2 Задание\n",
    "### Задача:\n",
    "#### Используйте классы MLPClassified и MLPRegressor для классификации и регрессии произвольных данных из интернета. Проведите анализ атрибуты, полученных моделей.\n",
    "\n",
    "Для классификации можете взять набор данных Ирисов:\n",
    "https://gist.githubusercontent.com/netj/8836201/raw/6f9306ad21398ea43cba4f7d537619d0e07d5ae3/iris.csv\n",
    "\n",
    "а для регрессии датасет зависимости заработной платы от опыта работы:\n",
    "https://raw.githubusercontent.com/AnnaShestova/salary-years-simple-linear-regression/master/Salary_Data.csv\n",
    "\n",
    "### Решение / Ответ:"
   ]
  },
  {
   "cell_type": "code",
   "execution_count": 26,
   "id": "adf91fef",
   "metadata": {
    "scrolled": true
   },
   "outputs": [
    {
     "name": "stdout",
     "output_type": "stream",
     "text": [
      "Train/Test Sizes :  (120, 4) (30, 4) (404,) (102,)\n"
     ]
    }
   ],
   "source": [
    "df = pd.read_csv('https://gist.githubusercontent.com/netj/8836201/raw/6f9306ad21398ea43cba4f7d537619d0e07d5ae3/iris.csv')\n",
    "X = df.iloc[:, :-1].values\n",
    "y = df.iloc[:, -1].values\n",
    "\n",
    "X_train, X_test, y_train, y_test = train_test_split(\n",
    "    X,\n",
    "    y,\n",
    "    stratify = y,\n",
    "    test_size = 0.20,\n",
    "    train_size = 0.80,\n",
    "    random_state = 123\n",
    ")\n",
    "\n",
    "print('Train/Test Sizes : ', X_train.shape, X_test.shape, Y_train.shape, Y_test.shape)"
   ]
  },
  {
   "cell_type": "code",
   "execution_count": 27,
   "id": "bea91a24",
   "metadata": {},
   "outputs": [
    {
     "name": "stdout",
     "output_type": "stream",
     "text": [
      "['Versicolor' 'Setosa' 'Virginica' 'Virginica' 'Setosa' 'Setosa'\n",
      " 'Virginica' 'Virginica' 'Virginica' 'Setosa' 'Setosa' 'Versicolor'\n",
      " 'Virginica' 'Versicolor' 'Virginica']\n",
      "['Versicolor' 'Setosa' 'Virginica' 'Virginica' 'Setosa' 'Setosa'\n",
      " 'Virginica' 'Versicolor' 'Virginica' 'Setosa' 'Setosa' 'Versicolor'\n",
      " 'Virginica' 'Versicolor' 'Virginica']\n",
      "Test Accuracy : 0.933\n",
      "Training Accuracy : 0.992\n"
     ]
    }
   ],
   "source": [
    "mlp_classifier = MLPClassifier(random_state=123, max_iter=1000)\n",
    "mlp_classifier.fit(X_train, y_train)\n",
    "\n",
    "y_preds = mlp_classifier.predict(X_test)\n",
    "print(y_preds[:15])\n",
    "print(y_test[:15])\n",
    "\n",
    "print('Test Accuracy : %.3f'%mlp_classifier.score(X_test, y_test))\n",
    "\n",
    "print('Training Accuracy : %.3f'%mlp_classifier.score(X_train, y_train))"
   ]
  },
  {
   "cell_type": "code",
   "execution_count": 28,
   "id": "48e5f804",
   "metadata": {},
   "outputs": [
    {
     "name": "stdout",
     "output_type": "stream",
     "text": [
      "[[10  0  0]\n",
      " [ 0  8  2]\n",
      " [ 0  0 10]]\n"
     ]
    }
   ],
   "source": [
    "conf_mat = confusion_matrix(y_test, y_preds)\n",
    "print(conf_mat)"
   ]
  },
  {
   "cell_type": "code",
   "execution_count": 29,
   "id": "c1fab7c4",
   "metadata": {
    "scrolled": true
   },
   "outputs": [
    {
     "name": "stdout",
     "output_type": "stream",
     "text": [
      "Loss :  0.06237838693566961\n",
      "Number of Coefs :  2\n",
      "Number of Intercepts :  2\n",
      "Number of Iterations for Which Estimator Ran :  641\n",
      "Name of Output Layer Activation Function :  softmax\n"
     ]
    }
   ],
   "source": [
    "print(\"Loss : \", mlp_classifier.loss_) \n",
    "print(\"Number of Coefs : \", len(mlp_classifier.coefs_)) \n",
    "print(\"Number of Intercepts : \", len(mlp_classifier.intercepts_)) \n",
    "print(\"Number of Iterations for Which Estimator Ran : \", mlp_classifier.n_iter_) \n",
    "print(\"Name of Output Layer Activation Function : \", mlp_classifier.out_activation_)"
   ]
  },
  {
   "cell_type": "code",
   "execution_count": 30,
   "id": "6a63c588",
   "metadata": {},
   "outputs": [
    {
     "name": "stdout",
     "output_type": "stream",
     "text": [
      "Train/Test Sizes :  (24, 1) (6, 1) (404,) (102,)\n"
     ]
    }
   ],
   "source": [
    "df = pd.read_csv('https://raw.githubusercontent.com/AnnaShestova/salary-years-simple-linear-regression/master/Salary_Data.csv')\n",
    "X = df.iloc[:, :-1].values\n",
    "y = df.iloc[:, -1].values\n",
    "\n",
    "X_train, X_test, y_train, y_test = train_test_split(\n",
    "    X,\n",
    "    y,\n",
    "    test_size = 0.20,\n",
    "    train_size = 0.80,\n",
    "    random_state=123\n",
    ")\n",
    "\n",
    "print('Train/Test Sizes : ', X_train.shape, X_test.shape, Y_train.shape, Y_test.shape)"
   ]
  },
  {
   "cell_type": "code",
   "execution_count": 31,
   "id": "0f34d3d2",
   "metadata": {
    "scrolled": false
   },
   "outputs": [
    {
     "data": {
      "text/plain": [
       "MLPRegressor(max_iter=40000, random_state=123)"
      ]
     },
     "execution_count": 31,
     "metadata": {},
     "output_type": "execute_result"
    }
   ],
   "source": [
    "mlp_regressor = MLPRegressor(random_state=123, max_iter = 40000)\n",
    "mlp_regressor.fit(X_train, y_train)"
   ]
  },
  {
   "cell_type": "code",
   "execution_count": 32,
   "id": "412c6eba",
   "metadata": {},
   "outputs": [
    {
     "name": "stdout",
     "output_type": "stream",
     "text": [
      "[ 55265.2045971  126554.5591937   52335.80522199 116782.59147446\n",
      "  55265.2045971  117759.05793283]\n",
      "[ 54445. 121872.  56642. 116969.  64445. 112635.]\n",
      "Test R^2 Score : 0.971\n",
      "Training R^2 Score : 0.948\n"
     ]
    }
   ],
   "source": [
    "y_preds = mlp_regressor.predict(X_test)\n",
    "print(y_preds[:10])\n",
    "print(y_test[:10])\n",
    "\n",
    "print('Test R^2 Score : %.3f'%mlp_regressor.score(X_test, y_test))\n",
    "print('Training R^2 Score : %.3f'%mlp_regressor.score(X_train, y_train))"
   ]
  },
  {
   "cell_type": "code",
   "execution_count": 33,
   "id": "da9a423f",
   "metadata": {},
   "outputs": [
    {
     "name": "stdout",
     "output_type": "stream",
     "text": [
      "Loss :  16873681.689960096\n",
      "Number of Coefs :  2\n",
      "Number of Intercepts :  2\n"
     ]
    },
    {
     "data": {
      "text/plain": [
       "[(1, 100), (100, 1)]"
      ]
     },
     "execution_count": 33,
     "metadata": {},
     "output_type": "execute_result"
    }
   ],
   "source": [
    "print(\"Loss : \", mlp_regressor.loss_) \n",
    "print(\"Number of Coefs : \", len(mlp_regressor.coefs_)) \n",
    "print(\"Number of Intercepts : \", len(mlp_regressor.intercepts_))\n",
    "[weights.shape for weights in mlp_regressor.coefs_]"
   ]
  },
  {
   "cell_type": "code",
   "execution_count": 34,
   "id": "a5d9609e",
   "metadata": {},
   "outputs": [
    {
     "name": "stdout",
     "output_type": "stream",
     "text": [
      "Number of Iterations for Which Estimator Ran :  30344\n",
      "Name of Output Layer Activation Function :  identity\n"
     ]
    }
   ],
   "source": [
    "print(\"Number of Iterations for Which Estimator Ran : \", mlp_regressor.n_iter_) \n",
    "print(\"Name of Output Layer Activation Function : \", mlp_regressor.out_activation_)"
   ]
  }
 ],
 "metadata": {
  "kernelspec": {
   "display_name": "Python 3 (ipykernel)",
   "language": "python",
   "name": "python3"
  },
  "language_info": {
   "codemirror_mode": {
    "name": "ipython",
    "version": 3
   },
   "file_extension": ".py",
   "mimetype": "text/x-python",
   "name": "python",
   "nbconvert_exporter": "python",
   "pygments_lexer": "ipython3",
   "version": "3.9.12"
  }
 },
 "nbformat": 4,
 "nbformat_minor": 5
}
