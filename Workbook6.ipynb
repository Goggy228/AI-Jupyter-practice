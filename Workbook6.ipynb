{
 "cells": [
  {
   "cell_type": "markdown",
   "id": "1a392fff",
   "metadata": {},
   "source": [
    "# 1.1. Теоретический материал – Эволюционные методы\n",
    "\n",
    "Деревья решений являются одним из наиболее эффективных Эволюционные методы\n",
    "\n",
    "Эволюционные методы относятся к числу эффективных средств решения задач оптимизации и структурного синтеза проектных решений.\n",
    "Они основаны на использовании принципов оптимального приспособления организмов в живой природе к условиям окружающей среды. К числу эволюционных относятся методы генетические, колонии муравьев, поведения толпы. Наиболее развиты и востребованы в настоящее время генетические алгоритмы. По мере развития техники и технологий растет доля сложных задач проектирования и управления, для решения которых применение традиционных методов проблематично. Поэтому все большее внимание уделяется применению методов искусственного интеллекта. Генетические алгоритмы Для применения ГА необходимо:\n",
    "1. выделить совокупность свойств объекта, характеризуемых внутренними параметрами и влияющих на его полезность, т.е. выделить множество управляемых параметровX=(x_1,x_2,…,x_n) среди x_i могут быть величины различных типов (real, integer, Boolean, enumeration). Наличие нечисловых величин (enumeration) обусловливает возможность решения задач не только параметрической, но и структурной оптимизации;\n",
    "2. сформулировать количественную оценку полезности вариантов объекта — функцию полезности F. Если в исходном виде задача многокритериальна, то такая формулировка означает выбор скалярного (обобщенного) критерия;\n",
    "3. представить вектор X в форме хромосомы — записи следующего вида: ![wb6_ph1](photos/wb6_ph1.png)\n",
    "\n",
    "Этапы генетического алгоритма могут быть представлены в следующем виде:\n",
    "```c++\n",
    "for(k=0; k<G; k++)\n",
    "{ for(j=0; j<N; j++)\n",
    "    { Выбор родительской пары хромосом;\n",
    "      Кроссовер;\n",
    "      Мутации;\n",
    "      Оценка функции полезности F потомков;\n",
    "      Селекция;\n",
    "    }\n",
    "  Замена текущего поколения новым;\n",
    "}\n",
    "```\n",
    "\n",
    "\n",
    "## 1.2.1 Пример\n",
    "### Задача:\n",
    "#### Пусть дана начальная популяция из четырех хромосом с двумя генами x и y. Показатель качества хромосомы оценивается функцией Z. При равном качестве хромосом предпочтение отдается хромосоме с большим номером. На каждом этапе хромосома a с высшим качеством порождает четыре новых хромосомы $b_1, c_1, b_2, c_2$, обмениваясь генами с двумя хромосомами b и c более низкого качества по указанной схеме: ![wb6_ph2](photos/wb6_ph2.png)\n",
    "#### Последняя хромоcома (с низшим качеством) выбывает из популяции. Найти максимальный показатель качества хромосомы в популяции и общее качество популяции после четырех этапов эволюции.\n",
    "### Решение / Ответ:\n",
    "Начнем с функции оценки качества хромосомы qZ(x,y):"
   ]
  },
  {
   "cell_type": "code",
   "execution_count": 1,
   "id": "c6322bfd",
   "metadata": {},
   "outputs": [],
   "source": [
    "# функция качества хромосомы\n",
    "def qZ(x, y):\n",
    "    return (x - 3 * y + 1) / (3 * x ** 2 + 3 * y ** 2 + 1)"
   ]
  },
  {
   "cell_type": "markdown",
   "id": "58c37ddd",
   "metadata": {},
   "source": [
    "Далее, оценим суммарное качество хромосом:"
   ]
  },
  {
   "cell_type": "code",
   "execution_count": 2,
   "id": "b2ddaaee",
   "metadata": {},
   "outputs": [],
   "source": [
    "# сумма качества хромосом\n",
    "def qSumZ(Z):\n",
    "    return sum(Z)"
   ]
  },
  {
   "cell_type": "markdown",
   "id": "bdc0c5d6",
   "metadata": {},
   "source": [
    "И запрограммируем представленную выше схему обмена хромосомами:"
   ]
  },
  {
   "cell_type": "code",
   "execution_count": 3,
   "id": "c74505c9",
   "metadata": {},
   "outputs": [],
   "source": [
    "def exchangeScheme(oldX, oldY, sortedId):\n",
    "    X = [0 for i in range(4)]\n",
    "    Y = [0 for i in range(4)]\n",
    "    \n",
    "    X[2] = oldX[sortedId[2]]\n",
    "    X[3] = oldX[sortedId[2]]\n",
    "    \n",
    "    X[0] = oldX[sortedId[0]]\n",
    "    \n",
    "    X[1] = oldX[sortedId[1]]\n",
    "    \n",
    "    Y[0] = oldY[sortedId[2]]\n",
    "    Y[1] = oldY[sortedId[2]]\n",
    "    \n",
    "    Y[2] = oldY[sortedId[0]]\n",
    "    \n",
    "    Y[3] = oldY[sortedId[1]]\n",
    "    \n",
    "    return X, Y"
   ]
  },
  {
   "cell_type": "markdown",
   "id": "64a11998",
   "metadata": {},
   "source": [
    "Отсортируем массив качества наших потомков и выделим полученные индексы:"
   ]
  },
  {
   "cell_type": "code",
   "execution_count": 4,
   "id": "7e5b0a0b",
   "metadata": {},
   "outputs": [],
   "source": [
    "def sorting(Z):\n",
    "    sortedId = sorted(range(len(Z)), key = lambda k: Z[k])\n",
    "    \n",
    "    return sortedId"
   ]
  },
  {
   "cell_type": "markdown",
   "id": "649f0575",
   "metadata": {},
   "source": [
    "Напишем функцию для шага эволюции:"
   ]
  },
  {
   "cell_type": "code",
   "execution_count": 5,
   "id": "8f2b1742",
   "metadata": {},
   "outputs": [],
   "source": [
    "# шаг эволюции\n",
    "def evoStep(X, Y, Z):\n",
    "    _, minId = min((value, id) for (id, value) in enumerate(Z))\n",
    "    X = X[:]\n",
    "    Y = Y[:]\n",
    "    Z = Z[:]\n",
    "    \n",
    "    X.pop(minId)\n",
    "    Y.pop(minId)\n",
    "    Z.pop(minId)\n",
    "    \n",
    "    return X, Y, Z"
   ]
  },
  {
   "cell_type": "markdown",
   "id": "645233c5",
   "metadata": {},
   "source": [
    "Произведем эволюционные изменения, в соответствии с задачей - 4 шага:"
   ]
  },
  {
   "cell_type": "code",
   "execution_count": 6,
   "id": "d30c0a77",
   "metadata": {},
   "outputs": [],
   "source": [
    "# шаги эволюции (конечная функция), по умолчанию 4 шага\n",
    "def evoSteps(X, Y, stepsNum = 4):\n",
    "    results = []\n",
    "    \n",
    "    for i in range(4):\n",
    "        arrZ = [qZ(x, Y[i]) for i, x in enumerate(X)]\n",
    "        \n",
    "        X, Y, Z = evoStep(X, Y, arrZ)\n",
    "        \n",
    "        X, Y = exchangeScheme(X, Y, sorting(Z))\n",
    "        \n",
    "        results.append([X, Y, qSumZ(arrZ), arrZ])\n",
    "        \n",
    "    return X, Y, results"
   ]
  },
  {
   "cell_type": "markdown",
   "id": "0b24e66a",
   "metadata": {},
   "source": [
    "Теперь, когда мы подготовились к решению задачи, написав все необходимые функции для реализации генетического алгоритма (оценки качества хромосом, сортировки потомков и эволюционных шагов), решим задачу в числах. Пусть даны следующие массивы хромосом X и Y: ![wb6_ph3](photos/wb6_ph3.png)\n",
    "Запишем их в требуемом виде и воспользуемся написанной функцией\n",
    "evoSteps."
   ]
  },
  {
   "cell_type": "code",
   "execution_count": 7,
   "id": "c2afa2b9",
   "metadata": {},
   "outputs": [],
   "source": [
    "# объявление массивов хромосом\n",
    "X = [-2, -1, 0, 1]\n",
    "Y = [-2, -1, 0, 1]\n",
    "\n",
    "# Реализация алгоритма\n",
    "results = evoSteps(X, Y)"
   ]
  },
  {
   "cell_type": "markdown",
   "id": "384642cf",
   "metadata": {},
   "source": [
    "Теперь, выведем полученные значения для показателя качества хромосомы в популяции и общее качество популяции после четырех этапов эволюции. Для этого, воспользуемся циклом по значениям переменной results."
   ]
  },
  {
   "cell_type": "code",
   "execution_count": 8,
   "id": "5ec7c5f7",
   "metadata": {},
   "outputs": [
    {
     "name": "stdout",
     "output_type": "stream",
     "text": [
      "max_1_step: 1.4857142857142858\n",
      "max_2_step: 1.4615384615384615\n",
      "max_3_step: 2.967032967032967\n",
      "max_4_step: 3.5384615384615383\n",
      "max Z: 1.0\n"
     ]
    }
   ],
   "source": [
    "for i in range(len(results[2])):\n",
    "    print(f'max_{i + 1}_step: {results[2][i][2]}')\n",
    "    \n",
    "qualityArrZ = []\n",
    "for i in range(len(results[2])):\n",
    "    qualityArrZ += results[2][i][3]\n",
    "\n",
    "print(f'max Z: {max(qualityArrZ)}')"
   ]
  },
  {
   "cell_type": "markdown",
   "id": "d00883b6",
   "metadata": {},
   "source": [
    "## 1.3.1 Задание\n",
    "### Задача:\n",
    "#### Выполните по вариантам соответственно реализацию генетического алгоритма в соответствии с приложенными начальными данными. ![wb6_ph4](photos/wb6_ph4.png)\n",
    "### Решение / Ответ:\n",
    "#### < Вариант 10 >"
   ]
  },
  {
   "cell_type": "code",
   "execution_count": 9,
   "id": "6ef110b0",
   "metadata": {},
   "outputs": [
    {
     "name": "stdout",
     "output_type": "stream",
     "text": [
      "max_1_step: -0.9738562091503267\n",
      "max_2_step: 0.7748068924539511\n",
      "max_3_step: 0.9251336898395722\n",
      "max_4_step: 1.7290552584670231\n",
      "max Z: 0.47058823529411764\n"
     ]
    }
   ],
   "source": [
    "def qZ(x, y):\n",
    "    return (x - 3*y) / (2*(x**2) + 2*(y**2) + 1)\n",
    "\n",
    "X = [-1, 0, 2, 3]\n",
    "Y = [0, 1, -2, 2]\n",
    "\n",
    "results = evoSteps(X, Y)\n",
    "\n",
    "for i in range(len(results[2])):\n",
    "    print(f'max_{i + 1}_step: {results[2][i][2]}')\n",
    "    \n",
    "qualityArrZ = []\n",
    "for i in range(len(results[2])):\n",
    "    qualityArrZ += results[2][i][3]\n",
    "\n",
    "print(f'max Z: {max(qualityArrZ)}')"
   ]
  },
  {
   "cell_type": "markdown",
   "id": "4ce550d6",
   "metadata": {},
   "source": [
    "---\n",
    "\n",
    "# 1.2. Теоретический материал – Метод имитации отжига\n",
    "\n",
    "Алгоритм отжига – это метод оптимизации, который называется отжигом, или симуляцией восстановления (Simulated annealing). Как ясно из названия, метод поиска моделирует процесс восстановления. Восстановление – это физический процесс, который заключается в нагреве и последующем контролируемом охлаждении субстанции. В результате получается прочная кристаллическая структура, которая отличается от структуры с дефектами, образующейся при быстром беспорядочном охлаждении. Структура здесь представляет собой кодированное решение, а температура используется для того, чтобы указать, как и когда будут приниматься новые решения.\n",
    "\n",
    "Алгоритм имитации отжига включает следующие этапы: ![wb6_ph5](photos/wb6_ph5.png)\n",
    "\n",
    "Метод отжига может быть эффективным при решении задач различных классов, требующих оптимизации. Ниже приводится их краткий список:\n",
    "1. создание пути;\n",
    "2. реконструкция изображения;\n",
    "3. назначение задач и планирование;\n",
    "4. размещение сети;\n",
    "5. глобальная маршрутизация;\n",
    "6. обнаружение и распознавание визуальных объектов;\n",
    "7. разработка специальных цифровых фильтров.\n",
    "\n",
    "Поскольку метод отжига представляет собой процесс генерации случайных чисел, поиск решения с использованием данного алгоритма может занять значительное время. В некоторых случаях алгоритм вообще не находит решение или выбирает не самое оптимальное. Алгоритм отжига как способ выполнения процедур поиска и оптимизации. Данный метод является аналогом процесса нагревания тела до состояния плавления с последующим постепенным охлаждением. При высоких температурах поиск ведется по всему диапазону. При снижении температуры диапазон поиска уменьшается до небольшой области вокруг текущего решения.\n",
    "\n",
    "Рассмотрим решение задачи поиска оптимального маршрута на графе методом имитации отжига Для этого, представим формальную постановку задачи и рассмотрим пример, который иллюстрирует алгоритм решения.\n",
    "\n",
    "Итак, необходимо Найти длину гамильтонова цикла $S_4$ в полном графе $K_6$ после четырех циклов решения задачи методом отжига. Даны расстояния $L_{i,j}$ между вершинами. Даны также: начальная последовательность вершин $L_0$, последовательность замен вершин 𝑍 и выпавшие при этом вероятности перехода $P_k$, 𝑘 = 1, . . . , 4.\n",
    "\n",
    "Переход на худшее (∆$S_k$ = $S_k$ − $S_{k-1}$ > 0) решение допустим, если $P_∗$ = 100 где снижение температуры происходит по закону $T_{k+1}$ = 0.5$T_K$ от $T_1$ = 100.\n",
    "\n",
    "\n",
    "## 2.2.1 Пример\n",
    "### Задача:\n",
    "#### Итак, начальные условия задачи представляют собой следующий граф с расстояниями между ребрами: ![wb6_ph6](photos/wb6_ph6.png)\n",
    "### Решение / Ответ:\n",
    "Рассмотрим решение с применением Python.\n",
    "Импортируем библиотеки:"
   ]
  },
  {
   "cell_type": "code",
   "execution_count": 10,
   "id": "2acfa872",
   "metadata": {},
   "outputs": [],
   "source": [
    "import networkx as nx\n",
    "from math import e"
   ]
  },
  {
   "cell_type": "markdown",
   "id": "d9a47a71",
   "metadata": {},
   "source": [
    "Далее, опишем массив длин ребер, последовательности прохождение вершин на маршруте и их замены, значения P, а также начальную температуру:"
   ]
  },
  {
   "cell_type": "code",
   "execution_count": 11,
   "id": "b5dcc2d2",
   "metadata": {},
   "outputs": [],
   "source": [
    "distances = [(1, 2, 20),\n",
    "            (1, 3, 40),\n",
    "            (1, 4, 42),\n",
    "            (1, 5, 33),\n",
    "            (1, 6, 21),\n",
    "            (2, 3, 26),\n",
    "            (2, 4, 38),\n",
    "            (2, 5, 42), \n",
    "            (2, 6, 17),\n",
    "            (3, 4, 22),\n",
    "            (3, 5, 43),\n",
    "            (3, 6, 21),\n",
    "            (4, 5, 27),\n",
    "            (4, 6, 22), \n",
    "            (5, 6, 26)] # длины рёбер\n",
    "V = [1, 4, 5, 2, 6, 3, 1] # последовательность прохождения маршрута \n",
    "Z = [(3, 4),\n",
    "     (4, 6),\n",
    "     (5, 2),\n",
    "     (6, 2)] # последовательность замен вершин\n",
    "P = [49, 54, 43, 54] # случайные числа, выпавшие в процессе счёта\n",
    "\n",
    "T = 100 # начальная температура"
   ]
  },
  {
   "cell_type": "markdown",
   "id": "c727267b",
   "metadata": {},
   "source": [
    "Запишем функции вероятности и изменения температуры:"
   ]
  },
  {
   "cell_type": "code",
   "execution_count": 12,
   "id": "9d6a2612",
   "metadata": {},
   "outputs": [],
   "source": [
    "# функция вероятности\n",
    "def probability(delta, T):\n",
    "    return 100 * e ** (-delta / T)\n",
    "\n",
    "# функция изменения температуры\n",
    "def reductTemp(prevT):\n",
    "    nextT = 0.5 * prevT\n",
    "    \n",
    "    return nextT"
   ]
  },
  {
   "cell_type": "markdown",
   "id": "9b3a2532",
   "metadata": {},
   "source": [
    "Построим граф по заданным вершинам, как в начальном условии:"
   ]
  },
  {
   "cell_type": "code",
   "execution_count": 13,
   "id": "7201d56a",
   "metadata": {},
   "outputs": [
    {
     "data": {
      "image/png": "[encoded data removed]",
      "text/plain": [
       "<Figure size 432x288 with 1 Axes>"
      ]
     },
     "metadata": {},
     "output_type": "display_data"
    }
   ],
   "source": [
    "graph = nx.Graph() # создание пустого графа\n",
    "graph.add_weighted_edges_from(distances)\n",
    "\n",
    "# отрисовка графа с заданными вершинами\n",
    "nx.draw_kamada_kawai(graph, node_color = '#fb7258', node_size = 2000, with_labels = True)"
   ]
  },
  {
   "cell_type": "markdown",
   "id": "12323815",
   "metadata": {},
   "source": [
    "Теперь, напишем необходимые, согласно алгоритму выше, функции для работы метода имитации отжига. Вычислим длину ребра:"
   ]
  },
  {
   "cell_type": "code",
   "execution_count": 14,
   "id": "8cfbf068",
   "metadata": {},
   "outputs": [],
   "source": [
    "# вычисление длины ребра\n",
    "def edgeLength(i, j, distances, roundTrip = True):\n",
    "    if roundTrip:\n",
    "        return max([(item[2] if (item[0] == i and item[1] == j) or (item[1] == i and item[0] == j) else -1)\n",
    "                   for item in distances])\n",
    "    else:\n",
    "        return max([(item[2] if (item[0] == i and item[1] == j) else -1) for item in distances])"
   ]
  },
  {
   "cell_type": "markdown",
   "id": "28373386",
   "metadata": {},
   "source": [
    "Вычислим длину маршрута:"
   ]
  },
  {
   "cell_type": "code",
   "execution_count": 15,
   "id": "6fc0e2fd",
   "metadata": {},
   "outputs": [],
   "source": [
    "# вычисление длины маршрута\n",
    "def routeLength(V, distances):\n",
    "    edges = []\n",
    "    \n",
    "    for i in range(len(V) - 1):\n",
    "        edges.append(edgeLength(V[i], V[i + 1], distances))\n",
    "    \n",
    "    return sum(edges)"
   ]
  },
  {
   "cell_type": "markdown",
   "id": "aee0d036",
   "metadata": {},
   "source": [
    "Запишем функцию для однократной перестановки в пути:"
   ]
  },
  {
   "cell_type": "code",
   "execution_count": 16,
   "id": "f792e971",
   "metadata": {},
   "outputs": [],
   "source": [
    "def routeOneReplacement(arrV, Z, replacementByName = True):\n",
    "    decrement = 1 if replacementByName else 0\n",
    "    \n",
    "    arrV[Z[0] - decrement], arrV[Z[1] - decrement] = arrV[Z[1] - decrement], arrV[Z[0] - decrement]\n",
    "    \n",
    "    return arrV"
   ]
  },
  {
   "cell_type": "markdown",
   "id": "3d52765d",
   "metadata": {},
   "source": [
    "А теперь функцию, для реализации непосредственно самой перестановки:"
   ]
  },
  {
   "cell_type": "code",
   "execution_count": 17,
   "id": "03950ce2",
   "metadata": {},
   "outputs": [],
   "source": [
    "# перестановки в пути\n",
    "def routeReplacement(V, Z):\n",
    "    for z in Z:\n",
    "        V = routeOneReplacement(V, z)\n",
    "    return V"
   ]
  },
  {
   "cell_type": "markdown",
   "id": "b288722b",
   "metadata": {},
   "source": [
    "Теперь, опишем алгоритм выбора подходящего пути методом отжига:"
   ]
  },
  {
   "cell_type": "code",
   "execution_count": 18,
   "id": "03024e2c",
   "metadata": {},
   "outputs": [],
   "source": [
    "# выбор нужного пути методом отжига\n",
    "def chooseRoute(distances, V, Z, T, P):\n",
    "    sumLength = routeLength(V, distances) # нахождение длины пути\n",
    "    arrSum = [sumLength] # массив сумм длин\n",
    "    \n",
    "    # циклы методом отжига\n",
    "    for i in range(len(Z)):\n",
    "        newV = routeOneReplacement(V[:], Z[i]) # новый маршрут после перестановки\n",
    "        newS = routeLength(newV, distances) # длина нового маршрута\n",
    "        arrSum.append(newS)\n",
    "        deltaS = newS - sumLength # разница между длиной нового и старого маршрутов\n",
    "        \n",
    "        # в случае, если разница между длинами больше 0, то вычисляется вероятность\n",
    "        if deltaS > 0:\n",
    "            p = probability(deltaS, T) # подсчёт вероятности\n",
    "            \n",
    "            # если заданная вероятность попадает в интервал от 0 до p, то новый маршрут выбирается\n",
    "            if p > P[i]:\n",
    "                V = newV\n",
    "                sumLength = newS\n",
    "        else:\n",
    "            V = newV\n",
    "            sumLength = newS\n",
    "        \n",
    "        T = reductTemp(T) # вычисление температуры\n",
    "    \n",
    "    return V, arrSum"
   ]
  },
  {
   "cell_type": "markdown",
   "id": "3bcfd6fd",
   "metadata": {},
   "source": [
    "И нарисуем наш граф, отвечающий заданному маршруту:"
   ]
  },
  {
   "cell_type": "code",
   "execution_count": 19,
   "id": "7f8a6beb",
   "metadata": {},
   "outputs": [],
   "source": [
    "# отрисовка графа по заданному маршруту\n",
    "def drawRouteGraph(distances, bestRoute):\n",
    "    newDistances = []\n",
    "    # прохождение по вектору\n",
    "    for i in range(len(bestRoute) - 1):\n",
    "        for distance in distances:\n",
    "            if distance[0] == bestRoute[i] and distance[1] == bestRoute[i + 1] or distance[1] == bestRoute[i] and distance[0] == bestRoute[i + 1]:\n",
    "                newDistances.append(distance)\n",
    "                \n",
    "    graph = nx.Graph() # создание пустого графа\n",
    "    \n",
    "    graph.add_weighted_edges_from(newDistances) # добавление весов рёбер\n",
    "# отрисовка графа с заданными вершинами\n",
    "    nx.draw_kamada_kawai(graph, node_color = '#fb7258', node_size = 2000, with_labels = True)"
   ]
  },
  {
   "cell_type": "markdown",
   "id": "f2a00a1d",
   "metadata": {},
   "source": [
    "И, наконец, рассчитаем наилучший маршрут и его длину:"
   ]
  },
  {
   "cell_type": "code",
   "execution_count": 20,
   "id": "2a0231a7",
   "metadata": {
    "scrolled": false
   },
   "outputs": [
    {
     "name": "stdout",
     "output_type": "stream",
     "text": [
      "Лучший выбранный маршрут: [1, 6, 2, 3, 4, 5, 1]\n",
      "Длина лучшего выбранного маршрута: 146\n",
      "Длины всех рассмотренных маршрутов: [189, 209, 186, 146, 166]\n"
     ]
    },
    {
     "data": {
      "image/png": "[encoded data removed]",
      "text/plain": [
       "<Figure size 432x288 with 1 Axes>"
      ]
     },
     "metadata": {},
     "output_type": "display_data"
    }
   ],
   "source": [
    "bestRoute, arrLength = chooseRoute(distances, V, Z, T, P)\n",
    "\n",
    "print(f'Лучший выбранный маршрут: {bestRoute}')\n",
    "print(f'Длина лучшего выбранного маршрута: {routeLength(bestRoute, distances)}')\n",
    "print(f'Длины всех рассмотренных маршрутов: {arrLength}')\n",
    "\n",
    "drawRouteGraph(distances, bestRoute) # отрисовка лучшего маршрута"
   ]
  },
  {
   "cell_type": "markdown",
   "id": "2b336c7e",
   "metadata": {},
   "source": [
    "## 2.3.1 Задание\n",
    "### Задача:\n",
    "#### Найти длину гамильтонова цикла S4 в полном графе K6 после четырех циклов решения задачи методом отжига по вариантам ниже. ![wb6_ph7](photos/wb6_ph7.png)\n",
    "### Решение / Ответ:\n",
    "#### < Вариант 8 >"
   ]
  },
  {
   "cell_type": "code",
   "execution_count": 21,
   "id": "044ea48f",
   "metadata": {},
   "outputs": [
    {
     "data": {
      "image/png": "[encoded data removed]",
      "text/plain": [
       "<Figure size 432x288 with 1 Axes>"
      ]
     },
     "metadata": {},
     "output_type": "display_data"
    }
   ],
   "source": [
    "distances = [(1, 2, 19),\n",
    "            (1, 3, 39),\n",
    "            (1, 4, 35),\n",
    "            (1, 5, 26),\n",
    "            (1, 6, 18),\n",
    "            (2, 3, 26),\n",
    "            (2, 4, 33),\n",
    "            (2, 5, 37), \n",
    "            (2, 6, 14),\n",
    "            (3, 4, 22),\n",
    "            (3, 5, 41),\n",
    "            (3, 6, 21),\n",
    "            (4, 5, 22),\n",
    "            (4, 6, 19), \n",
    "            (5, 6, 24)]\n",
    "V = [1, 4, 2, 3, 5, 6, 1]\n",
    "Z = [(5, 2),\n",
    "     (4, 5),\n",
    "     (2, 3),\n",
    "     (3, 4)]\n",
    "P = [88, 54, 24, 64]\n",
    "\n",
    "T = 100\n",
    "\n",
    "graph = nx.Graph()\n",
    "graph.add_weighted_edges_from(distances)\n",
    "\n",
    "nx.draw_kamada_kawai(graph, node_color = '#808080', node_size = 2000, with_labels = True)"
   ]
  },
  {
   "cell_type": "code",
   "execution_count": 22,
   "id": "d747caa9",
   "metadata": {
    "scrolled": false
   },
   "outputs": [
    {
     "name": "stdout",
     "output_type": "stream",
     "text": [
      "Лучший выбранный маршрут: [1, 2, 5, 4, 3, 6, 1]\n",
      "Длина лучшего выбранного маршрута: 139\n",
      "Длины всех рассмотренных маршрутов: [177, 148, 157, 139, 154]\n"
     ]
    },
    {
     "data": {
      "image/png": "[encoded data removed]",
      "text/plain": [
       "<Figure size 432x288 with 1 Axes>"
      ]
     },
     "metadata": {},
     "output_type": "display_data"
    }
   ],
   "source": [
    "bestRoute, arrLength = chooseRoute(distances, V, Z, T, P)\n",
    "\n",
    "print(f'Лучший выбранный маршрут: {bestRoute}')\n",
    "print(f'Длина лучшего выбранного маршрута: {routeLength(bestRoute, distances)}')\n",
    "print(f'Длины всех рассмотренных маршрутов: {arrLength}')\n",
    "\n",
    "def drawRouteGraph(distances, bestRoute):\n",
    "    newDistances = []\n",
    "    for i in range(len(bestRoute) - 1):\n",
    "        for distance in distances:\n",
    "            if distance[0] == bestRoute[i] and distance[1] == bestRoute[i + 1] or distance[1] == bestRoute[i] and distance[0] == bestRoute[i + 1]:\n",
    "                newDistances.append(distance)\n",
    "                \n",
    "    graph = nx.Graph()\n",
    "    \n",
    "    graph.add_weighted_edges_from(newDistances)\n",
    "    \n",
    "    nx.draw_kamada_kawai(graph, node_color = '#808080', node_size = 2000, with_labels = True)\n",
    "\n",
    "drawRouteGraph(distances, bestRoute)"
   ]
  },
  {
   "cell_type": "markdown",
   "id": "ea20ed95",
   "metadata": {},
   "source": [
    "## 2.3.2 Задание*\n",
    "### Задача:\n",
    "#### На решенном уже примере поэкспериментируйте с показателем S, проанализируйте результаты.\n",
    "### Решение / Ответ:\n",
    "# ???"
   ]
  }
 ],
 "metadata": {
  "kernelspec": {
   "display_name": "Python 3 (ipykernel)",
   "language": "python",
   "name": "python3"
  },
  "language_info": {
   "codemirror_mode": {
    "name": "ipython",
    "version": 3
   },
   "file_extension": ".py",
   "mimetype": "text/x-python",
   "name": "python",
   "nbconvert_exporter": "python",
   "pygments_lexer": "ipython3",
   "version": "3.9.12"
  }
 },
 "nbformat": 4,
 "nbformat_minor": 5
}
