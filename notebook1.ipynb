{
 "cells": [
  {
   "cell_type": "markdown",
   "id": "5eba2158",
   "metadata": {},
   "source": [
    "**1.2. Пример (Препрод: Илья Алексеевич)**\n",
    "Выведите на печать и определите тип переменной."
   ]
  },
  {
   "cell_type": "code",
   "execution_count": 1,
   "id": "b986fe55",
   "metadata": {},
   "outputs": [
    {
     "name": "stdout",
     "output_type": "stream",
     "text": [
      "39.4 | <class 'float'> \n",
      " None | <class 'NoneType'> \n",
      " ('a', 5, 12.345, (2, 'b')) | <class 'tuple'> \n",
      " [['Антонова Антонина', 34, 'ж'], ['Борисов Борис', 26, 'м']] | <class 'list'> \n",
      " {'content', 1, 2, 'title'} | <class 'set'> \n",
      "\n"
     ]
    }
   ],
   "source": [
    "x = 3+5.2*7\n",
    "y = None\n",
    "z = 'a', 5, 12.345, (2, 'b')\n",
    "df = [['Антонова Антонина', 34, 'ж'], ['Борисов Борис', 26, 'м']]\n",
    "A = {1, 'title', 2, 'content'}\n",
    "\n",
    "print(\n",
    "    x, '|', type(x), '\\n',\n",
    "    y, '|', type(y), '\\n',\n",
    "    z, '|', type(z), '\\n',\n",
    "    df,'|', type(df), '\\n',\n",
    "    A, '|', type(A), '\\n',\n",
    ")"
   ]
  },
  {
   "cell_type": "markdown",
   "id": "0d7fd815",
   "metadata": {},
   "source": [
    "**1.3. Задание.**\n",
    "Выведите на печать и определите тип переменной."
   ]
  },
  {
   "cell_type": "code",
   "execution_count": 2,
   "id": "711f10e0",
   "metadata": {},
   "outputs": [
    {
     "name": "stdout",
     "output_type": "stream",
     "text": [
      "True | <class 'bool'> \n",
      " {8, 1, 3, 7} | <class 'set'> \n",
      " {2, 4, 5, 10, 'apple'} | <class 'set'> \n",
      " set() | <class 'set'> \n",
      " ('Антонова Антонина', 34, 'ж') | <class 'tuple'> \n",
      " type | <class 'str'> \n",
      " [1, 'title', 2, 'content'] | <class 'list'> \n",
      "\n"
     ]
    }
   ],
   "source": [
    "x = 5 >= 2\n",
    "A = {1, 3, 7, 8}\n",
    "B = {2, 4, 5, 10, 'apple'}\n",
    "C = A & B\n",
    "df = 'Антонова Антонина', 34, 'ж'\n",
    "z = 'type'\n",
    "D = [1, 'title', 2, 'content']\n",
    "\n",
    "print(\n",
    "    x, '|', type(x), '\\n',\n",
    "    A, '|', type(A), '\\n',\n",
    "    B, '|', type(B), '\\n',\n",
    "    C, '|', type(C), '\\n',\n",
    "    df,'|', type(df), '\\n',\n",
    "    z, '|', type(z), '\\n',\n",
    "    D, '|', type(D), '\\n',\n",
    ")"
   ]
  },
  {
   "cell_type": "markdown",
   "id": "f9f65e76",
   "metadata": {},
   "source": [
    "**2.2 Пример.**\n",
    "Вывести на экран является ли переменная х положительной,\n",
    "отрицательной или равна нулю."
   ]
  },
  {
   "cell_type": "code",
   "execution_count": 3,
   "id": "3e99890b",
   "metadata": {},
   "outputs": [
    {
     "name": "stdout",
     "output_type": "stream",
     "text": [
      "x положительный\n"
     ]
    }
   ],
   "source": [
    "x = 125\n",
    "if x<0:\n",
    "    print(\"x отрицательный\")\n",
    "elif x==0:\n",
    "    print(\"x равен нулю\")\n",
    "else:\n",
    "    print(\"x положительный\")"
   ]
  },
  {
   "cell_type": "markdown",
   "id": "7083c705",
   "metadata": {},
   "source": [
    "**2.3 Задание. **\n",
    "Напишите код. Задается х, напечатать какому из интервалов\n",
    "принадлежит: (-infinity, -5), [-5, 5] или от (5, +infinity)"
   ]
  },
  {
   "cell_type": "code",
   "execution_count": 4,
   "id": "965a37ac",
   "metadata": {},
   "outputs": [
    {
     "name": "stdout",
     "output_type": "stream",
     "text": [
      "Интервал принадлежит от -infinity до -5\n"
     ]
    }
   ],
   "source": [
    "x = -20\n",
    "if x<-5:\n",
    "    print(\"Интервал принадлежит от -infinity до -5\")\n",
    "elif x>5:\n",
    "    print(\"Интервал принадлежит от 5 до infinity\")\n",
    "elif x>-5 and x<5:\n",
    "    print(\"Интервал принадлежит от -5 до 5\")"
   ]
  },
  {
   "cell_type": "markdown",
   "id": "e1e7e4b3",
   "metadata": {},
   "source": [
    "**3.2.1 Пример.**\n",
    "Вывести все числа от 1 до 10 с шагом 3."
   ]
  },
  {
   "cell_type": "code",
   "execution_count": 5,
   "id": "8d67a486",
   "metadata": {},
   "outputs": [
    {
     "name": "stdout",
     "output_type": "stream",
     "text": [
      "1\n",
      "4\n",
      "7\n",
      "10\n"
     ]
    }
   ],
   "source": [
    "x = 1\n",
    "while x<= 10:\n",
    "    print(x)\n",
    "    x+=3"
   ]
  },
  {
   "cell_type": "markdown",
   "id": "f5f05031",
   "metadata": {},
   "source": [
    "**3.2.2 Пример**\n",
    "Задан список. Напечатать все элементы списка."
   ]
  },
  {
   "cell_type": "code",
   "execution_count": 6,
   "id": "e49a222d",
   "metadata": {},
   "outputs": [
    {
     "name": "stdout",
     "output_type": "stream",
     "text": [
      "KNN\n",
      "decision tree\n",
      "linear model\n"
     ]
    }
   ],
   "source": [
    "models = ['KNN', 'decision tree', 'linear model']\n",
    "for model in models:\n",
    "    print(model)"
   ]
  },
  {
   "cell_type": "markdown",
   "id": "5c70aa3b",
   "metadata": {},
   "source": [
    "**3.2.3 Пример.**\n",
    "Создать список от 1 до 99 с шагом 7."
   ]
  },
  {
   "cell_type": "code",
   "execution_count": 7,
   "id": "1642f5c4",
   "metadata": {},
   "outputs": [
    {
     "name": "stdout",
     "output_type": "stream",
     "text": [
      "[1, 8, 15, 22, 29, 36, 43, 50, 57, 64, 71, 78, 85, 92, 99]\n"
     ]
    }
   ],
   "source": [
    "list_int = range(1, 100, 7)\n",
    "print(list(list_int))"
   ]
  },
  {
   "cell_type": "markdown",
   "id": "fa9509a9",
   "metadata": {},
   "source": [
    "**3.2.4 Пример.**\n",
    "Вывести на экран числа от 1 до 105 с шагом 25, используя функцию\n",
    "range()"
   ]
  },
  {
   "cell_type": "code",
   "execution_count": 8,
   "id": "8bb89c5a",
   "metadata": {},
   "outputs": [
    {
     "name": "stdout",
     "output_type": "stream",
     "text": [
      "5\n",
      "30\n",
      "55\n",
      "80\n",
      "105\n"
     ]
    }
   ],
   "source": [
    "for i in range(5, 106, 25):\n",
    "    print(i)"
   ]
  },
  {
   "cell_type": "markdown",
   "id": "50169289",
   "metadata": {},
   "source": [
    "**3.2.5 Пример.**\n",
    "**Срез**. Необходимо получить каждый k-й элемент массива a, начиная с\n",
    "элемента с индексом i (включительно) и заканчивая элементом с\n",
    "индексом j (не включительно), c шагом 2. Или переставить все\n",
    "элементы в обратном порядке."
   ]
  },
  {
   "cell_type": "code",
   "execution_count": 9,
   "id": "96c4462e",
   "metadata": {},
   "outputs": [
    {
     "name": "stdout",
     "output_type": "stream",
     "text": [
      "[2, 4, 6]\n",
      "[9, 8, 7, 6, 5, 4, 3, 2, 1]\n"
     ]
    }
   ],
   "source": [
    "a = [1, 2, 3, 4, 5, 6, 7, 8, 9]\n",
    "b = a[1:7:2]\n",
    "c = a[::-1]\n",
    "print(b)\n",
    "print(c)"
   ]
  },
  {
   "cell_type": "markdown",
   "id": "6e429bdd",
   "metadata": {},
   "source": [
    "**3.3.1 Задание.**\n",
    "Выведите числа из примера на while (3.2.1) в обратном порядке."
   ]
  },
  {
   "cell_type": "code",
   "execution_count": 10,
   "id": "d5721c52",
   "metadata": {},
   "outputs": [
    {
     "name": "stdout",
     "output_type": "stream",
     "text": [
      "[10, 7, 4, 1]\n"
     ]
    }
   ],
   "source": [
    "a=[1, 4, 7, 10]\n",
    "b=a[::-1]\n",
    "print(b)"
   ]
  },
  {
   "cell_type": "markdown",
   "id": "d921e6a6",
   "metadata": {},
   "source": [
    "**3.3.2 задание.**\n",
    "При решении задач машинного обучения часто в качестве объектов\n",
    "исследования выступает человек. Создайте список значимых\n",
    "характеристик (признаков), идентифицирующих человека. Выведите\n",
    "список на экран."
   ]
  },
  {
   "cell_type": "code",
   "execution_count": 11,
   "id": "210b9b98",
   "metadata": {},
   "outputs": [
    {
     "name": "stdout",
     "output_type": "stream",
     "text": [
      "['Сила', 'Интелект', 'Физ. развитие', 'харизма', 'Способность к адаптации', 'Выносливость']\n"
     ]
    }
   ],
   "source": [
    "Human = ['Сила', 'Интелект', 'Физ. развитие', 'харизма', 'Способность к адаптации', 'Выносливость']\n",
    "print(Human)"
   ]
  },
  {
   "cell_type": "markdown",
   "id": "3fa7cebb",
   "metadata": {},
   "source": [
    "**3.3.3 Задание. **\n",
    "Создать список чисел от 2 до 15 с шагом 1."
   ]
  },
  {
   "cell_type": "code",
   "execution_count": 12,
   "id": "13e84467",
   "metadata": {},
   "outputs": [
    {
     "name": "stdout",
     "output_type": "stream",
     "text": [
      "[2, 3, 4, 5, 6, 7, 8, 9, 10, 11, 12, 13, 14, 15]\n"
     ]
    }
   ],
   "source": [
    "a = range(2, 16, 1)\n",
    "print(list(a))    "
   ]
  },
  {
   "cell_type": "markdown",
   "id": "91946fdb",
   "metadata": {},
   "source": [
    "**3.3.4 Задание.**\n",
    "Выведите числа из примера на for c функцией range() (3.2.4) в\n",
    "обратном порядке."
   ]
  },
  {
   "cell_type": "code",
   "execution_count": 13,
   "id": "0bb71b4c",
   "metadata": {},
   "outputs": [
    {
     "name": "stdout",
     "output_type": "stream",
     "text": [
      "[105, 80, 55, 30, 5]\n"
     ]
    }
   ],
   "source": [
    "a=[]\n",
    "for i in range(5, 106, 25):\n",
    "    a.append(i)\n",
    "\n",
    "print(a[::-1])"
   ]
  },
  {
   "cell_type": "markdown",
   "id": "b4fffe57",
   "metadata": {},
   "source": [
    "**3.3.5 Задание.**\n",
    "Срез. Напишите код, который все элементы массива x с четными\n",
    "индексами переставит в обратном порядке. Т.е. если x = [0, 1, 2, 3, 4,\n",
    "5, 6, 7, 8, 9], то код должен сформировать [8, 1, 6, 3, 4, 5, 2, 7, 0, 9]."
   ]
  },
  {
   "cell_type": "code",
   "execution_count": 14,
   "id": "a877fd1e",
   "metadata": {},
   "outputs": [
    {
     "name": "stdout",
     "output_type": "stream",
     "text": [
      "[8, 1, 6, 3, 4, 5, 2, 7, 0, 9]\n"
     ]
    }
   ],
   "source": [
    "a=[0, 1, 2, 3, 4, 5, 6, 7, 8, 9]\n",
    "a[::2]=a[::2][::-1]\n",
    "    \n",
    "print(a)\n"
   ]
  },
  {
   "cell_type": "markdown",
   "id": "1a0f8419",
   "metadata": {},
   "source": [
    "**4.2.1 Пример.**\n",
    "Рассчитать синус от е радиан и вывести результат на экран."
   ]
  },
  {
   "cell_type": "code",
   "execution_count": 15,
   "id": "29c43045",
   "metadata": {},
   "outputs": [
    {
     "name": "stdout",
     "output_type": "stream",
     "text": [
      "0.41078129050290885\n"
     ]
    }
   ],
   "source": [
    "import math as m\n",
    "print (m.sin (m.e))"
   ]
  },
  {
   "attachments": {
    "image.png": {
     "image/png": "[encoded data removed]"
    }
   },
   "cell_type": "markdown",
   "id": "bbcb6cc7",
   "metadata": {},
   "source": [
    "**4.2.2 Пример.**\n",
    "Для функции sin(𝑥𝑒 ^cos(𝑥)) \n",
    "![image.png](attachment:image.png)\n",
    "на интервале [0;10] с шагом 0,05 построить\n",
    "график функции, закрасить площадь под ним и вычислить значение\n",
    "этой площади.\n",
    "Для вычисления площади воспользуйте функции trapz(), вычисляющей\n",
    "интеграл по правилу трапеции. Для ее корректной работы необходимо\n",
    "подключить следующие библиотеки:\n",
    "from scipy.integrate import simps\n",
    "from numpy import trapz"
   ]
  },
  {
   "cell_type": "code",
   "execution_count": 77,
   "id": "2ebfcaaf",
   "metadata": {},
   "outputs": [
    {
     "name": "stdout",
     "output_type": "stream",
     "text": [
      "73.50792907748662\n"
     ]
    },
    {
     "data": {
      "image/png": "[encoded data removed]",
      "text/plain": [
       "<Figure size 432x288 with 1 Axes>"
      ]
     },
     "metadata": {
      "needs_background": "light"
     },
     "output_type": "display_data"
    }
   ],
   "source": [
    "import numpy as np\n",
    "import matplotlib.pyplot as plt\n",
    "from scipy.integrate import simps\n",
    "from numpy import trapz\n",
    "x = np.arange(0.0, 10, 0.1)\n",
    "y = np.abs(np.sin(x*np.exp(np.cos(x))))\n",
    "plt.grid()\n",
    "plt.plot(x, y, c = \"r\")\n",
    "plt.fill_between(x, y)\n",
    "\n",
    "area = trapz(y)\n",
    "print(area)"
   ]
  },
  {
   "cell_type": "markdown",
   "id": "e850f089",
   "metadata": {},
   "source": [
    "**4.2.3 Пример**\n",
    "Дано некоторое распределение оценок в группе за экзамен. Нарисовать\n",
    "круговую и точечную диаграммы распределения. "
   ]
  },
  {
   "cell_type": "code",
   "execution_count": 17,
   "id": "6fe9359e",
   "metadata": {},
   "outputs": [
    {
     "data": {
      "image/png": "[encoded data removed]",
      "text/plain": [
       "<Figure size 720x504 with 1 Axes>"
      ]
     },
     "metadata": {},
     "output_type": "display_data"
    },
    {
     "data": {
      "text/plain": [
       "<matplotlib.collections.PathCollection at 0x21289e7e550>"
      ]
     },
     "execution_count": 17,
     "metadata": {},
     "output_type": "execute_result"
    },
    {
     "data": {
      "image/png": "[encoded data removed]",
      "text/plain": [
       "<Figure size 432x288 with 1 Axes>"
      ]
     },
     "metadata": {
      "needs_background": "light"
     },
     "output_type": "display_data"
    }
   ],
   "source": [
    "import matplotlib.pyplot as plt\n",
    "import numpy as np\n",
    "\n",
    "marks = ['Неуд', 'Удовл', 'Хор', 'Отл']\n",
    "\n",
    "data = [3, 7, 8, 4]\n",
    "fig = plt.figure(figsize = (10, 7))\n",
    "plt.pie(data, labels = marks)\n",
    "plt.show()\n",
    "plt.grid()\n",
    "plt.scatter(marks, data)"
   ]
  },
  {
   "cell_type": "markdown",
   "id": "946cbc8b",
   "metadata": {},
   "source": [
    "**4.3.1 Задание.**\n",
    "Задайте массив случайных значений из интервала(0; 1).\n",
    "Рассчитайте средние и медианные значения для массива, сравните\n",
    "результаты, какие выводы можно сделать о значениях?\n",
    "Постройте точечную диаграмму рассения полученного ряда."
   ]
  },
  {
   "cell_type": "code",
   "execution_count": 110,
   "id": "3feb9ad5",
   "metadata": {},
   "outputs": [
    {
     "name": "stdout",
     "output_type": "stream",
     "text": [
      "[[0.76948767 0.80388639 0.46769211 0.39083366 0.96654501]\n",
      " [0.88196134 0.61644034 0.38664097 0.03714789 0.83084958]\n",
      " [0.75585595 0.87002063 0.3439689  0.12232553 0.84462917]\n",
      " [0.00955631 0.87602761 0.20664338 0.56146732 0.59084019]\n",
      " [0.96657693 0.11432483 0.39077329 0.58312606 0.55899889]]\n",
      "\n",
      "sred=  0.5578647977860168\n",
      "med=  0.5831260613076775\n"
     ]
    },
    {
     "data": {
      "image/png": "[encoded data removed]",
      "text/plain": [
       "<Figure size 432x288 with 1 Axes>"
      ]
     },
     "metadata": {
      "needs_background": "light"
     },
     "output_type": "display_data"
    }
   ],
   "source": [
    "import numpy as np\n",
    "import matplotlib.pyplot as plt\n",
    "\n",
    "\n",
    "A = np.random.sample((5, 5))\n",
    "print(A)\n",
    "\n",
    "sred = A.mean() # среднее значение элементов в массиве в целом\n",
    "med = np.median(A) #Медиана - это такое значение, что ровно половина элементов массива окажется меньше него, а друга больше.\n",
    "print()\n",
    "print('sred= ',sred) \n",
    "print(\"med= \", med)\n",
    "plt.xlabel('sred')\n",
    "plt.ylabel('med')\n",
    "plt.grid()\n",
    "plt.scatter(sred, med)\n",
    "plt.show()\n",
    "\n",
    "\n"
   ]
  },
  {
   "attachments": {
    "image.png": {
     "image/png": "[encoded data removed]"
    }
   },
   "cell_type": "markdown",
   "id": "9d797615",
   "metadata": {},
   "source": [
    "**4.3.2 Задание**\n",
    "\n",
    "Дана функция \n",
    "![image.png](attachment:image.png)\n",
    "Создать массив из 10 значений\n",
    "функции (𝑥, например, изменяется от 1 до 10). Выделить срез первой\n",
    "половины массива и построить графики для основного массива –\n",
    "линейный и для среза – точечный\n"
   ]
  },
  {
   "cell_type": "code",
   "execution_count": 100,
   "id": "6cefb235",
   "metadata": {},
   "outputs": [
    {
     "data": {
      "image/png": "[encoded data removed]",
      "text/plain": [
       "<Figure size 432x288 with 2 Axes>"
      ]
     },
     "metadata": {
      "needs_background": "light"
     },
     "output_type": "display_data"
    }
   ],
   "source": [
    "import numpy as np\n",
    "import matplotlib.pyplot as plt\n",
    "from scipy.integrate import simps\n",
    "from numpy import trapz\n",
    "\n",
    "x = np.arange(1, 11, 1)\n",
    "a = np.sqrt(1+np.exp(np.sqrt(x))+np.cos(np.power(x, 2)))\n",
    "b = np.abs(1-np.sin(np.power(x, 3)))\n",
    "c = np.log(np.abs(2*x))\n",
    "y = (a/b)+c\n",
    "\n",
    "fig, ax = plt.subplots(1, 2)\n",
    "\n",
    "ax[0].plot(y) #линейный график для основного массива\n",
    "ax[0].grid()\n",
    "\n",
    "srez = y[0:5]\n",
    "\n",
    "ax[1].scatter(x[0:5], srez, s=100, c='green', edgecolor=\"black\", linewidth=1, alpha=0.75)  #точечный график для среза\n",
    "ax[1].grid()"
   ]
  },
  {
   "attachments": {
    "image.png": {
     "image/png": "[encoded data removed]"
    }
   },
   "cell_type": "markdown",
   "id": "5f8e516d",
   "metadata": {},
   "source": [
    "**4.3.3 Задание**\n",
    "\n",
    "Дана функция ![image.png](attachment:image.png) \n",
    "Построить график на\n",
    "интервале (0,10) с шагом 1 с заливкой площади и найти эту площадь\n",
    "под ним. \n",
    "Для вычисления площади воспользуйте функции trapz(),\n",
    "вычисляющей интеграл по правилу трапеции.\n",
    "Для ее корректной работы необходимо подключить следующие\n",
    "библиотеки:\n",
    "\n",
    "- from scipy.integrate import simps\n",
    "- from numpy import trapz\n"
   ]
  },
  {
   "cell_type": "code",
   "execution_count": 111,
   "id": "d802817e",
   "metadata": {},
   "outputs": [
    {
     "name": "stdout",
     "output_type": "stream",
     "text": [
      "6.748183214657733\n"
     ]
    },
    {
     "data": {
      "image/png": "[encoded data removed]",
      "text/plain": [
       "<Figure size 432x288 with 1 Axes>"
      ]
     },
     "metadata": {
      "needs_background": "light"
     },
     "output_type": "display_data"
    }
   ],
   "source": [
    "import numpy as np\n",
    "import matplotlib.pyplot as plt\n",
    "from scipy.integrate import simps\n",
    "from numpy import trapz\n",
    "\n",
    "x = np.arange(0, 11, 1)\n",
    "y = np.abs(np.cos(x*np.exp(np.cos(x)+np.log(x+1))))\n",
    "plt.grid()\n",
    "plt.plot(y)\n",
    "plt.fill_between(x,y)\n",
    "\n",
    "area = trapz(y)\n",
    "print(area)"
   ]
  },
  {
   "cell_type": "markdown",
   "id": "d14bbe1d",
   "metadata": {},
   "source": [
    "**4.3.4 Задание**\n",
    "Откройте статистические данные по стоимости акций Apple,\n",
    "Microsoft, Google за 12 месяцев 2021 г. Постройте 3 графика на\n",
    "плоскости и оцените их динамику. Подумайте, как можно улучшить\n",
    "читаемость результатов.\n",
    "Для начальных данных допустимо использовать следующий ресурс:\n",
    "https://finance.yahoo.com"
   ]
  },
  {
   "cell_type": "code",
   "execution_count": 8,
   "id": "c08fe25e",
   "metadata": {},
   "outputs": [
    {
     "data": {
      "image/png": "[encoded data removed]",
      "text/plain": [
       "<Figure size 432x288 with 1 Axes>"
      ]
     },
     "metadata": {
      "needs_background": "light"
     },
     "output_type": "display_data"
    },
    {
     "data": {
      "image/png": "[encoded data removed]",
      "text/plain": [
       "<Figure size 432x288 with 1 Axes>"
      ]
     },
     "metadata": {
      "needs_background": "light"
     },
     "output_type": "display_data"
    },
    {
     "data": {
      "image/png": "[encoded data removed]",
      "text/plain": [
       "<Figure size 432x288 with 1 Axes>"
      ]
     },
     "metadata": {
      "needs_background": "light"
     },
     "output_type": "display_data"
    }
   ],
   "source": [
    "import pandas_datareader as pdr\n",
    "import datetime \n",
    "import pandas as pd\n",
    "import matplotlib.pyplot as plt\n",
    "import pylab\n",
    "def finance_check(names,titles):\n",
    "    tag = pdr.get_data_yahoo(names, \n",
    "                          start=datetime.datetime(2021, 1, 1), \n",
    "                          end=datetime.datetime(2022, 1, 1))\n",
    "\n",
    "    pylab.title (titles)\n",
    "    tag.index\n",
    "    tag.columns\n",
    "    monthly_aapl = tag.resample('M').mean()\n",
    "    tag['Close'].plot(grid=True)\n",
    "    plt.show()\n",
    "finance_check('AAPL','Apple')\n",
    "finance_check('MSFT','Microsoft')\n",
    "finance_check('GOOGL','Google')"
   ]
  },
  {
   "cell_type": "markdown",
   "id": "635a631c",
   "metadata": {},
   "source": [
    "**4.3.5 Задание**\n",
    "Создайте простейший калькулятор, включающий основные действия\n",
    "для двух переменных ′ + ′, ′ − ′, ′ ∙ ′, ′ ÷ ′, а также вычисление\n",
    "следующих функций: 𝑒\n",
    "𝑥+𝑦\n",
    ", sin(𝑥 + 𝑦) , cos(𝑥 + 𝑦) , 𝑥\n",
    "𝑦\n",
    "."
   ]
  },
  {
   "cell_type": "code",
   "execution_count": 115,
   "id": "41db8034",
   "metadata": {},
   "outputs": [
    {
     "name": "stdout",
     "output_type": "stream",
     "text": [
      "x=61\n",
      "y=52\n",
      "x+y=113\n",
      "x-y=9\n",
      "x*y=3172\n",
      "x/y=1.1730769230769231\n",
      "𝑒𝑥+𝑦=217.81519153600175\n",
      "sin(𝑥+𝑦)=-0.09718190589320902\n",
      "cos(𝑥+𝑦)=0.9952666362171313\n",
      "𝑥𝑦=3172\n"
     ]
    }
   ],
   "source": [
    "import numpy as np\n",
    "x=np.random.randint(0,100)\n",
    "print(f'x={x}')\n",
    "y=np.random.randint(0,100)\n",
    "print(f'y={y}')\n",
    "print(f'x+y={x+y}')\n",
    "print(f'x-y={x-y}')\n",
    "print(f'x*y={x*y}')\n",
    "print(f'x/y={x/y}')\n",
    "print(f'𝑒𝑥+𝑦={np.e*x+y}')\n",
    "print(f'sin(𝑥+𝑦)={np.sin(x+y)}')\n",
    "print(f'cos(𝑥+𝑦)={np.cos(x+y)}')\n",
    "print(f'𝑥𝑦={x*y}')"
   ]
  },
  {
   "cell_type": "code",
   "execution_count": null,
   "id": "20dcd63e",
   "metadata": {},
   "outputs": [],
   "source": []
  }
 ],
 "metadata": {
  "kernelspec": {
   "display_name": "Python 3 (ipykernel)",
   "language": "python",
   "name": "python3"
  },
  "language_info": {
   "codemirror_mode": {
    "name": "ipython",
    "version": 3
   },
   "file_extension": ".py",
   "mimetype": "text/x-python",
   "name": "python",
   "nbconvert_exporter": "python",
   "pygments_lexer": "ipython3",
   "version": "3.9.12"
  }
 },
 "nbformat": 4,
 "nbformat_minor": 5
}
