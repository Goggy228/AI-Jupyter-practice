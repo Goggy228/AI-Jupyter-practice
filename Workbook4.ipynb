{
 "cells": [
  {
   "cell_type": "markdown",
   "id": "f9f127b0",
   "metadata": {},
   "source": [
    "# 1.1. Теоретический материал – Линейные регрессионные модели\n",
    "\n",
    "**Линейная регрессия**\n",
    "Линейная регрессия (Linear regression) – модель зависимости переменной x от одной или нескольких других переменных (факторов, регрессоров, независимых переменных) с линейной функцией зависимости. Линейная регрессия относится к задаче определения «линии наилучшего соответствия» через набор точек данных и стала простым предшественником нелинейных методов, которые используют для обучения нейронных сетей.\n",
    "\n",
    "Цель линейной регрессии — поиск линии, которая наилучшим образом соответствует этим точкам. Напомним, что общее уравнение для прямой есть 𝑓 (𝑥) = 𝑏 + 𝑚 ⋅ 𝑥 +, где 𝑚 – наклон линии, а 𝑏 – его сдвиг. \n",
    "\n",
    "**Функция потерь — метод наименьших квадратов**  \n",
    "Функция потерь – это мера количества ошибок, которые наша линейная\n",
    "регрессия делает на наборе данных. Хотя есть разные функции потерь, все они\n",
    "вычисляют расстояние между предсказанным значением 𝑦(х) и его\n",
    "фактическим значением.\n",
    "Одна очень распространенная функция потерь называется средней\n",
    "квадратичной ошибкой MSE. Чтобы вычислить MSE, мы просто берем все\n",
    "значения ошибок, считаем их квадраты длин и усредняем.\n",
    "\n",
    "**Задача экраполяции**   \n",
    "Допустим у нас есть много экспериментальных точек. Необходимо через них провести кривую, которая как можно ближе проходила к этим точкам. При этом необходимо минимизировать среднюю квадратичную ошибку (MSE). Для решения данной задачи в Python есть множество библиотек. Самыми распостраненными выступают:\n",
    "\n",
    "**numpy - numpy.linalg.lstsq**  \n",
    "**scipy - scipy.linalg** (содержит все функции из numpy.linalg плюс часть\n",
    "новых функций, которых нет в numpy.linalg).\n",
    "\n",
    "## 1.2.1 Пример\n",
    "### Задача:\n",
    "#### Проведем прямую 𝑦 = 𝑚𝑥 + 𝑏 через экспериментальные точки.\n",
    "### Решение / Ответ:"
   ]
  },
  {
   "cell_type": "code",
   "execution_count": 1,
   "id": "410dd82e",
   "metadata": {},
   "outputs": [
    {
     "data": {
      "text/plain": [
       "array([[0., 1.],\n",
       "       [1., 1.],\n",
       "       [2., 1.],\n",
       "       [3., 1.]])"
      ]
     },
     "execution_count": 1,
     "metadata": {},
     "output_type": "execute_result"
    }
   ],
   "source": [
    "import numpy as np\n",
    "x = np.array([0, 1, 2, 3])\n",
    "y = np.array([-1, 0.2, 0.9, 2.1])\n",
    "\n",
    "#Перепишем линейное уравнение y = mx + c как y = Ap, ult A = [[ x1 ]] и p = [[m], [c]]\n",
    "#Построим А по Х\n",
    "A = np.vstack([x, np.ones(len(x))]).T\n",
    "A"
   ]
  },
  {
   "cell_type": "code",
   "execution_count": 2,
   "id": "2b775ca5",
   "metadata": {},
   "outputs": [
    {
     "name": "stdout",
     "output_type": "stream",
     "text": [
      "0.9999999999999997 -0.9499999999999992\n"
     ]
    }
   ],
   "source": [
    "#Используем метод lstsq для решения его относительно р.\n",
    "m, c = np.linalg.lstsq(A, y, rcond = None)[0]\n",
    "print(m, c)"
   ]
  },
  {
   "cell_type": "code",
   "execution_count": 3,
   "id": "fc0d74d9",
   "metadata": {
    "scrolled": false
   },
   "outputs": [
    {
     "data": {
      "image/png": "[encoded data removed]",
      "text/plain": [
       "<Figure size 432x288 with 1 Axes>"
      ]
     },
     "metadata": {
      "needs_background": "light"
     },
     "output_type": "display_data"
    }
   ],
   "source": [
    "#Построим график полученой прямой и укажем на нем точки.\n",
    "import matplotlib.pyplot as plt\n",
    "plt.plot(x, y, 'o', label='Исходные данные', markersize=10)\n",
    "plt.plot(x, m*x + c, 'r', label='Линейная экстраполяция')\n",
    "plt.legend()\n",
    "plt.show()"
   ]
  },
  {
   "cell_type": "markdown",
   "id": "8864b2a0",
   "metadata": {},
   "source": [
    "## 1.2.2 Пример\n",
    "### Задача:\n",
    "#### Пусть 𝑥, 𝑦 – вектора длиной 𝑛 > 3 (точек > 3). Задача заключается в построении эстраполяционного полинома второго порядка (параболы). Таким образом, необходимо найти такие коэффициенты полинома 𝑎, 𝑏, 𝑐 по методу наименьших квадратов. Данные мтогут быть получены в результате измерений. Покажем пример генерации данных случайным образом и загрузки их из файла.\n",
    "### Решение / Ответ:"
   ]
  },
  {
   "cell_type": "code",
   "execution_count": 4,
   "id": "5a43216d",
   "metadata": {},
   "outputs": [],
   "source": [
    "from numpy import *\n",
    "from numpy.random import *\n",
    "#генерируем случайные x и y\n",
    "delta = 1.0\n",
    "x = linspace(-5, 5, 11)\n",
    "y = x**2+delta*(rand(11)-0.5)\n",
    "x += delta*(rand(11)-0.5)\n",
    "\n",
    "#записываем данные в файл\n",
    "x.tofile('x_data.txt', '\\n')\n",
    "y.tofile('y_data.txt', '\\n')"
   ]
  },
  {
   "cell_type": "code",
   "execution_count": 5,
   "id": "e828b733",
   "metadata": {},
   "outputs": [
    {
     "name": "stdout",
     "output_type": "stream",
     "text": [
      "[-5.40748309 -4.32613263 -2.88726945 -1.52516613 -0.86358848 -0.146486\n",
      "  0.75613256  1.67138682  3.00762026  3.79435421  4.76043064]\n",
      "[25.19770725 15.81650276  9.16774698  3.91538183  0.96355438  0.21424777\n",
      "  1.01953984  3.84932007  8.7240383  15.76719398 25.0883956 ]\n"
     ]
    }
   ],
   "source": [
    "# читаем данные из файла\n",
    "x = fromfile('x_data.txt', float, sep='\\n')\n",
    "y = fromfile('y_data.txt', float, sep='\\n')\n",
    "\n",
    "print(x)\n",
    "print(y)"
   ]
  },
  {
   "cell_type": "code",
   "execution_count": 6,
   "id": "f0635717",
   "metadata": {},
   "outputs": [
    {
     "data": {
      "image/png": "[encoded data removed]",
      "text/plain": [
       "<Figure size 432x288 with 1 Axes>"
      ]
     },
     "metadata": {
      "needs_background": "light"
     },
     "output_type": "display_data"
    }
   ],
   "source": [
    "# Нахождение коэффициентов функции вида y=ax^2+bx+c методом наименьших квадратов\n",
    "# задаем вектор m=[x**2, x, E]\n",
    "m = vstack((x**2, x, ones(11))).T\n",
    "# находим коэффициенты при составляющих вектора m\n",
    "s = np.linalg.lstsq(m, y, rcond = None)[0]\n",
    "\n",
    "# на отрезке [-5, 5]\n",
    "x_prec = linspace(-5, 5, 101)\n",
    "# рисуем точки\n",
    "plt.plot(x, y, 'D')\n",
    "# рисуем кривую вида у=ах^2+bx+c, подставляя из решения коэффициенты s[0], s[1], s[2]\n",
    "plt.plot(x_prec, s[0]*x_prec**2+s[1]*x_prec+s[2], '-', lw=2)\n",
    "plt.grid()\n",
    "plt.savefig('парабола.png')"
   ]
  },
  {
   "cell_type": "markdown",
   "id": "150e6958",
   "metadata": {},
   "source": [
    "## 1.2.3 Пример\n",
    "### Задача:\n",
    "#### По данным предыдущего примера постройте эстраполяционного полинома третьего порядка\n",
    "### Решение / Ответ:"
   ]
  },
  {
   "cell_type": "code",
   "execution_count": 7,
   "id": "9e86ad6e",
   "metadata": {},
   "outputs": [
    {
     "data": {
      "image/png": "[encoded data removed]",
      "text/plain": [
       "<Figure size 432x288 with 1 Axes>"
      ]
     },
     "metadata": {
      "needs_background": "light"
     },
     "output_type": "display_data"
    }
   ],
   "source": [
    "# Нахождение коэффициентов функции вида y=ax^3+bx^2+cx+d методом наименьших квадратов\n",
    "# задаем вектор m=[x**3, x, E]\n",
    "m = vstack((x**3, x**2, x, ones(11))).T\n",
    "# находим коэффициенты при составляющих вектора m\n",
    "s = np.linalg.lstsq(m, y, rcond = None)[0]\n",
    "\n",
    "# на отрезке [-5, 5]\n",
    "x_prec = linspace(-5, 5, 101)\n",
    "# рисуем точки\n",
    "plt.plot(x, y, 'D')\n",
    "# рисуем кривую вида y=ax^3+bx^2+cx+d,подставляя из решения коэффициенты s[0], s[1], s[2], s[3]\n",
    "plt.plot(x_prec, s[0]*x_prec**3+s[1]*x_prec**2+s[2]*x_prec+s[3], '-', lw=3)\n",
    "plt.grid()\n",
    "plt.savefig('полином 3-й степени.png')"
   ]
  },
  {
   "cell_type": "markdown",
   "id": "818f42d3",
   "metadata": {},
   "source": [
    "## 1.3.1. Задание\n",
    "### Задача:\n",
    "#### Представьте собственные данные и постройте эктраполяцию полиномами первой, второй и третьей степени.\n",
    "### Решение / Ответ:"
   ]
  },
  {
   "cell_type": "code",
   "execution_count": 8,
   "id": "c1ec5a6f",
   "metadata": {
    "scrolled": true
   },
   "outputs": [
    {
     "name": "stdout",
     "output_type": "stream",
     "text": [
      "[-6  0 -9  8 -1  3  4] \n",
      " [-7.73939364  6.12117067 -2.4594075  -4.53014676  0.21608409 -3.09134733\n",
      "  0.62977331]\n",
      "0.11509564228613561 -1.5340245037516027\n"
     ]
    },
    {
     "data": {
      "image/png": "[encoded data removed]",
      "text/plain": [
       "<Figure size 432x288 with 1 Axes>"
      ]
     },
     "metadata": {
      "needs_background": "light"
     },
     "output_type": "display_data"
    }
   ],
   "source": [
    "import numpy as np\n",
    "\n",
    "x = np.array(np.random.randint(-10, 10, size=7), dtype=int)\n",
    "y = np.array(np.random.uniform(-10, 10, size=7), dtype=float)\n",
    "\n",
    "print(x, '\\n', y)\n",
    "    \n",
    "A = np.vstack([x, np.ones(len(x))]).T\n",
    "\n",
    "m, c = np.linalg.lstsq(A, y, rcond = None)[0]\n",
    "\n",
    "print(m, c)\n",
    "\n",
    "plt.plot(x, y, 'D', markersize=5)\n",
    "plt.plot(x, m * x + c, '-', lw=2)\n",
    "plt.grid()\n",
    "plt.show()"
   ]
  },
  {
   "cell_type": "code",
   "execution_count": 9,
   "id": "349f0ef9",
   "metadata": {
    "scrolled": false
   },
   "outputs": [
    {
     "data": {
      "image/png": "[encoded data removed]",
      "text/plain": [
       "<Figure size 432x288 with 1 Axes>"
      ]
     },
     "metadata": {
      "needs_background": "light"
     },
     "output_type": "display_data"
    }
   ],
   "source": [
    "m = vstack((x**2, x, ones(len(x)))).T\n",
    "\n",
    "s = np.linalg.lstsq(m, y, rcond = None)[0]\n",
    "\n",
    "x_prec = linspace(min(x), max(x))\n",
    "\n",
    "plt.plot(x, y, 'D')\n",
    "plt.plot(x_prec, s[0]*x_prec**2 + s[1]*x_prec + s[2], '-', lw=2)\n",
    "plt.grid()\n",
    "plt.show()"
   ]
  },
  {
   "cell_type": "code",
   "execution_count": 10,
   "id": "5b7647d5",
   "metadata": {},
   "outputs": [
    {
     "data": {
      "image/png": "[encoded data removed]",
      "text/plain": [
       "<Figure size 432x288 with 1 Axes>"
      ]
     },
     "metadata": {
      "needs_background": "light"
     },
     "output_type": "display_data"
    }
   ],
   "source": [
    "m = vstack((x**3, x**2, x, ones(len(x)))).T\n",
    "\n",
    "s = np.linalg.lstsq(m, y, rcond = None)[0]\n",
    "\n",
    "x_prec = linspace(min(x), max(x))\n",
    "\n",
    "plt.plot(x, y, 'D')\n",
    "plt.plot(x_prec, s[0]*x_prec**3 + s[1]*x_prec**2 + s[2]*x_prec + s[3], '-', lw=2)\n",
    "plt.grid()\n",
    "plt.show()"
   ]
  },
  {
   "cell_type": "markdown",
   "id": "2dd413dc",
   "metadata": {},
   "source": [
    "## 1.2.4 Пример\n",
    "### Задача:\n",
    "#### Необходимо проверить гипотезу, что наши точечно заданная функция ложитсяна кривую вида 𝑓(𝑥, 𝑏) = $𝑏_{0}$ + $𝑏_{1}$𝑒𝑥𝑝(−𝑏$2𝑥^{2}$)\n",
    "### Решение / Ответ:"
   ]
  },
  {
   "cell_type": "code",
   "execution_count": 11,
   "id": "4d7bcc03",
   "metadata": {},
   "outputs": [
    {
     "name": "stdout",
     "output_type": "stream",
     "text": [
      "[0.         0.10204082 0.20408163 0.30612245 0.40816327 0.51020408\n",
      " 0.6122449  0.71428571 0.81632653 0.91836735 1.02040816 1.12244898\n",
      " 1.2244898  1.32653061 1.42857143 1.53061224 1.63265306 1.73469388\n",
      " 1.83673469 1.93877551 2.04081633 2.14285714 2.24489796 2.34693878\n",
      " 2.44897959 2.55102041 2.65306122 2.75510204 2.85714286 2.95918367\n",
      " 3.06122449 3.16326531 3.26530612 3.36734694 3.46938776 3.57142857\n",
      " 3.67346939 3.7755102  3.87755102 3.97959184 4.08163265 4.18367347\n",
      " 4.28571429 4.3877551  4.48979592 4.59183673 4.69387755 4.79591837\n",
      " 4.89795918 5.        ]\n",
      "[0.95300851 0.97905406 1.07103315 0.9738014  1.01086391 0.92019338\n",
      " 0.84367219 0.87697853 0.70248392 0.84602031 0.62934594 0.59452401\n",
      " 0.57632132 0.57347299 0.54755437 0.54986621 0.44847198 0.37492668\n",
      " 0.37880111 0.41563577 0.32043892 0.26206197 0.40783903 0.24315626\n",
      " 0.28951267 0.32184437 0.2443525  0.28105996 0.32680061 0.28212799\n",
      " 0.21088936 0.30760006 0.22638029 0.25807713 0.18672771 0.13251308\n",
      " 0.18742957 0.22298523 0.23901828 0.15883193 0.22591919 0.2595623\n",
      " 0.34551821 0.23617119 0.30052813 0.27562342 0.31163259 0.27436371\n",
      " 0.22648548 0.28081792]\n"
     ]
    }
   ],
   "source": [
    "import numpy as np\n",
    "#Добавим шума в данные, сделанные по функции f(x,b) с коэффициентами b = (0.25, 0.75, 0.5)\n",
    "beta = (0.25, 0.75, 0.5)\n",
    "def f(x, b0, b1, b2):\n",
    "    return b0+b1*np.exp(-b2*x**2)\n",
    "# зададим массив точек хi\n",
    "xdata = np.linspace(0, 5, 50)\n",
    "# создаем теоретически правильные значения точек уi (без шума)\n",
    "y = f(xdata, *beta)\n",
    "# зашумляем эти данные\n",
    "ydata = y+0.05*np.random.randn(len(xdata))\n",
    "print(xdata)\n",
    "print(ydata)"
   ]
  },
  {
   "cell_type": "code",
   "execution_count": 12,
   "id": "1e901df7",
   "metadata": {},
   "outputs": [
    {
     "data": {
      "text/plain": [
       "array([0.24825579, 0.76154402, 0.50375294])"
      ]
     },
     "execution_count": 12,
     "metadata": {},
     "output_type": "execute_result"
    }
   ],
   "source": [
    "import scipy as sp\n",
    "#Используем функцию для получения решения в виде коэффициентов функции f(x) для указанных xdata и ydata\n",
    "from scipy.optimize import curve_fit\n",
    "beta_opt, beta_cov = sp.optimize.curve_fit(f, xdata, ydata)\n",
    "beta_opt"
   ]
  },
  {
   "cell_type": "code",
   "execution_count": 13,
   "id": "083319ad",
   "metadata": {},
   "outputs": [
    {
     "name": "stdout",
     "output_type": "stream",
     "text": [
      "0.0002569098558134676\n",
      "0.13432508582568523\n"
     ]
    }
   ],
   "source": [
    "#Вычислим линейное отклонение\n",
    "lin_dev = sum(beta_cov[0])\n",
    "print(lin_dev)\n",
    "\n",
    "#Вычислим квадратичное отклонение\n",
    "residuals = ydata - f(xdata, *beta_opt)\n",
    "fres = sum(residuals**2)\n",
    "print(fres)"
   ]
  },
  {
   "cell_type": "code",
   "execution_count": 14,
   "id": "e66f6a44",
   "metadata": {
    "scrolled": true
   },
   "outputs": [
    {
     "data": {
      "image/png": "[encoded data removed]",
      "text/plain": [
       "<Figure size 432x288 with 1 Axes>"
      ]
     },
     "metadata": {
      "needs_background": "light"
     },
     "output_type": "display_data"
    }
   ],
   "source": [
    "import matplotlib.pyplot as plt\n",
    "fig, ax = plt.subplots()\n",
    "ax.scatter(xdata, ydata)\n",
    "ax.plot(xdata, y, 'r', lw=2)\n",
    "ax.plot(xdata, f(xdata, *beta_opt), 'b', lw=2)\n",
    "ax.set_xlim(0, 5)\n",
    "ax.set_xlabel(r\"$x$\", fontsize=18)\n",
    "ax.set_ylabel(r\"$f(x, \\beta)$\", fontsize=18)\n",
    "plt.show()"
   ]
  },
  {
   "cell_type": "markdown",
   "id": "e4655be7",
   "metadata": {},
   "source": [
    "## 1.2.5 Пример\n",
    "### Задача:\n",
    "#### Необходимо проверить гипотезу, что наши точечно заданная функция ложится на кривые вида:  \n",
    "1) $𝑓(𝑥, 𝑏) = 𝑏_{0} + 𝑏_{1}𝑥$  \n",
    "2) $𝑓(𝑥, 𝑏) = 𝑏_{0} + 𝑏_{1}𝑥 + 𝑏_{2}𝑥^{2}$  \n",
    "3) $𝑓(𝑥, 𝑏) = 𝑏_{0} + 𝑏_{1}𝑙𝑛(𝑥)$  \n",
    "4) $𝑓(𝑥, 𝑏) = 𝑏_{0} 𝑥^{𝑏_{1}}$  \n",
    "### Решение / Ответ:"
   ]
  },
  {
   "cell_type": "code",
   "execution_count": 15,
   "id": "e7b4e0ab",
   "metadata": {},
   "outputs": [
    {
     "name": "stdout",
     "output_type": "stream",
     "text": [
      "[0.24008639 0.75564232]\n",
      "0.00013780653733779278\n",
      "0.12117470938911426\n"
     ]
    }
   ],
   "source": [
    "#решение\n",
    "#1\n",
    "#Добавим шума в данные, сделанные по функции f(x,b) с коэффициентами b = (0.25, 0.75)\n",
    "beta = (0.25, 0.75) \n",
    "def f(x, b0, b1): \n",
    "    return b0 + b1 * x\n",
    "# зададим массив точек хі\n",
    "xdata = np.linspace(0, 5, 50)\n",
    "# создаем теоретически правильные значения точек уi (без шума)\n",
    "y = f(xdata, *beta) \n",
    "# зашумляем эти данные\n",
    "ydata = y + 0.05 * np.random.randn(len(xdata))\n",
    "beta_opt, beta_cov = sp.optimize.curve_fit(f, xdata, ydata) \n",
    "print(beta_opt)\n",
    "#Вычислим линейное отклонение\n",
    "lin_dev = sum(beta_cov[0])\n",
    "print(lin_dev)\n",
    "\n",
    "#Вычислим квадратичное отклонение\n",
    "residuals = ydata - f(xdata, *beta_opt)\n",
    "fres = sum(residuals**2)\n",
    "print(fres)"
   ]
  },
  {
   "cell_type": "code",
   "execution_count": 16,
   "id": "bc8aa966",
   "metadata": {},
   "outputs": [
    {
     "data": {
      "image/png": "[encoded data removed]",
      "text/plain": [
       "<Figure size 432x288 with 1 Axes>"
      ]
     },
     "metadata": {
      "needs_background": "light"
     },
     "output_type": "display_data"
    }
   ],
   "source": [
    "fig, ax = plt.subplots()\n",
    "ax.scatter(xdata, ydata) \n",
    "ax.plot(xdata, y, 'r', lw=2) \n",
    "ax.plot(xdata, f(xdata, *beta_opt), \"b\", lw=2) \n",
    "ax.set_xlim(0, 5) \n",
    "ax.set_xlabel(r\"$x$\", fontsize=18) \n",
    "ax.set_ylabel(r\"$f(x, \\beta)$\", fontsize=18) \n",
    "plt.show()"
   ]
  },
  {
   "cell_type": "code",
   "execution_count": 17,
   "id": "8399837a",
   "metadata": {},
   "outputs": [
    {
     "name": "stdout",
     "output_type": "stream",
     "text": [
      "[0.2283109  0.75723559 0.49946598]\n",
      "9.374264699230818e-05\n",
      "0.07817155004842595\n"
     ]
    }
   ],
   "source": [
    "#решение\n",
    "#2\n",
    "#Добабим шума в данные, сделамные по функции f(x,b) с коэффициентами b = (0.25, 0.75, 0.5) \n",
    "beta = (0.25, 0.75, 0.5) \n",
    "def f(x, b0, b1, b2):\n",
    "    return b0 + b1 * x + b2 * x * x\n",
    "# зададим массив точек xі \n",
    "xdata = np.linspace(0, 5, 50)\n",
    "# создаем теоретически правильные значения тачек уi (без шума)\n",
    "y = f(xdata, *beta)\n",
    "# зашумляем эти данные\n",
    "ydata = y + 0.05 * np.random.randn(len(xdata))\n",
    "beta_opt, beta_cov = sp.optimize.curve_fit(f, xdata, ydata)\n",
    "print(beta_opt) \n",
    "#Вычислим линейное отклонение\n",
    "lin_dev = sum(beta_cov[0])\n",
    "print(lin_dev)\n",
    "\n",
    "#Вычислим кбадратичное отклонение\n",
    "residuals = ydata - f(xdata, *beta_opt) \n",
    "fres = sum(residuals**2)\n",
    "print(fres)"
   ]
  },
  {
   "cell_type": "code",
   "execution_count": 18,
   "id": "926b0f03",
   "metadata": {},
   "outputs": [
    {
     "data": {
      "image/png": "[encoded data removed]",
      "text/plain": [
       "<Figure size 432x288 with 1 Axes>"
      ]
     },
     "metadata": {
      "needs_background": "light"
     },
     "output_type": "display_data"
    }
   ],
   "source": [
    "fig, ax = plt.subplots()\n",
    "ax.scatter(xdata, ydata) \n",
    "ax.plot(xdata, y, 'r', lw=2)\n",
    "ax.plot(xdata, f(xdata, *beta_opt), \"b\", lw=2)\n",
    "ax.set_xlim(0, 5)\n",
    "ax.set_xlabel(r\"$x$\", fontsize=18)\n",
    "ax.set_ylabel(r\"$f(x, \\beta)$\", fontsize=18)\n",
    "plt.show()"
   ]
  },
  {
   "cell_type": "code",
   "execution_count": 19,
   "id": "2ce495ad",
   "metadata": {},
   "outputs": [
    {
     "name": "stdout",
     "output_type": "stream",
     "text": [
      "[0.98568312 2.01559809]\n",
      "3.798521781523491e-05\n",
      "0.08783858816074143\n"
     ]
    }
   ],
   "source": [
    "#решение #3\n",
    "#Добабим шума в данные, сделанные по функции f(x,b) с коэффициентами b = (1, 2) \n",
    "beta = (1, 2)\n",
    "def f(x, b0, b1): \n",
    "    return b0 + b1 * np.log(x)\n",
    "# зададим массив точек хі \n",
    "xdata = np.linspace(1, 5, 50) \n",
    "# создаем теоретически правильные значения точек уi (без шума)\n",
    "y = f(xdata, *beta)\n",
    "# зашумляем эти данные \n",
    "ydata = y + 0.05 *np.random.randn(len(xdata))\n",
    "beta_opt, beta_cov = sp.optimize.curve_fit(f, xdata, ydata) \n",
    "print(beta_opt)\n",
    "#Вычислим линейное отклонение\n",
    "lin_dev = sum(beta_cov[0])\n",
    "print(lin_dev)\n",
    "\n",
    "#Вычислим квадратичное отклонение \n",
    "residuals = ydata - f(xdata,*beta_opt) \n",
    "fres = sum(residuals**2)\n",
    "print(fres)"
   ]
  },
  {
   "cell_type": "code",
   "execution_count": 20,
   "id": "f0976ff4",
   "metadata": {},
   "outputs": [
    {
     "data": {
      "image/png": "[encoded data removed]",
      "text/plain": [
       "<Figure size 432x288 with 1 Axes>"
      ]
     },
     "metadata": {
      "needs_background": "light"
     },
     "output_type": "display_data"
    }
   ],
   "source": [
    "fig, ax = plt.subplots()\n",
    "ax.scatter(xdata, ydata)\n",
    "ax.plot(xdata, y, 'r', lw=2)\n",
    "ax.plot(xdata, f(xdata, *beta_opt), \"b\", lw=2) \n",
    "ax. set_xlim(0, 5)\n",
    "ax.set_xlabel(r\"$x$\", fontsize=18)\n",
    "ax.set_ylabel(r\"$f(x, \\beta)$\", fontsize=18) \n",
    "plt. show()"
   ]
  },
  {
   "cell_type": "code",
   "execution_count": 21,
   "id": "612b48f0",
   "metadata": {},
   "outputs": [
    {
     "name": "stdout",
     "output_type": "stream",
     "text": [
      "[0.99475967 2.00356368]\n",
      "4.5317349315721554e-06\n",
      "0.10985262277345963\n"
     ]
    }
   ],
   "source": [
    "#решение \n",
    "#4\n",
    "#Добавим шума в данные, сделанные по функции f(x,b) с коэффициентами b = (1, 2) \n",
    "beta = (1, 2) \n",
    "def f(x, b0, b1):\n",
    "    return b0* x** b1 \n",
    "# зададим массив тачек xі\n",
    "xdata = np.linspace(1, 5, 50)\n",
    "# создаем теоретически правильные значения точек уi (без шума)\n",
    "y = f(xdata, *beta)\n",
    "# зашумляем эти данные \n",
    "ydata = y + 0.05 * np.random.randn(len(xdata))\n",
    "beta_opt, beta_cov = sp.optimize.curve_fit(f, xdata, ydata)\n",
    "print(beta_opt)\n",
    "#Вычислим линейное отклонение\n",
    "lin_dev = sum(beta_cov[0])\n",
    "print(lin_dev)\n",
    "\n",
    "#Вычислим квадратичное отклонение \n",
    "residuals = ydata - f(xdata, *beta_opt) \n",
    "fres = sum(residuals**2) \n",
    "print(fres)"
   ]
  },
  {
   "cell_type": "code",
   "execution_count": 22,
   "id": "bcf3a6a9",
   "metadata": {
    "scrolled": true
   },
   "outputs": [
    {
     "data": {
      "image/png": "[encoded data removed]",
      "text/plain": [
       "<Figure size 432x288 with 1 Axes>"
      ]
     },
     "metadata": {
      "needs_background": "light"
     },
     "output_type": "display_data"
    }
   ],
   "source": [
    "fig, ax = plt.subplots()\n",
    "ax.scatter(xdata, ydata)\n",
    "ax.plot(xdata, y, 'r', lw=2) \n",
    "ax.plot(xdata, f(xdata, *beta_opt), \"b\", lw=2) \n",
    "ax.set_xlim(0, 5) \n",
    "ax.set_xlabel(r\"$x$\", fontsize=18)\n",
    "ax.set_ylabel(r\"$f(x, \\beta)$\", fontsize=18) \n",
    "plt.show()"
   ]
  },
  {
   "cell_type": "markdown",
   "id": "0064d324",
   "metadata": {},
   "source": [
    "## 1.3.2. Задание\n",
    "### Задача:\n",
    "#### Подставьте собственные данные и поэкспериментируйте с представленными функциями. Проанализируйте динамику изменения данных.\n",
    "### Решение / Ответ:"
   ]
  },
  {
   "cell_type": "code",
   "execution_count": 23,
   "id": "e619dc99",
   "metadata": {},
   "outputs": [],
   "source": [
    "def curve_1():\n",
    "    #решение\n",
    "    #1\n",
    "    #Добавим шума в данные, сделанные по функции f(x,b) с коэффициентами \n",
    "    beta = (np.random.uniform(0.25, 0.5), np.random.uniform(0.75, 1)) \n",
    "    def f(x, b0, b1): \n",
    "        return b0 + b1 * x\n",
    "    # зададим массив точек хі\n",
    "    xdata = np.linspace(0, 5, 50)\n",
    "    # создаем теоретически правильные значения точек уi (без шума)\n",
    "    y = f(xdata, *beta) \n",
    "    # зашумляем эти данные\n",
    "    ydata = y + 0.05 * np.random.randn(len(xdata))\n",
    "    beta_opt, beta_cov = sp.optimize.curve_fit(f, xdata, ydata) \n",
    "    print(beta_opt)\n",
    "    #Вычислим линейное отклонение\n",
    "    lin_dev = sum(beta_cov[0])\n",
    "    print(lin_dev)\n",
    "\n",
    "    #Вычислим квадратичное отклонение\n",
    "    residuals = ydata - f(xdata, *beta_opt)\n",
    "    fres = sum(residuals**2)\n",
    "    print(fres)\n",
    "    \n",
    "    fig, ax = plt.subplots()\n",
    "    ax.scatter(xdata, ydata)\n",
    "    ax.plot(xdata, y, 'r', lw=2) \n",
    "    ax.plot(xdata, f(xdata, *beta_opt), \"b\", lw=2) \n",
    "    ax.set_xlim(0, 5) \n",
    "    ax.set_xlabel(r\"$x$\", fontsize=18)\n",
    "    ax.set_ylabel(r\"$f(x, \\beta)$\", fontsize=18) \n",
    "    plt.show()\n",
    "    \n",
    "def curve_2():\n",
    "    #решение\n",
    "    #2\n",
    "    #Добабим шума в данные, сделамные по функции f(x,b) с коэффициентами b = (0.25, 0.75, 0.5) \n",
    "    beta = (np.random.uniform(0.25, 0.49), np.random.uniform(0.75, 1), np.random.uniform(0.5, 0.74)) \n",
    "    def f(x, b0, b1, b2):\n",
    "        return b0 + b1 * x + b2 * x * x\n",
    "    # зададим массив точек xі \n",
    "    xdata = np.linspace(0, 5, 50)\n",
    "    # создаем теоретически правильные значения тачек уi (без шума)\n",
    "    y = f(xdata, *beta)\n",
    "    # зашумляем эти данные\n",
    "    ydata = y + 0.05 * np.random.randn(len(xdata))\n",
    "    beta_opt, beta_cov = sp.optimize.curve_fit(f, xdata, ydata)\n",
    "    print(beta_opt) \n",
    "    #Вычислим линейное отклонение\n",
    "    lin_dev = sum(beta_cov[0])\n",
    "    print(lin_dev)\n",
    "\n",
    "    #Вычислим кбадратичное отклонение\n",
    "    residuals = ydata - f(xdata, *beta_opt) \n",
    "    fres = sum(residuals**2)\n",
    "    print(fres)\n",
    "    \n",
    "    fig, ax = plt.subplots()\n",
    "    ax.scatter(xdata, ydata)\n",
    "    ax.plot(xdata, y, 'r', lw=2) \n",
    "    ax.plot(xdata, f(xdata, *beta_opt), \"b\", lw=2) \n",
    "    ax.set_xlim(0, 5) \n",
    "    ax.set_xlabel(r\"$x$\", fontsize=18)\n",
    "    ax.set_ylabel(r\"$f(x, \\beta)$\", fontsize=18) \n",
    "    plt.show()\n",
    "    \n",
    "def curve_3():\n",
    "    #решение #3\n",
    "    #Добабим шума в данные, сделанные по функции f(x,b) \n",
    "    beta = (np.random.randint(1, 2), np.random.randint(2, 3))\n",
    "    def f(x, b0, b1): \n",
    "        return b0 + b1 * np.log(x)\n",
    "    # зададим массив точек хі \n",
    "    xdata = np.linspace(1, 5, 50) \n",
    "    # создаем теоретически правильные значения точек уi (без шума)\n",
    "    y = f(xdata, *beta)\n",
    "    # зашумляем эти данные \n",
    "    ydata = y + 0.05 *np.random.randn(len(xdata))\n",
    "    beta_opt, beta_cov = sp.optimize.curve_fit(f, xdata, ydata) \n",
    "    print(beta_opt)\n",
    "    #Вычислим линейное отклонение\n",
    "    lin_dev = sum(beta_cov[0])\n",
    "    print(lin_dev)\n",
    "\n",
    "    #Вычислим квадратичное отклонение \n",
    "    residuals = ydata - f(xdata,*beta_opt) \n",
    "    fres = sum(residuals**2)\n",
    "    print(fres)\n",
    "    \n",
    "    fig, ax = plt.subplots()\n",
    "    ax.scatter(xdata, ydata)\n",
    "    ax.plot(xdata, y, 'r', lw=2) \n",
    "    ax.plot(xdata, f(xdata, *beta_opt), \"b\", lw=2) \n",
    "    ax.set_xlim(0, 5) \n",
    "    ax.set_xlabel(r\"$x$\", fontsize=18)\n",
    "    ax.set_ylabel(r\"$f(x, \\beta)$\", fontsize=18) \n",
    "    plt.show()\n",
    "\n",
    "def curve_4():\n",
    "    #решение \n",
    "    #4\n",
    "    #Добавим шума в данные, сделанные по функции f(x,b) с коэффициентами b = (1, 2) \n",
    "    beta = (np.random.randint(1, 2), np.random.randint(2, 3))\n",
    "    def f(x, b0, b1):\n",
    "        return b0 * x ** b1 \n",
    "    # зададим массив тачек xі\n",
    "    xdata = np.linspace(1, 5, 50)\n",
    "    # создаем теоретически правильные значения точек уi (без шума)\n",
    "    y = f(xdata, *beta)\n",
    "    # зашумляем эти данные \n",
    "    ydata = y + 0.05 * np.random.randn(len(xdata))\n",
    "    beta_opt, beta_cov = sp.optimize.curve_fit(f, xdata, ydata)\n",
    "    print(beta_opt)\n",
    "    #Вычислим линейное отклонение\n",
    "    lin_dev = sum(beta_cov[0])\n",
    "    print(lin_dev)\n",
    "\n",
    "    #Вычислим квадратичное отклонение \n",
    "    residuals = ydata - f(xdata, *beta_opt) \n",
    "    fres = sum(residuals**2) \n",
    "    print(fres)\n",
    "    \n",
    "    fig, ax = plt.subplots()\n",
    "    ax.scatter(xdata, ydata)\n",
    "    ax.plot(xdata, y, 'r', lw=2) \n",
    "    ax.plot(xdata, f(xdata, *beta_opt), \"b\", lw=2) \n",
    "    ax.set_xlim(0, 5) \n",
    "    ax.set_xlabel(r\"$x$\", fontsize=18)\n",
    "    ax.set_ylabel(r\"$f(x, \\beta)$\", fontsize=18) \n",
    "    plt.show()"
   ]
  },
  {
   "cell_type": "code",
   "execution_count": 24,
   "id": "0fade47e",
   "metadata": {},
   "outputs": [
    {
     "name": "stdout",
     "output_type": "stream",
     "text": [
      "[0.48806416 0.78402833]\n",
      "0.00010546474626713968\n",
      "0.09273624148377049\n"
     ]
    },
    {
     "data": {
      "image/png": "[encoded data removed]",
      "text/plain": [
       "<Figure size 432x288 with 1 Axes>"
      ]
     },
     "metadata": {
      "needs_background": "light"
     },
     "output_type": "display_data"
    }
   ],
   "source": [
    "curve_1()"
   ]
  },
  {
   "cell_type": "code",
   "execution_count": 25,
   "id": "b74c5dc7",
   "metadata": {},
   "outputs": [
    {
     "name": "stdout",
     "output_type": "stream",
     "text": [
      "[0.43568456 0.76083367 0.65487538]\n",
      "0.00011858535043378672\n",
      "0.0988877684159833\n"
     ]
    },
    {
     "data": {
      "image/png": "[encoded data removed]",
      "text/plain": [
       "<Figure size 432x288 with 1 Axes>"
      ]
     },
     "metadata": {
      "needs_background": "light"
     },
     "output_type": "display_data"
    }
   ],
   "source": [
    "curve_2()"
   ]
  },
  {
   "cell_type": "code",
   "execution_count": 26,
   "id": "87945a57",
   "metadata": {},
   "outputs": [
    {
     "name": "stdout",
     "output_type": "stream",
     "text": [
      "[1.00923357 1.99330931]\n",
      "5.028913278625331e-05\n",
      "0.11629066852150617\n"
     ]
    },
    {
     "data": {
      "image/png": "[encoded data removed]",
      "text/plain": [
       "<Figure size 432x288 with 1 Axes>"
      ]
     },
     "metadata": {
      "needs_background": "light"
     },
     "output_type": "display_data"
    }
   ],
   "source": [
    "curve_3()"
   ]
  },
  {
   "cell_type": "code",
   "execution_count": 27,
   "id": "c6f78ffa",
   "metadata": {},
   "outputs": [
    {
     "name": "stdout",
     "output_type": "stream",
     "text": [
      "[1.00044362 1.99932398]\n",
      "7.01861885153861e-06\n",
      "0.1666122270934892\n"
     ]
    },
    {
     "data": {
      "image/png": "[encoded data removed]",
      "text/plain": [
       "<Figure size 432x288 with 1 Axes>"
      ]
     },
     "metadata": {
      "needs_background": "light"
     },
     "output_type": "display_data"
    }
   ],
   "source": [
    "curve_4()"
   ]
  },
  {
   "cell_type": "markdown",
   "id": "6a3a7bb3",
   "metadata": {},
   "source": [
    "---\n",
    "\n",
    "# 2.1. Теоретический материал – Задачи регрессии\n",
    "\n",
    "**Линейная регрессия** - это широко используемый метод статистического анализа, который использует регрессионный анализ в математической статистике для определения количественной взаимосвязи между двумя или более переменными. Если регрессионный анализ включает две или более независимых переменных, а связь между зависимой и независимой\n",
    "\n",
    "В этом разделе мы увидим, как библиотеку Scikit-Learn в Python для машинного\n",
    "обучения можно использовать для реализации функций регрессии. Мы начнем\n",
    "с простой линейной регрессии с участием двух переменных, а затем перейдем к\n",
    "линейной регрессии с участием нескольких переменных.\n",
    "\n",
    "## 2.2.1 Пример\n",
    "### Задача:\n",
    "#### Построим простую линейную регрессию в Python с использованием библиотеки scikit-learn\n",
    "### Решение / Ответ:"
   ]
  },
  {
   "cell_type": "code",
   "execution_count": 28,
   "id": "f5d8f74d",
   "metadata": {},
   "outputs": [
    {
     "data": {
      "text/html": [
       "<div>\n",
       "<style scoped>\n",
       "    .dataframe tbody tr th:only-of-type {\n",
       "        vertical-align: middle;\n",
       "    }\n",
       "\n",
       "    .dataframe tbody tr th {\n",
       "        vertical-align: top;\n",
       "    }\n",
       "\n",
       "    .dataframe thead th {\n",
       "        text-align: right;\n",
       "    }\n",
       "</style>\n",
       "<table border=\"1\" class=\"dataframe\">\n",
       "  <thead>\n",
       "    <tr style=\"text-align: right;\">\n",
       "      <th></th>\n",
       "      <th>Учебное время</th>\n",
       "      <th>Оценка</th>\n",
       "    </tr>\n",
       "  </thead>\n",
       "  <tbody>\n",
       "    <tr>\n",
       "      <th>0</th>\n",
       "      <td>0.50</td>\n",
       "      <td>10</td>\n",
       "    </tr>\n",
       "    <tr>\n",
       "      <th>1</th>\n",
       "      <td>0.75</td>\n",
       "      <td>22</td>\n",
       "    </tr>\n",
       "    <tr>\n",
       "      <th>2</th>\n",
       "      <td>1.00</td>\n",
       "      <td>13</td>\n",
       "    </tr>\n",
       "    <tr>\n",
       "      <th>3</th>\n",
       "      <td>1.25</td>\n",
       "      <td>43</td>\n",
       "    </tr>\n",
       "    <tr>\n",
       "      <th>4</th>\n",
       "      <td>1.50</td>\n",
       "      <td>20</td>\n",
       "    </tr>\n",
       "  </tbody>\n",
       "</table>\n",
       "</div>"
      ],
      "text/plain": [
       "   Учебное время  Оценка\n",
       "0           0.50      10\n",
       "1           0.75      22\n",
       "2           1.00      13\n",
       "3           1.25      43\n",
       "4           1.50      20"
      ]
     },
     "execution_count": 28,
     "metadata": {},
     "output_type": "execute_result"
    }
   ],
   "source": [
    "#Импортируем необходимые библиотеки\n",
    "#используем pandas и питpу для обработки данных,\n",
    "#matplotlib для визуализации и sklearn для обучения наборов данных и импорта моделей.\n",
    "import pandas as pd \n",
    "import numpy as np\n",
    "import matplotlib. pyplot as plt\n",
    "from pandas import DataFrame,Series\n",
    "from sklearn.model_selection import train_test_split\n",
    "from sklearn.linear_model import LinearRegression\n",
    "\n",
    "\n",
    "#создадим набор данных для описания взаимосвязи между временем обучения студентов и успеваемостью \n",
    "my_dict = {\"Учебное время\" : [0.50,0.75,1.00,1.25,1.50,1.75,1.75,2.00,2.25,2.50,2.75,3.00,3.25,3.50,4.00,4.25,4.50,4.75,5.00,5.50],\n",
    "           \"Оценка\": [10,22,13,43,20,22,33,50,62,48,55,75,62,73,81,76,64,82,90,93]}\n",
    "dataset = pd.DataFrame(my_dict) \n",
    "dataset.head()"
   ]
  },
  {
   "cell_type": "code",
   "execution_count": 29,
   "id": "9be3929d",
   "metadata": {},
   "outputs": [
    {
     "name": "stdout",
     "output_type": "stream",
     "text": [
      "(20, 2)\n"
     ]
    },
    {
     "data": {
      "text/html": [
       "<div>\n",
       "<style scoped>\n",
       "    .dataframe tbody tr th:only-of-type {\n",
       "        vertical-align: middle;\n",
       "    }\n",
       "\n",
       "    .dataframe tbody tr th {\n",
       "        vertical-align: top;\n",
       "    }\n",
       "\n",
       "    .dataframe thead th {\n",
       "        text-align: right;\n",
       "    }\n",
       "</style>\n",
       "<table border=\"1\" class=\"dataframe\">\n",
       "  <thead>\n",
       "    <tr style=\"text-align: right;\">\n",
       "      <th></th>\n",
       "      <th>Учебное время</th>\n",
       "      <th>Оценка</th>\n",
       "    </tr>\n",
       "  </thead>\n",
       "  <tbody>\n",
       "    <tr>\n",
       "      <th>count</th>\n",
       "      <td>20.000000</td>\n",
       "      <td>20.000000</td>\n",
       "    </tr>\n",
       "    <tr>\n",
       "      <th>mean</th>\n",
       "      <td>2.787500</td>\n",
       "      <td>53.700000</td>\n",
       "    </tr>\n",
       "    <tr>\n",
       "      <th>std</th>\n",
       "      <td>1.507165</td>\n",
       "      <td>26.435821</td>\n",
       "    </tr>\n",
       "    <tr>\n",
       "      <th>min</th>\n",
       "      <td>0.500000</td>\n",
       "      <td>10.000000</td>\n",
       "    </tr>\n",
       "    <tr>\n",
       "      <th>25%</th>\n",
       "      <td>1.687500</td>\n",
       "      <td>30.250000</td>\n",
       "    </tr>\n",
       "    <tr>\n",
       "      <th>50%</th>\n",
       "      <td>2.625000</td>\n",
       "      <td>58.500000</td>\n",
       "    </tr>\n",
       "    <tr>\n",
       "      <th>75%</th>\n",
       "      <td>4.062500</td>\n",
       "      <td>75.250000</td>\n",
       "    </tr>\n",
       "    <tr>\n",
       "      <th>max</th>\n",
       "      <td>5.500000</td>\n",
       "      <td>93.000000</td>\n",
       "    </tr>\n",
       "  </tbody>\n",
       "</table>\n",
       "</div>"
      ],
      "text/plain": [
       "       Учебное время     Оценка\n",
       "count      20.000000  20.000000\n",
       "mean        2.787500  53.700000\n",
       "std         1.507165  26.435821\n",
       "min         0.500000  10.000000\n",
       "25%         1.687500  30.250000\n",
       "50%         2.625000  58.500000\n",
       "75%         4.062500  75.250000\n",
       "max         5.500000  93.000000"
      ]
     },
     "execution_count": 29,
     "metadata": {},
     "output_type": "execute_result"
    }
   ],
   "source": [
    "# Исследуем набор данных\n",
    "print(dataset.shape)\n",
    "dataset.describe()"
   ]
  },
  {
   "cell_type": "code",
   "execution_count": 30,
   "id": "4c4dfdb9",
   "metadata": {
    "scrolled": true
   },
   "outputs": [
    {
     "data": {
      "image/png": "[encoded data removed]",
      "text/plain": [
       "<Figure size 432x288 with 1 Axes>"
      ]
     },
     "metadata": {
      "needs_background": "light"
     },
     "output_type": "display_data"
    }
   ],
   "source": [
    "# Нарисуем точечную диаграмму\n",
    "plt.scatter(dataset['Учебное время'], dataset['Оценка'], color = 'b', label = \"данные экзамена\") \n",
    "plt.xlabel(\"Часы\") \n",
    "plt.ylabel(\"Оценка\") \n",
    "plt.show()"
   ]
  },
  {
   "cell_type": "markdown",
   "id": "9ee2358b",
   "metadata": {},
   "source": [
    "После того как мы получили представление о данных, разделим информацию на «атрибуты» и «метки». Атрибуты – это независимые переменные, а метки – это зависимые переменные, значения которых должны быть предсказаны. В нашем наборе всего два столбца и необходимо предсказать оценку в зависимости от количества часов. Чтобы извлечь атрибуты и метки, выполните следующий скрипт:"
   ]
  },
  {
   "cell_type": "code",
   "execution_count": 31,
   "id": "e8236265",
   "metadata": {},
   "outputs": [
    {
     "name": "stdout",
     "output_type": "stream",
     "text": [
      "[[0.5 ]\n",
      " [0.75]\n",
      " [1.  ]\n",
      " [1.25]\n",
      " [1.5 ]\n",
      " [1.75]\n",
      " [1.75]\n",
      " [2.  ]\n",
      " [2.25]\n",
      " [2.5 ]\n",
      " [2.75]\n",
      " [3.  ]\n",
      " [3.25]\n",
      " [3.5 ]\n",
      " [4.  ]\n",
      " [4.25]\n",
      " [4.5 ]\n",
      " [4.75]\n",
      " [5.  ]\n",
      " [5.5 ]]\n",
      "[10 22 13 43 20 22 33 50 62 48 55 75 62 73 81 76 64 82 90 93]\n"
     ]
    }
   ],
   "source": [
    "X = dataset.iloc[:, :-1].values\n",
    "y = dataset.iloc[:, 1].values\n",
    "print(X)\n",
    "print(y)"
   ]
  },
  {
   "cell_type": "code",
   "execution_count": 32,
   "id": "fcdac4f3",
   "metadata": {},
   "outputs": [],
   "source": [
    "# Теперь, когда у нас есть атрибуты и метки, необходимо разделить их на а обучающий и тестовый наборы. \n",
    "# Приведенный фрагмент разделяет 80% данных на обучающий набор, а 20% данных - на набор тестов \n",
    "X_train, X_test, y_train, y_test = train_test_split(X, y, test_size = 0.2, random_state = 0)"
   ]
  },
  {
   "cell_type": "code",
   "execution_count": 33,
   "id": "3a13a66e",
   "metadata": {},
   "outputs": [
    {
     "data": {
      "text/plain": [
       "LinearRegression()"
      ]
     },
     "execution_count": 33,
     "metadata": {},
     "output_type": "execute_result"
    }
   ],
   "source": [
    "# далее можно обучить алгоритм линейной регрессии \n",
    "# необходимо импортировать класс LinearRegression, создать его экземпляр и вызвать метод fit() \n",
    "regressor = LinearRegression() \n",
    "regressor.fit(X_train, y_train)"
   ]
  },
  {
   "cell_type": "code",
   "execution_count": 34,
   "id": "5b2bf9be",
   "metadata": {},
   "outputs": [
    {
     "name": "stdout",
     "output_type": "stream",
     "text": [
      "5.475400029908791\n",
      "[17.02706744]\n"
     ]
    }
   ],
   "source": [
    "#приведем получившиеся коэффициенты для линии регрессии \n",
    "print(regressor.intercept_)\n",
    "print(regressor.coef_)"
   ]
  },
  {
   "cell_type": "markdown",
   "id": "b360ab76",
   "metadata": {},
   "source": [
    "Получившийся результат можно интерпретировать следующим образом: с каждым затраченным часом на обучение результат экзамена повышается приблизительно на 17 баллов. Далее можно построить прогнозы. Для этого мы будем использовать наши тестовые данные и посмотрим, насколько точно наш алгоритм предсказывает процентную оценку. Чтобы сделать прогноз на тестовых данных необходимо выполнить следующий код:"
   ]
  },
  {
   "cell_type": "code",
   "execution_count": 35,
   "id": "b705f06b",
   "metadata": {},
   "outputs": [
    {
     "data": {
      "text/html": [
       "<div>\n",
       "<style scoped>\n",
       "    .dataframe tbody tr th:only-of-type {\n",
       "        vertical-align: middle;\n",
       "    }\n",
       "\n",
       "    .dataframe tbody tr th {\n",
       "        vertical-align: top;\n",
       "    }\n",
       "\n",
       "    .dataframe thead th {\n",
       "        text-align: right;\n",
       "    }\n",
       "</style>\n",
       "<table border=\"1\" class=\"dataframe\">\n",
       "  <thead>\n",
       "    <tr style=\"text-align: right;\">\n",
       "      <th></th>\n",
       "      <th>Actual</th>\n",
       "      <th>Predicted</th>\n",
       "    </tr>\n",
       "  </thead>\n",
       "  <tbody>\n",
       "    <tr>\n",
       "      <th>0</th>\n",
       "      <td>90</td>\n",
       "      <td>90.610737</td>\n",
       "    </tr>\n",
       "    <tr>\n",
       "      <th>1</th>\n",
       "      <td>22</td>\n",
       "      <td>18.245701</td>\n",
       "    </tr>\n",
       "    <tr>\n",
       "      <th>2</th>\n",
       "      <td>93</td>\n",
       "      <td>99.124271</td>\n",
       "    </tr>\n",
       "    <tr>\n",
       "      <th>3</th>\n",
       "      <td>62</td>\n",
       "      <td>43.786302</td>\n",
       "    </tr>\n",
       "  </tbody>\n",
       "</table>\n",
       "</div>"
      ],
      "text/plain": [
       "   Actual  Predicted\n",
       "0      90  90.610737\n",
       "1      22  18.245701\n",
       "2      93  99.124271\n",
       "3      62  43.786302"
      ]
     },
     "execution_count": 35,
     "metadata": {},
     "output_type": "execute_result"
    }
   ],
   "source": [
    "y_pred = regressor.predict(X_test) \n",
    "# сравним фактические значения с прогнозируемыми \n",
    "df = pd.DataFrame({'Actual': y_test, 'Predicted': y_pred}) \n",
    "df"
   ]
  },
  {
   "cell_type": "code",
   "execution_count": 36,
   "id": "6eb17904",
   "metadata": {},
   "outputs": [
    {
     "data": {
      "image/png": "[encoded data removed]",
      "text/plain": [
       "<Figure size 432x288 with 1 Axes>"
      ]
     },
     "metadata": {
      "needs_background": "light"
     },
     "output_type": "display_data"
    }
   ],
   "source": [
    "# визуализируем результат сравнения в виде гистограммы\n",
    "df.plot(kind='bar')\n",
    "plt.grid(which='major', linestyle='-', linewidth='0.5', color='green') \n",
    "plt.grid(which='minor', linestyle=':', linewidth='0.5', color='black') \n",
    "plt.show()"
   ]
  },
  {
   "cell_type": "code",
   "execution_count": 37,
   "id": "504750d6",
   "metadata": {
    "scrolled": true
   },
   "outputs": [
    {
     "data": {
      "image/png": "[encoded data removed]",
      "text/plain": [
       "<Figure size 432x288 with 1 Axes>"
      ]
     },
     "metadata": {
      "needs_background": "light"
     },
     "output_type": "display_data"
    }
   ],
   "source": [
    "#построим линию регрессии с тестовыми данными \n",
    "plt.scatter(X_test, y_test, color='gray') \n",
    "plt.plot(X_test, y_pred, color='red', linewidth=2) \n",
    "plt.show()"
   ]
  },
  {
   "cell_type": "markdown",
   "id": "1b68a6cd",
   "metadata": {},
   "source": [
    "## 2.3.1. Задание\n",
    "### Задача:\n",
    "#### Постройте модель линейной регрессии для произвольных данных из двух столбцов. Для примера можно взять точечную зависимость заработной платы от опыта работы: (https://raw.githubusercontent.com/AnnaShestova/salary-years-simple-linear-regression/master/Salary_Data.csv). Найдите коэффициенты линии регрессии. Постройте прогноз.\n",
    "### Решение / Ответ:"
   ]
  },
  {
   "cell_type": "code",
   "execution_count": 38,
   "id": "a9e71689",
   "metadata": {},
   "outputs": [
    {
     "name": "stdout",
     "output_type": "stream",
     "text": [
      "26780.09915062818\n",
      "[9312.57512673]\n"
     ]
    }
   ],
   "source": [
    "url = 'https://raw.githubusercontent.com/AnnaShestova/salary-years-simple-linear-regression/master/Salary_Data.csv'\n",
    "df = pd.read_csv(url)\n",
    "\n",
    "X = df.iloc[:, :-1].values\n",
    "y = df.iloc[:, 1].values\n",
    "\n",
    "X_train, X_test, y_train, y_test = train_test_split(X, y, test_size = 0.2, random_state = 0)\n",
    "\n",
    "regressor = LinearRegression() \n",
    "regressor.fit(X_train, y_train)\n",
    "\n",
    "print(regressor.intercept_)\n",
    "print(regressor.coef_)"
   ]
  },
  {
   "cell_type": "code",
   "execution_count": 39,
   "id": "a48c73c8",
   "metadata": {},
   "outputs": [
    {
     "data": {
      "text/html": [
       "<div>\n",
       "<style scoped>\n",
       "    .dataframe tbody tr th:only-of-type {\n",
       "        vertical-align: middle;\n",
       "    }\n",
       "\n",
       "    .dataframe tbody tr th {\n",
       "        vertical-align: top;\n",
       "    }\n",
       "\n",
       "    .dataframe thead th {\n",
       "        text-align: right;\n",
       "    }\n",
       "</style>\n",
       "<table border=\"1\" class=\"dataframe\">\n",
       "  <thead>\n",
       "    <tr style=\"text-align: right;\">\n",
       "      <th></th>\n",
       "      <th>Actual</th>\n",
       "      <th>Predicted</th>\n",
       "    </tr>\n",
       "  </thead>\n",
       "  <tbody>\n",
       "    <tr>\n",
       "      <th>0</th>\n",
       "      <td>37731.0</td>\n",
       "      <td>40748.961841</td>\n",
       "    </tr>\n",
       "    <tr>\n",
       "      <th>1</th>\n",
       "      <td>122391.0</td>\n",
       "      <td>122699.622956</td>\n",
       "    </tr>\n",
       "    <tr>\n",
       "      <th>2</th>\n",
       "      <td>57081.0</td>\n",
       "      <td>64961.657170</td>\n",
       "    </tr>\n",
       "    <tr>\n",
       "      <th>3</th>\n",
       "      <td>63218.0</td>\n",
       "      <td>63099.142145</td>\n",
       "    </tr>\n",
       "    <tr>\n",
       "      <th>4</th>\n",
       "      <td>116969.0</td>\n",
       "      <td>115249.562855</td>\n",
       "    </tr>\n",
       "    <tr>\n",
       "      <th>5</th>\n",
       "      <td>109431.0</td>\n",
       "      <td>107799.502753</td>\n",
       "    </tr>\n",
       "  </tbody>\n",
       "</table>\n",
       "</div>"
      ],
      "text/plain": [
       "     Actual      Predicted\n",
       "0   37731.0   40748.961841\n",
       "1  122391.0  122699.622956\n",
       "2   57081.0   64961.657170\n",
       "3   63218.0   63099.142145\n",
       "4  116969.0  115249.562855\n",
       "5  109431.0  107799.502753"
      ]
     },
     "execution_count": 39,
     "metadata": {},
     "output_type": "execute_result"
    }
   ],
   "source": [
    "y_pred = regressor.predict(X_test) \n",
    "df = pd.DataFrame({'Actual': y_test, 'Predicted': y_pred})\n",
    "df"
   ]
  },
  {
   "cell_type": "code",
   "execution_count": 40,
   "id": "9e92328f",
   "metadata": {
    "scrolled": false
   },
   "outputs": [
    {
     "data": {
      "image/png": "[encoded data removed]",
      "text/plain": [
       "<Figure size 432x288 with 1 Axes>"
      ]
     },
     "metadata": {
      "needs_background": "light"
     },
     "output_type": "display_data"
    }
   ],
   "source": [
    "df.plot(kind='bar')\n",
    "plt.grid(which='major', linestyle='-', linewidth='0.5', color='black') \n",
    "plt.grid(which='minor', linestyle=':', linewidth='0.5', color='black') \n",
    "plt.show()"
   ]
  },
  {
   "cell_type": "code",
   "execution_count": 41,
   "id": "44ee234f",
   "metadata": {
    "scrolled": true
   },
   "outputs": [
    {
     "data": {
      "image/png": "[encoded data removed]",
      "text/plain": [
       "<Figure size 432x288 with 1 Axes>"
      ]
     },
     "metadata": {
      "needs_background": "light"
     },
     "output_type": "display_data"
    }
   ],
   "source": [
    "plt.scatter(X_test, y_test, color='orange') \n",
    "plt.plot(X_test, y_pred, linewidth=2) \n",
    "plt.show()"
   ]
  },
  {
   "cell_type": "markdown",
   "id": "0982aeae",
   "metadata": {},
   "source": [
    "---\n",
    "\n",
    "# 3.1. Теоретический материал – Задачи регрессии\n",
    "\n",
    "В предыдущем примере мы проиллюстрировали линейную регрессию с двумя переменными. Однако, почти все реальные задачи имеют больше параметров. Линейная регрессия с участием нескольких переменных называется «множественной линейной регрессией» или многомерной линейной регрессией. Шаги для выполнения множественной линейной регрессии аналогичны шагам для простой . Разница заключается в оценке. Вы можете использовать множественную регрессию, чтобы узнать, какой фактор оказывает наибольшее влияние на прогнозируемый результат или как различные переменные связаны друг с другом.\n",
    "\n",
    "## 3.2.1 Пример\n",
    "### Задача:\n",
    "#### Для решения задачи множественной регрессии можно задействовать уже известный метод numpy.linalg.lstsq.\n",
    "### Решение / Ответ:"
   ]
  },
  {
   "cell_type": "code",
   "execution_count": 42,
   "id": "b31e9856",
   "metadata": {},
   "outputs": [
    {
     "name": "stdout",
     "output_type": "stream",
     "text": [
      "[ 0.1338682   0.26840334 -0.02874936  1.5122571 ]\n"
     ]
    }
   ],
   "source": [
    "import numpy as np\n",
    "y = [1,2,3,4,3,4,5,3,5,5,4,5,4,5,4,5,6,0,6,3,1,3,1] \n",
    "X = [[0,2,4,1,5,4,5,9,9,9,3,7,8,8,6,6,5,5,5,6,6,5,5], \n",
    "     [4,1,2,3,4,5,6,7,5,8,7,8,7,8,7,8,6,8,9,2,1,5,6],\n",
    "     [4,1,2,5,6,7,8,9,7,8,7,8,7,4,3,1,2,3,4,1,3,9,7]] \n",
    "X = np.transpose(X) # transpose so input vectors \n",
    "X = np.c_[X, np.ones(X.shape[0])] # add bias term \n",
    "linreg = np.linalg.lstsq(X, y, rcond=None)[0] \n",
    "print(linreg)"
   ]
  },
  {
   "cell_type": "markdown",
   "id": "52fdb45d",
   "metadata": {},
   "source": [
    "Кроме этого можно использовать возможности библиотеки sсikit-learn.\n",
    "Рассмотрим пример."
   ]
  },
  {
   "cell_type": "markdown",
   "id": "d49d3d18",
   "metadata": {},
   "source": [
    "## 3.2.2 Пример\n",
    "### Задача:\n",
    "#### Для данных из предыдущей задачи построить модель множественной линейной регрессии с использованием средств библиотеки sсikit-learn.\n",
    "### Решение / Ответ:"
   ]
  },
  {
   "cell_type": "code",
   "execution_count": 43,
   "id": "07bde29f",
   "metadata": {},
   "outputs": [
    {
     "data": {
      "text/html": [
       "<div>\n",
       "<style scoped>\n",
       "    .dataframe tbody tr th:only-of-type {\n",
       "        vertical-align: middle;\n",
       "    }\n",
       "\n",
       "    .dataframe tbody tr th {\n",
       "        vertical-align: top;\n",
       "    }\n",
       "\n",
       "    .dataframe thead th {\n",
       "        text-align: right;\n",
       "    }\n",
       "</style>\n",
       "<table border=\"1\" class=\"dataframe\">\n",
       "  <thead>\n",
       "    <tr style=\"text-align: right;\">\n",
       "      <th></th>\n",
       "      <th>y</th>\n",
       "      <th>x1</th>\n",
       "      <th>x2</th>\n",
       "      <th>x3</th>\n",
       "    </tr>\n",
       "  </thead>\n",
       "  <tbody>\n",
       "    <tr>\n",
       "      <th>0</th>\n",
       "      <td>1</td>\n",
       "      <td>0</td>\n",
       "      <td>4</td>\n",
       "      <td>4</td>\n",
       "    </tr>\n",
       "    <tr>\n",
       "      <th>1</th>\n",
       "      <td>2</td>\n",
       "      <td>2</td>\n",
       "      <td>1</td>\n",
       "      <td>1</td>\n",
       "    </tr>\n",
       "    <tr>\n",
       "      <th>2</th>\n",
       "      <td>3</td>\n",
       "      <td>4</td>\n",
       "      <td>2</td>\n",
       "      <td>2</td>\n",
       "    </tr>\n",
       "    <tr>\n",
       "      <th>3</th>\n",
       "      <td>4</td>\n",
       "      <td>1</td>\n",
       "      <td>3</td>\n",
       "      <td>5</td>\n",
       "    </tr>\n",
       "    <tr>\n",
       "      <th>4</th>\n",
       "      <td>3</td>\n",
       "      <td>5</td>\n",
       "      <td>4</td>\n",
       "      <td>6</td>\n",
       "    </tr>\n",
       "  </tbody>\n",
       "</table>\n",
       "</div>"
      ],
      "text/plain": [
       "   y  x1  x2  x3\n",
       "0  1   0   4   4\n",
       "1  2   2   1   1\n",
       "2  3   4   2   2\n",
       "3  4   1   3   5\n",
       "4  3   5   4   6"
      ]
     },
     "execution_count": 43,
     "metadata": {},
     "output_type": "execute_result"
    }
   ],
   "source": [
    "#Импортируем необходимые библиотеки\n",
    "import pandas as pd\n",
    "import numpy as np\n",
    "import matplotlib.pyplot as plt \n",
    "import seaborn as seabornInstance\n",
    "from sklearn.model_selection import train_test_split \n",
    "from sklearn.linear_model import LinearRegression \n",
    "from sklearn import metrics\n",
    "\n",
    "y = [1,2,3,4,3,4,5,3,5,5,4,5,4,5,4,5,6,0,6,3,1,3,1]\n",
    "X = [[0,2,4,1,5,4,5,9,9,9,3,7,8,8,6,6,5,5,5,6,6,5,5], \n",
    "     [4,1,2,3,4,5,6,7,5,8,7,8,7,8,7,8,6,8,9,2,1,5,6], \n",
    "     [4,1,2,5,6,7,8,9,7,8,7,8,7,4,3,1,2,3,4,1,3,9,7]]\n",
    "\n",
    "# формируем DataFrame из двух списков\n",
    "new_y = np.array(y)\n",
    "new_y = new_y.transpose() \n",
    "df1 = pd.DataFrame(new_y) \n",
    "new_X = np.array(X) \n",
    "new_X = new_X.transpose() \n",
    "df2 = pd.DataFrame(new_X) \n",
    "df1 = df1.rename(columns = {0: 'y'}, inplace = False)\n",
    "df2 = df2.rename(columns = {0: 'x1', 1: 'x2', 2: 'x3'}, inplace = False)\n",
    "\n",
    "frames = [df1, df2]\n",
    "dataset = pd.concat([df1, df2], axis=1, join=\"inner\") \n",
    "dataset.head()"
   ]
  },
  {
   "cell_type": "code",
   "execution_count": 44,
   "id": "5a7a2e49",
   "metadata": {},
   "outputs": [
    {
     "name": "stdout",
     "output_type": "stream",
     "text": [
      "(23, 4)\n"
     ]
    },
    {
     "data": {
      "text/html": [
       "<div>\n",
       "<style scoped>\n",
       "    .dataframe tbody tr th:only-of-type {\n",
       "        vertical-align: middle;\n",
       "    }\n",
       "\n",
       "    .dataframe tbody tr th {\n",
       "        vertical-align: top;\n",
       "    }\n",
       "\n",
       "    .dataframe thead th {\n",
       "        text-align: right;\n",
       "    }\n",
       "</style>\n",
       "<table border=\"1\" class=\"dataframe\">\n",
       "  <thead>\n",
       "    <tr style=\"text-align: right;\">\n",
       "      <th></th>\n",
       "      <th>y</th>\n",
       "      <th>x1</th>\n",
       "      <th>x2</th>\n",
       "      <th>x3</th>\n",
       "    </tr>\n",
       "  </thead>\n",
       "  <tbody>\n",
       "    <tr>\n",
       "      <th>count</th>\n",
       "      <td>23.000000</td>\n",
       "      <td>23.000000</td>\n",
       "      <td>23.000000</td>\n",
       "      <td>23.000000</td>\n",
       "    </tr>\n",
       "    <tr>\n",
       "      <th>mean</th>\n",
       "      <td>3.565217</td>\n",
       "      <td>5.347826</td>\n",
       "      <td>5.521739</td>\n",
       "      <td>5.043478</td>\n",
       "    </tr>\n",
       "    <tr>\n",
       "      <th>std</th>\n",
       "      <td>1.674029</td>\n",
       "      <td>2.404706</td>\n",
       "      <td>2.428422</td>\n",
       "      <td>2.704849</td>\n",
       "    </tr>\n",
       "    <tr>\n",
       "      <th>min</th>\n",
       "      <td>0.000000</td>\n",
       "      <td>0.000000</td>\n",
       "      <td>1.000000</td>\n",
       "      <td>1.000000</td>\n",
       "    </tr>\n",
       "    <tr>\n",
       "      <th>25%</th>\n",
       "      <td>3.000000</td>\n",
       "      <td>4.500000</td>\n",
       "      <td>4.000000</td>\n",
       "      <td>3.000000</td>\n",
       "    </tr>\n",
       "    <tr>\n",
       "      <th>50%</th>\n",
       "      <td>4.000000</td>\n",
       "      <td>5.000000</td>\n",
       "      <td>6.000000</td>\n",
       "      <td>5.000000</td>\n",
       "    </tr>\n",
       "    <tr>\n",
       "      <th>75%</th>\n",
       "      <td>5.000000</td>\n",
       "      <td>6.500000</td>\n",
       "      <td>7.500000</td>\n",
       "      <td>7.000000</td>\n",
       "    </tr>\n",
       "    <tr>\n",
       "      <th>max</th>\n",
       "      <td>6.000000</td>\n",
       "      <td>9.000000</td>\n",
       "      <td>9.000000</td>\n",
       "      <td>9.000000</td>\n",
       "    </tr>\n",
       "  </tbody>\n",
       "</table>\n",
       "</div>"
      ],
      "text/plain": [
       "               y         x1         x2         x3\n",
       "count  23.000000  23.000000  23.000000  23.000000\n",
       "mean    3.565217   5.347826   5.521739   5.043478\n",
       "std     1.674029   2.404706   2.428422   2.704849\n",
       "min     0.000000   0.000000   1.000000   1.000000\n",
       "25%     3.000000   4.500000   4.000000   3.000000\n",
       "50%     4.000000   5.000000   6.000000   5.000000\n",
       "75%     5.000000   6.500000   7.500000   7.000000\n",
       "max     6.000000   9.000000   9.000000   9.000000"
      ]
     },
     "execution_count": 44,
     "metadata": {},
     "output_type": "execute_result"
    }
   ],
   "source": [
    "# изучим данные\n",
    "print(dataset.shape)\n",
    "dataset.describe()"
   ]
  },
  {
   "cell_type": "code",
   "execution_count": 45,
   "id": "13ad9784",
   "metadata": {},
   "outputs": [
    {
     "data": {
      "text/plain": [
       "array([ 0.22321933,  0.13670903, -0.06375673])"
      ]
     },
     "execution_count": 45,
     "metadata": {},
     "output_type": "execute_result"
    }
   ],
   "source": [
    "# разделим данные на метки и атрибуты\n",
    "X = dataset[['x1', 'x2', 'x3']]\n",
    "y = dataset['y']\n",
    "\n",
    "#разделим данные на обучающую и тестовую выборки\n",
    "X_train, X_test, y_train, y_test = train_test_split(X, y, test_size = 0.2, random_state = 0)\n",
    "\n",
    "#для обучения алгоритма мы выполняем тот же код, что и раньше, используя метод fit() клаacca LinearRegression \n",
    "regressor = LinearRegression() \n",
    "regressor.fit(X_train, y_train)\n",
    "regressor.coef_"
   ]
  },
  {
   "cell_type": "code",
   "execution_count": 46,
   "id": "22172548",
   "metadata": {},
   "outputs": [
    {
     "data": {
      "text/html": [
       "<div>\n",
       "<style scoped>\n",
       "    .dataframe tbody tr th:only-of-type {\n",
       "        vertical-align: middle;\n",
       "    }\n",
       "\n",
       "    .dataframe tbody tr th {\n",
       "        vertical-align: top;\n",
       "    }\n",
       "\n",
       "    .dataframe thead th {\n",
       "        text-align: right;\n",
       "    }\n",
       "</style>\n",
       "<table border=\"1\" class=\"dataframe\">\n",
       "  <thead>\n",
       "    <tr style=\"text-align: right;\">\n",
       "      <th></th>\n",
       "      <th>Coefficient</th>\n",
       "    </tr>\n",
       "  </thead>\n",
       "  <tbody>\n",
       "    <tr>\n",
       "      <th>x1</th>\n",
       "      <td>0.223219</td>\n",
       "    </tr>\n",
       "    <tr>\n",
       "      <th>x2</th>\n",
       "      <td>0.136709</td>\n",
       "    </tr>\n",
       "    <tr>\n",
       "      <th>x3</th>\n",
       "      <td>-0.063757</td>\n",
       "    </tr>\n",
       "  </tbody>\n",
       "</table>\n",
       "</div>"
      ],
      "text/plain": [
       "    Coefficient\n",
       "x1     0.223219\n",
       "x2     0.136709\n",
       "x3    -0.063757"
      ]
     },
     "execution_count": 46,
     "metadata": {},
     "output_type": "execute_result"
    }
   ],
   "source": [
    "#выведем коэффициенты модели\n",
    "coeff_df = pd.DataFrame(regressor.coef_, X.columns, columns=['Coefficient']) \n",
    "coeff_df"
   ]
  },
  {
   "cell_type": "code",
   "execution_count": 47,
   "id": "47f02a90",
   "metadata": {},
   "outputs": [
    {
     "data": {
      "text/html": [
       "<div>\n",
       "<style scoped>\n",
       "    .dataframe tbody tr th:only-of-type {\n",
       "        vertical-align: middle;\n",
       "    }\n",
       "\n",
       "    .dataframe tbody tr th {\n",
       "        vertical-align: top;\n",
       "    }\n",
       "\n",
       "    .dataframe thead th {\n",
       "        text-align: right;\n",
       "    }\n",
       "</style>\n",
       "<table border=\"1\" class=\"dataframe\">\n",
       "  <thead>\n",
       "    <tr style=\"text-align: right;\">\n",
       "      <th></th>\n",
       "      <th>Actual</th>\n",
       "      <th>Predicted</th>\n",
       "    </tr>\n",
       "  </thead>\n",
       "  <tbody>\n",
       "    <tr>\n",
       "      <th>11</th>\n",
       "      <td>5</td>\n",
       "      <td>4.119478</td>\n",
       "    </tr>\n",
       "    <tr>\n",
       "      <th>10</th>\n",
       "      <td>4</td>\n",
       "      <td>3.153648</td>\n",
       "    </tr>\n",
       "    <tr>\n",
       "      <th>21</th>\n",
       "      <td>3</td>\n",
       "      <td>3.199155</td>\n",
       "    </tr>\n",
       "    <tr>\n",
       "      <th>14</th>\n",
       "      <td>4</td>\n",
       "      <td>4.078333</td>\n",
       "    </tr>\n",
       "    <tr>\n",
       "      <th>20</th>\n",
       "      <td>1</td>\n",
       "      <td>3.258079</td>\n",
       "    </tr>\n",
       "  </tbody>\n",
       "</table>\n",
       "</div>"
      ],
      "text/plain": [
       "    Actual  Predicted\n",
       "11       5   4.119478\n",
       "10       4   3.153648\n",
       "21       3   3.199155\n",
       "14       4   4.078333\n",
       "20       1   3.258079"
      ]
     },
     "execution_count": 47,
     "metadata": {},
     "output_type": "execute_result"
    }
   ],
   "source": [
    "#Чтобы сделать прогнозы на тестовых данных, выполните следующий код \n",
    "y_pred = regressor.predict(X_test) \n",
    "df = pd.DataFrame({'Actual': y_test, 'Predicted': y_pred})\n",
    "df"
   ]
  },
  {
   "cell_type": "code",
   "execution_count": 48,
   "id": "0f26a453",
   "metadata": {},
   "outputs": [
    {
     "name": "stdout",
     "output_type": "stream",
     "text": [
      "Mean Squared Error: 1.327269924234307\n"
     ]
    }
   ],
   "source": [
    "#Последний шаг - оценить производительность алгоритма. Мы сделаем это, найдя значения для MSE\n",
    "print('Mean Squared Error:', metrics.mean_squared_error(y_test, y_pred))"
   ]
  },
  {
   "cell_type": "markdown",
   "id": "8185252b",
   "metadata": {},
   "source": [
    "## 3.3.1. Задание\n",
    "### Задача:\n",
    "#### Постройте модель множественной линейной регрессии для произвольных данных из нескольких столбцов. Для примера можно взять потребления газа (в миллионах галлонов) в 48 штатах США или набор данных о качестве красного вина (1) и (2) соответственно. Найдите коэффициенты множественной регрессии. Постройте прогноз.\n",
    "1. https://raw.githubusercontent.com/likarajo/petrol_consumption/master/data/petrol_consumption.csv\n",
    "2. https://raw.githubusercontent.com/aniruddhachoudhury/Red-WineQuality/master/winequality-red.csv\n",
    "### Решение / Ответ:"
   ]
  },
  {
   "cell_type": "code",
   "execution_count": 49,
   "id": "b27fdc41",
   "metadata": {
    "scrolled": false
   },
   "outputs": [
    {
     "data": {
      "text/html": [
       "<div>\n",
       "<style scoped>\n",
       "    .dataframe tbody tr th:only-of-type {\n",
       "        vertical-align: middle;\n",
       "    }\n",
       "\n",
       "    .dataframe tbody tr th {\n",
       "        vertical-align: top;\n",
       "    }\n",
       "\n",
       "    .dataframe thead th {\n",
       "        text-align: right;\n",
       "    }\n",
       "</style>\n",
       "<table border=\"1\" class=\"dataframe\">\n",
       "  <thead>\n",
       "    <tr style=\"text-align: right;\">\n",
       "      <th></th>\n",
       "      <th>Petrol_tax</th>\n",
       "      <th>Average_income</th>\n",
       "      <th>Paved_Highways</th>\n",
       "      <th>Population_Driver_licence(%)</th>\n",
       "      <th>Petrol_Consumption</th>\n",
       "    </tr>\n",
       "  </thead>\n",
       "  <tbody>\n",
       "    <tr>\n",
       "      <th>0</th>\n",
       "      <td>9.0</td>\n",
       "      <td>3571</td>\n",
       "      <td>1976</td>\n",
       "      <td>0.525</td>\n",
       "      <td>541</td>\n",
       "    </tr>\n",
       "    <tr>\n",
       "      <th>1</th>\n",
       "      <td>9.0</td>\n",
       "      <td>4092</td>\n",
       "      <td>1250</td>\n",
       "      <td>0.572</td>\n",
       "      <td>524</td>\n",
       "    </tr>\n",
       "    <tr>\n",
       "      <th>2</th>\n",
       "      <td>9.0</td>\n",
       "      <td>3865</td>\n",
       "      <td>1586</td>\n",
       "      <td>0.580</td>\n",
       "      <td>561</td>\n",
       "    </tr>\n",
       "    <tr>\n",
       "      <th>3</th>\n",
       "      <td>7.5</td>\n",
       "      <td>4870</td>\n",
       "      <td>2351</td>\n",
       "      <td>0.529</td>\n",
       "      <td>414</td>\n",
       "    </tr>\n",
       "    <tr>\n",
       "      <th>4</th>\n",
       "      <td>8.0</td>\n",
       "      <td>4399</td>\n",
       "      <td>431</td>\n",
       "      <td>0.544</td>\n",
       "      <td>410</td>\n",
       "    </tr>\n",
       "  </tbody>\n",
       "</table>\n",
       "</div>"
      ],
      "text/plain": [
       "   Petrol_tax  Average_income  Paved_Highways  Population_Driver_licence(%)  \\\n",
       "0         9.0            3571            1976                         0.525   \n",
       "1         9.0            4092            1250                         0.572   \n",
       "2         9.0            3865            1586                         0.580   \n",
       "3         7.5            4870            2351                         0.529   \n",
       "4         8.0            4399             431                         0.544   \n",
       "\n",
       "   Petrol_Consumption  \n",
       "0                 541  \n",
       "1                 524  \n",
       "2                 561  \n",
       "3                 414  \n",
       "4                 410  "
      ]
     },
     "execution_count": 49,
     "metadata": {},
     "output_type": "execute_result"
    }
   ],
   "source": [
    "url = 'https://raw.githubusercontent.com/likarajo/petrol_consumption/master/data/petrol_consumption.csv'\n",
    "df = pd.read_csv(url)\n",
    "df.head()"
   ]
  },
  {
   "cell_type": "code",
   "execution_count": 50,
   "id": "5c3553ab",
   "metadata": {},
   "outputs": [
    {
     "data": {
      "text/plain": [
       "LinearRegression()"
      ]
     },
     "execution_count": 50,
     "metadata": {},
     "output_type": "execute_result"
    }
   ],
   "source": [
    "X = df[['Average_income', 'Paved_Highways', 'Population_Driver_licence(%)', 'Petrol_Consumption']]\n",
    "y = df['Petrol_tax']\n",
    "\n",
    "X_train, X_test, y_train, y_test = train_test_split(X, y, test_size = 0.2, random_state = 0)\n",
    "\n",
    "regressor = LinearRegression() \n",
    "regressor.fit(X_train, y_train)"
   ]
  },
  {
   "cell_type": "code",
   "execution_count": 51,
   "id": "e542683a",
   "metadata": {},
   "outputs": [
    {
     "data": {
      "text/html": [
       "<div>\n",
       "<style scoped>\n",
       "    .dataframe tbody tr th:only-of-type {\n",
       "        vertical-align: middle;\n",
       "    }\n",
       "\n",
       "    .dataframe tbody tr th {\n",
       "        vertical-align: top;\n",
       "    }\n",
       "\n",
       "    .dataframe thead th {\n",
       "        text-align: right;\n",
       "    }\n",
       "</style>\n",
       "<table border=\"1\" class=\"dataframe\">\n",
       "  <thead>\n",
       "    <tr style=\"text-align: right;\">\n",
       "      <th></th>\n",
       "      <th>Coefficient</th>\n",
       "    </tr>\n",
       "  </thead>\n",
       "  <tbody>\n",
       "    <tr>\n",
       "      <th>Average_income</th>\n",
       "      <td>-0.000107</td>\n",
       "    </tr>\n",
       "    <tr>\n",
       "      <th>Paved_Highways</th>\n",
       "      <td>-0.000152</td>\n",
       "    </tr>\n",
       "    <tr>\n",
       "      <th>Population_Driver_licence(%)</th>\n",
       "      <td>2.110354</td>\n",
       "    </tr>\n",
       "    <tr>\n",
       "      <th>Petrol_Consumption</th>\n",
       "      <td>-0.005058</td>\n",
       "    </tr>\n",
       "  </tbody>\n",
       "</table>\n",
       "</div>"
      ],
      "text/plain": [
       "                              Coefficient\n",
       "Average_income                  -0.000107\n",
       "Paved_Highways                  -0.000152\n",
       "Population_Driver_licence(%)     2.110354\n",
       "Petrol_Consumption              -0.005058"
      ]
     },
     "execution_count": 51,
     "metadata": {},
     "output_type": "execute_result"
    }
   ],
   "source": [
    "coeff_df = pd.DataFrame(regressor.coef_, X.columns, columns=['Coefficient']) \n",
    "coeff_df"
   ]
  },
  {
   "cell_type": "code",
   "execution_count": 52,
   "id": "baaf4c1a",
   "metadata": {
    "scrolled": false
   },
   "outputs": [
    {
     "data": {
      "text/html": [
       "<div>\n",
       "<style scoped>\n",
       "    .dataframe tbody tr th:only-of-type {\n",
       "        vertical-align: middle;\n",
       "    }\n",
       "\n",
       "    .dataframe tbody tr th {\n",
       "        vertical-align: top;\n",
       "    }\n",
       "\n",
       "    .dataframe thead th {\n",
       "        text-align: right;\n",
       "    }\n",
       "</style>\n",
       "<table border=\"1\" class=\"dataframe\">\n",
       "  <thead>\n",
       "    <tr style=\"text-align: right;\">\n",
       "      <th></th>\n",
       "      <th>Actual</th>\n",
       "      <th>Predicted</th>\n",
       "    </tr>\n",
       "  </thead>\n",
       "  <tbody>\n",
       "    <tr>\n",
       "      <th>29</th>\n",
       "      <td>9.0</td>\n",
       "      <td>7.962130</td>\n",
       "    </tr>\n",
       "    <tr>\n",
       "      <th>4</th>\n",
       "      <td>8.0</td>\n",
       "      <td>9.252421</td>\n",
       "    </tr>\n",
       "    <tr>\n",
       "      <th>26</th>\n",
       "      <td>8.0</td>\n",
       "      <td>7.763302</td>\n",
       "    </tr>\n",
       "    <tr>\n",
       "      <th>30</th>\n",
       "      <td>7.0</td>\n",
       "      <td>7.481077</td>\n",
       "    </tr>\n",
       "    <tr>\n",
       "      <th>32</th>\n",
       "      <td>8.0</td>\n",
       "      <td>7.696914</td>\n",
       "    </tr>\n",
       "    <tr>\n",
       "      <th>37</th>\n",
       "      <td>7.0</td>\n",
       "      <td>7.003346</td>\n",
       "    </tr>\n",
       "    <tr>\n",
       "      <th>34</th>\n",
       "      <td>8.0</td>\n",
       "      <td>8.370428</td>\n",
       "    </tr>\n",
       "    <tr>\n",
       "      <th>40</th>\n",
       "      <td>7.0</td>\n",
       "      <td>7.885720</td>\n",
       "    </tr>\n",
       "    <tr>\n",
       "      <th>7</th>\n",
       "      <td>8.0</td>\n",
       "      <td>8.646102</td>\n",
       "    </tr>\n",
       "    <tr>\n",
       "      <th>10</th>\n",
       "      <td>8.0</td>\n",
       "      <td>7.527290</td>\n",
       "    </tr>\n",
       "  </tbody>\n",
       "</table>\n",
       "</div>"
      ],
      "text/plain": [
       "    Actual  Predicted\n",
       "29     9.0   7.962130\n",
       "4      8.0   9.252421\n",
       "26     8.0   7.763302\n",
       "30     7.0   7.481077\n",
       "32     8.0   7.696914\n",
       "37     7.0   7.003346\n",
       "34     8.0   8.370428\n",
       "40     7.0   7.885720\n",
       "7      8.0   8.646102\n",
       "10     8.0   7.527290"
      ]
     },
     "execution_count": 52,
     "metadata": {},
     "output_type": "execute_result"
    }
   ],
   "source": [
    "y_pred = regressor.predict(X_test)\n",
    "df = pd.DataFrame({'Actual': y_test, 'Predicted': y_pred})\n",
    "df"
   ]
  },
  {
   "cell_type": "code",
   "execution_count": 53,
   "id": "5ddd3842",
   "metadata": {
    "scrolled": false
   },
   "outputs": [
    {
     "data": {
      "image/png": "[encoded data removed]",
      "text/plain": [
       "<Figure size 432x288 with 1 Axes>"
      ]
     },
     "metadata": {
      "needs_background": "light"
     },
     "output_type": "display_data"
    }
   ],
   "source": [
    "df.plot(kind='bar')\n",
    "plt.grid(which='major', linestyle='-', linewidth='0.5', color='black') \n",
    "plt.grid(which='minor', linestyle=':', linewidth='0.5', color='black') \n",
    "plt.show()"
   ]
  },
  {
   "cell_type": "markdown",
   "id": "cf88b65f",
   "metadata": {},
   "source": [
    "## 3.3.2. Задание*\n",
    "### Задача:\n",
    "#### Экспериментально получены N − значений величины Y при различных значениях величины X. Построить полиномы первой и второй степени, аппроксимирующие результаты эксперимента, с применением метода наименьших квадратов. Результаты выводятся в виде таблиц значений и графиков, полученных полиномов.\n",
    "\n",
    "![wb4_ph1](photos/wb4_ph1.png)\n",
    "\n",
    "### Решение / Ответ:\n",
    "#### < Вариант 10 >"
   ]
  },
  {
   "cell_type": "code",
   "execution_count": 54,
   "id": "11207cb7",
   "metadata": {},
   "outputs": [],
   "source": [
    "x = np.linspace(0.0, 1.0, 6)\n",
    "y = np.array([6.0, 3.0, 2.0, 6.0, 2.0, 5.0])\n",
    "\n",
    "def polinom_1(x, y):\n",
    "    A = np.vstack([x, np.ones(len(x))]).T\n",
    "    m, c = np.linalg.lstsq(A, y, rcond = None)[0]\n",
    "    print(m, c)\n",
    "    \n",
    "    plt.plot(x, y, 'D', markersize=5)\n",
    "    plt.plot(x, m * x + c, '-', lw=2)\n",
    "    plt.grid()\n",
    "    plt.show()\n",
    "\n",
    "def polinom_2(x, y):\n",
    "    A = vstack((x**2, x, ones(len(x)))).T\n",
    "    s = np.linalg.lstsq(A, y, rcond = None)[0]\n",
    "    print(s)\n",
    "    \n",
    "    x_prec = linspace(min(x), max(x))\n",
    "    \n",
    "    plt.plot(x, y, 'D')\n",
    "    plt.plot(x_prec, s[0] * x_prec**2 + s[1] * x_prec + s[2], '-', lw=2)\n",
    "    plt.grid()\n",
    "    plt.show()"
   ]
  },
  {
   "cell_type": "code",
   "execution_count": 55,
   "id": "c52b2711",
   "metadata": {},
   "outputs": [
    {
     "name": "stdout",
     "output_type": "stream",
     "text": [
      "-0.5714285714285755 4.2857142857142865\n"
     ]
    },
    {
     "data": {
      "image/png": "[encoded data removed]",
      "text/plain": [
       "<Figure size 432x288 with 1 Axes>"
      ]
     },
     "metadata": {
      "needs_background": "light"
     },
     "output_type": "display_data"
    }
   ],
   "source": [
    "polinom_1(x, y)"
   ]
  },
  {
   "cell_type": "code",
   "execution_count": 56,
   "id": "73212437",
   "metadata": {},
   "outputs": [
    {
     "name": "stdout",
     "output_type": "stream",
     "text": [
      "[ 8.03571429 -8.60714286  5.35714286]\n"
     ]
    },
    {
     "data": {
      "image/png": "[encoded data removed]",
      "text/plain": [
       "<Figure size 432x288 with 1 Axes>"
      ]
     },
     "metadata": {
      "needs_background": "light"
     },
     "output_type": "display_data"
    }
   ],
   "source": [
    "polinom_2(x, y)"
   ]
  }
 ],
 "metadata": {
  "kernelspec": {
   "display_name": "Python 3 (ipykernel)",
   "language": "python",
   "name": "python3"
  },
  "language_info": {
   "codemirror_mode": {
    "name": "ipython",
    "version": 3
   },
   "file_extension": ".py",
   "mimetype": "text/x-python",
   "name": "python",
   "nbconvert_exporter": "python",
   "pygments_lexer": "ipython3",
   "version": "3.9.12"
  }
 },
 "nbformat": 4,
 "nbformat_minor": 5
}
