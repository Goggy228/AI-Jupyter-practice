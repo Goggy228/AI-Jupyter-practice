{
 "cells": [
  {
   "cell_type": "markdown",
   "id": "b5dd33e8",
   "metadata": {},
   "source": [
    "Рабочая тетрадь 2 (Посабцев С.О. БББО-04-21)"
   ]
  },
  {
   "cell_type": "markdown",
   "id": "73494101",
   "metadata": {},
   "source": [
    "**1.2.1 Пример**\n",
    "Создать массив 5x2. Создать массив 5x2. Вывести все значения массива, значение элемента с индексом (3,1) и второй столбец. \n",
    "Индексация начинается с нуля."
   ]
  },
  {
   "cell_type": "code",
   "execution_count": 1,
   "id": "4186db7f",
   "metadata": {},
   "outputs": [
    {
     "name": "stdout",
     "output_type": "stream",
     "text": [
      "[[ 1  2]\n",
      " [ 3  4]\n",
      " [ 5  6]\n",
      " [ 7  8]\n",
      " [ 9 10]]\n",
      "8\n",
      "[3 4]\n"
     ]
    }
   ],
   "source": [
    "import numpy as np\n",
    "x = np.array([[1, 2], [3, 4], [5, 6], [7, 8], [9,10]])\n",
    "print(x)\n",
    "print(x[3][1])\n",
    "print(x[1])"
   ]
  },
  {
   "cell_type": "markdown",
   "id": "7652eba1",
   "metadata": {},
   "source": [
    "**1.2.2 Пример**\n",
    "Пример. Выполнить следующее:\n",
    "1.\tСоздать вектор (одномерный массив) размера 10, заполненный нулями.\n",
    "2.\tСоздать вектор размера 10, заполненный единицами.\n",
    "3.\tСоздать вектор размера 10, заполненный заданным числом.\n",
    "4.\tСоздать вектор со значениями от 10 до 19."
   ]
  },
  {
   "cell_type": "code",
   "execution_count": 2,
   "id": "5a9352ea",
   "metadata": {},
   "outputs": [
    {
     "name": "stdout",
     "output_type": "stream",
     "text": [
      "[0. 0. 0. 0. 0. 0. 0. 0. 0. 0.] \n",
      " [1. 1. 1. 1. 1. 1. 1. 1. 1. 1.] \n",
      " [5 5 5 5 5 5 5 5 5 5] \n",
      " [10 11 12 13 14 15 16 17 18 19]\n"
     ]
    }
   ],
   "source": [
    "a = np.zeros(10)\n",
    "b = np.ones(10)\n",
    "c = np.full(10, 5)\n",
    "d = np.arange(10, 20)\n",
    "print(a, \"\\n\", b, \"\\n\", c, \"\\n\", d)"
   ]
  },
  {
   "cell_type": "markdown",
   "id": "5fa0fcbd",
   "metadata": {},
   "source": [
    "**1.2.3 Пример**\n",
    "\n",
    "Создать массив 10x10 со случайными значениями, найти минимум, максимум и среднее значение."
   ]
  },
  {
   "cell_type": "code",
   "execution_count": 7,
   "id": "92fc9c54",
   "metadata": {},
   "outputs": [
    {
     "name": "stdout",
     "output_type": "stream",
     "text": [
      "0.001089638268691795 0.9843901281963495 0.5634389042562209\n"
     ]
    }
   ],
   "source": [
    "Z = np.random.random((10, 10))\n",
    "Zmin, Zmax, Zmean = Z.min(), Z.max(), Z.mean()\n",
    "print(Zmin, Zmax, Zmean)"
   ]
  },
  {
   "cell_type": "markdown",
   "id": "4605edda",
   "metadata": {},
   "source": [
    "**1.2.4 Пример** \n",
    "Задать матрицу размерности 5 на 5 и поменять 2строки в матрице местами."
   ]
  },
  {
   "cell_type": "code",
   "execution_count": 8,
   "id": "dac08727",
   "metadata": {},
   "outputs": [
    {
     "name": "stdout",
     "output_type": "stream",
     "text": [
      "[[ 5  6  7  8  9]\n",
      " [ 0  1  2  3  4]\n",
      " [10 11 12 13 14]\n",
      " [15 16 17 18 19]\n",
      " [20 21 22 23 24]]\n"
     ]
    }
   ],
   "source": [
    "A = np.arange(25).reshape(5,5)\n",
    "A[[0,1]] = A[[1, 0]]\n",
    "print(A)"
   ]
  },
  {
   "cell_type": "markdown",
   "id": "4c8dba72",
   "metadata": {},
   "source": [
    "**1.2.5 Пример**\n",
    "\n",
    "Выяснить результат следующих выражений:\n",
    "- 0 * np.nan\n",
    "- np.nan == np.nan\n",
    "- np.inf >np.nan\n",
    "- np.nan - np.nan\n",
    "- 0.3 == 3 * 0.1\n"
   ]
  },
  {
   "cell_type": "code",
   "execution_count": 9,
   "id": "fdcf5cce",
   "metadata": {},
   "outputs": [
    {
     "name": "stdout",
     "output_type": "stream",
     "text": [
      "nan\n",
      "False\n",
      "False\n",
      "nan\n",
      "False\n"
     ]
    }
   ],
   "source": [
    "print(0 * np.nan)\n",
    "print(np.nan == np.nan)\n",
    "print(np.inf >np.nan)\n",
    "print(np.nan - np.nan)\n",
    "print(0.3 == 3 * 0.1)\n"
   ]
  },
  {
   "cell_type": "markdown",
   "id": "0edcf3fa",
   "metadata": {},
   "source": [
    "**1.2.6 Пример.**\n",
    "Отсортировать массив."
   ]
  },
  {
   "cell_type": "code",
   "execution_count": 11,
   "id": "96446a1a",
   "metadata": {},
   "outputs": [
    {
     "name": "stdout",
     "output_type": "stream",
     "text": [
      "[1 2 3 4 5 6 7 8]\n"
     ]
    }
   ],
   "source": [
    "arr = np.array([2, 1, 5, 3, 7, 4, 6, 8])\n",
    "print(np.sort(arr))"
   ]
  },
  {
   "cell_type": "markdown",
   "id": "908fa1c7",
   "metadata": {},
   "source": [
    "**1.3.1 Задание**\n",
    "Создать 8x8 матрицу и заполнить её в шахматном порядке нулями и единицами."
   ]
  },
  {
   "cell_type": "code",
   "execution_count": 30,
   "id": "d9c7d5e8",
   "metadata": {},
   "outputs": [
    {
     "name": "stdout",
     "output_type": "stream",
     "text": [
      "[[0. 1. 0. 1. 0. 1. 0. 1.]\n",
      " [1. 0. 1. 0. 1. 0. 1. 0.]\n",
      " [0. 1. 0. 1. 0. 1. 0. 1.]\n",
      " [1. 0. 1. 0. 1. 0. 1. 0.]\n",
      " [0. 1. 0. 1. 0. 1. 0. 1.]\n",
      " [1. 0. 1. 0. 1. 0. 1. 0.]\n",
      " [0. 1. 0. 1. 0. 1. 0. 1.]\n",
      " [1. 0. 1. 0. 1. 0. 1. 0.]]\n"
     ]
    }
   ],
   "source": [
    "Z = np.zeros((8,8))\n",
    "Z[1::2,::2] = 1\n",
    "Z[::2,1::2] = 1\n",
    "print(Z)"
   ]
  },
  {
   "cell_type": "markdown",
   "id": "2edb76dc",
   "metadata": {},
   "source": [
    "**1.3.2 Задание**\n",
    "\n",
    "Создать 5x5 матрицу со значениями в строках от 0 до 4. Для создания необходимо использовать функцию arrange."
   ]
  },
  {
   "cell_type": "code",
   "execution_count": null,
   "id": "b0481e12",
   "metadata": {},
   "outputs": [],
   "source": []
  },
  {
   "cell_type": "markdown",
   "id": "ad3ed0b8",
   "metadata": {},
   "source": [
    "**1.3.3 Задание**\n",
    "\n",
    "Создать массив 3x3x3 со случайными значениями."
   ]
  },
  {
   "cell_type": "code",
   "execution_count": null,
   "id": "95202efb",
   "metadata": {},
   "outputs": [],
   "source": []
  },
  {
   "cell_type": "markdown",
   "id": "b21ad7e5",
   "metadata": {},
   "source": [
    "**1.3.4 Задание**\n",
    "\n",
    "Создать матрицу с 0 внутри, и 1 на границах."
   ]
  },
  {
   "cell_type": "code",
   "execution_count": null,
   "id": "143b4859",
   "metadata": {},
   "outputs": [],
   "source": []
  },
  {
   "cell_type": "markdown",
   "id": "15d2d559",
   "metadata": {},
   "source": [
    "**1.3.5 Задание**\n",
    "\n",
    "Создайте массив и отсортируйте его по убыванию."
   ]
  },
  {
   "cell_type": "code",
   "execution_count": null,
   "id": "2ae851dd",
   "metadata": {},
   "outputs": [],
   "source": []
  },
  {
   "cell_type": "markdown",
   "id": "d55012a7",
   "metadata": {},
   "source": [
    "**1.3.6 Задание**\n",
    "\n",
    "Создайте матрицу, выведите ее форму, размер и размерность"
   ]
  },
  {
   "cell_type": "code",
   "execution_count": null,
   "id": "a2bf9e4f",
   "metadata": {},
   "outputs": [],
   "source": []
  },
  {
   "cell_type": "code",
   "execution_count": null,
   "id": "60b67143",
   "metadata": {},
   "outputs": [],
   "source": []
  },
  {
   "cell_type": "code",
   "execution_count": null,
   "id": "8639cc5f",
   "metadata": {},
   "outputs": [],
   "source": []
  }
 ],
 "metadata": {
  "kernelspec": {
   "display_name": "Python 3 (ipykernel)",
   "language": "python",
   "name": "python3"
  },
  "language_info": {
   "codemirror_mode": {
    "name": "ipython",
    "version": 3
   },
   "file_extension": ".py",
   "mimetype": "text/x-python",
   "name": "python",
   "nbconvert_exporter": "python",
   "pygments_lexer": "ipython3",
   "version": "3.9.12"
  }
 },
 "nbformat": 4,
 "nbformat_minor": 5
}
